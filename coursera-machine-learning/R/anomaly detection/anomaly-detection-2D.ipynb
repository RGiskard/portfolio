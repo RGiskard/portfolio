{
 "cells": [
  {
   "cell_type": "code",
   "execution_count": null,
   "metadata": {
    "collapsed": true
   },
   "outputs": [],
   "source": [
    "#En este ejemplo implementaremos el algoritmo de detección de anomalías y lo aplicaremos para detectar fallas en servidores\n",
    "#de una red. Este dataset solo comprende 2 dimensiones.\n",
    "\n",
    "#Los atributos del dataset son el rendimiento(mb/s) y la latencia(ms) de respuesta de cada servidor.\n",
    "\n",
    "#Utilizaremos un modelo Gaussiano para detectar observaciones anómalas en el dataset."
   ]
  },
  {
   "cell_type": "code",
   "execution_count": 101,
   "metadata": {
    "collapsed": true
   },
   "outputs": [],
   "source": [
    "#Configuración de tamaño de gráficos\n",
    "options(repr.plot.width=5, repr.plot.height=4, scipen = 99)"
   ]
  },
  {
   "cell_type": "code",
   "execution_count": 111,
   "metadata": {
    "collapsed": false
   },
   "outputs": [
    {
     "name": "stdout",
     "output_type": "stream",
     "text": [
      "package 'AtmRay' successfully unpacked and MD5 sums checked\n",
      "\n",
      "The downloaded binary packages are in\n",
      "\tC:\\Users\\Administrator\\AppData\\Local\\Temp\\Rtmp0cAhrs\\downloaded_packages\n"
     ]
    }
   ],
   "source": [
    "#Instalación y carga de paquetes necesarios\n",
    "list.of.packages <- c('ggplot2', 'R.matlab', 'ggthemes', 'AtmRay')\n",
    "\n",
    "new.packages <- list.of.packages[!(list.of.packages %in% installed.packages()[,\"Package\"])]\n",
    "if(length(new.packages)) install.packages(new.packages, repos = \"https://cran.r-project.org\")\n",
    "\n",
    "library(ggplot2)\n",
    "library(R.matlab)\n",
    "library(ggthemes)\n",
    "library(AtmRay)"
   ]
  },
  {
   "cell_type": "code",
   "execution_count": 103,
   "metadata": {
    "collapsed": false
   },
   "outputs": [
    {
     "name": "stdout",
     "output_type": "stream",
     "text": [
      "'data.frame':\t307 obs. of  5 variables:\n",
      " $ X.1   : num  13 13.4 14.2 14.9 13.6 ...\n",
      " $ X.2   : num  14.7 13.8 15.9 16.2 14 ...\n",
      " $ Xval.1: num  15.8 13.6 14.9 13.6 13.5 ...\n",
      " $ Xval.2: num  14.9 15.3 16.5 14 15.6 ...\n",
      " $ yval  : num  0 0 0 0 0 0 0 0 0 1 ...\n"
     ]
    },
    {
     "data": {
      "text/html": [
       "<table>\n",
       "<thead><tr><th scope=col>X.1</th><th scope=col>X.2</th><th scope=col>Xval.1</th><th scope=col>Xval.2</th><th scope=col>yval</th></tr></thead>\n",
       "<tbody>\n",
       "\t<tr><td>13.04682</td><td>14.74115</td><td>15.79026</td><td>14.92102</td><td>0       </td></tr>\n",
       "\t<tr><td>13.40852</td><td>13.76327</td><td>13.63962</td><td>15.32996</td><td>0       </td></tr>\n",
       "\t<tr><td>14.19591</td><td>15.85318</td><td>14.86590</td><td>16.47387</td><td>0       </td></tr>\n",
       "\t<tr><td>14.91470</td><td>16.17426</td><td>13.58468</td><td>13.98931</td><td>0       </td></tr>\n",
       "\t<tr><td>13.57670</td><td>14.04285</td><td>13.46404</td><td>15.63533</td><td>0       </td></tr>\n",
       "\t<tr><td>13.92240</td><td>13.40647</td><td>12.94889</td><td>16.14007</td><td>0       </td></tr>\n",
       "</tbody>\n",
       "</table>\n"
      ],
      "text/latex": [
       "\\begin{tabular}{r|lllll}\n",
       " X.1 & X.2 & Xval.1 & Xval.2 & yval\\\\\n",
       "\\hline\n",
       "\t 13.04682 & 14.74115 & 15.79026 & 14.92102 & 0       \\\\\n",
       "\t 13.40852 & 13.76327 & 13.63962 & 15.32996 & 0       \\\\\n",
       "\t 14.19591 & 15.85318 & 14.86590 & 16.47387 & 0       \\\\\n",
       "\t 14.91470 & 16.17426 & 13.58468 & 13.98931 & 0       \\\\\n",
       "\t 13.57670 & 14.04285 & 13.46404 & 15.63533 & 0       \\\\\n",
       "\t 13.92240 & 13.40647 & 12.94889 & 16.14007 & 0       \\\\\n",
       "\\end{tabular}\n"
      ],
      "text/markdown": [
       "\n",
       "X.1 | X.2 | Xval.1 | Xval.2 | yval | \n",
       "|---|---|---|---|---|---|\n",
       "| 13.04682 | 14.74115 | 15.79026 | 14.92102 | 0        | \n",
       "| 13.40852 | 13.76327 | 13.63962 | 15.32996 | 0        | \n",
       "| 14.19591 | 15.85318 | 14.86590 | 16.47387 | 0        | \n",
       "| 14.91470 | 16.17426 | 13.58468 | 13.98931 | 0        | \n",
       "| 13.57670 | 14.04285 | 13.46404 | 15.63533 | 0        | \n",
       "| 13.92240 | 13.40647 | 12.94889 | 16.14007 | 0        | \n",
       "\n",
       "\n"
      ],
      "text/plain": [
       "  X.1      X.2      Xval.1   Xval.2   yval\n",
       "1 13.04682 14.74115 15.79026 14.92102 0   \n",
       "2 13.40852 13.76327 13.63962 15.32996 0   \n",
       "3 14.19591 15.85318 14.86590 16.47387 0   \n",
       "4 14.91470 16.17426 13.58468 13.98931 0   \n",
       "5 13.57670 14.04285 13.46404 15.63533 0   \n",
       "6 13.92240 13.40647 12.94889 16.14007 0   "
      ]
     },
     "metadata": {},
     "output_type": "display_data"
    },
    {
     "name": "stdout",
     "output_type": "stream",
     "text": [
      "'data.frame':\t307 obs. of  2 variables:\n",
      " $ Xval.1: num  15.8 13.6 14.9 13.6 13.5 ...\n",
      " $ Xval.2: num  14.9 15.3 16.5 14 15.6 ...\n",
      " num [1:307] 0 0 0 0 0 0 0 0 0 1 ...\n",
      "'data.frame':\t307 obs. of  2 variables:\n",
      " $ X.1: num  13 13.4 14.2 14.9 13.6 ...\n",
      " $ X.2: num  14.7 13.8 15.9 16.2 14 ...\n"
     ]
    }
   ],
   "source": [
    "#Carga de datos\n",
    "X <- as.data.frame(readMat('ex8data1.mat'))\n",
    "\n",
    "str(X)\n",
    "head(X)\n",
    "\n",
    "Xval <- data.frame(Xval.1 = X$Xval.1, Xval.2 = X$Xval.2)\n",
    "yval <- X$yval\n",
    "X <- X[,1:2]\n",
    "\n",
    "str(Xval)\n",
    "str(yval)\n",
    "str(X)"
   ]
  },
  {
   "cell_type": "code",
   "execution_count": 104,
   "metadata": {
    "collapsed": false
   },
   "outputs": [
    {
     "data": {},
     "metadata": {},
     "output_type": "display_data"
    },
    {
     "data": {
      "image/png": "[encoded data removed]",
      "text/plain": [
       "plot without title"
      ]
     },
     "metadata": {},
     "output_type": "display_data"
    }
   ],
   "source": [
    "#Visualizamos los datos\n",
    "ggplot(data = X, aes(x = X.1, y = X.2)) + geom_point() + xlab('Rendimiento (mb/s)') + ylab('Latencia (ms)') + theme_tufte()"
   ]
  },
  {
   "cell_type": "code",
   "execution_count": 105,
   "metadata": {
    "collapsed": false
   },
   "outputs": [
    {
     "data": {
      "text/html": [
       "<dl class=dl-horizontal>\n",
       "\t<dt>X.1</dt>\n",
       "\t\t<dd>14.1122257839456</dd>\n",
       "\t<dt>X.2</dt>\n",
       "\t\t<dd>14.9977105081362</dd>\n",
       "</dl>\n"
      ],
      "text/latex": [
       "\\begin{description*}\n",
       "\\item[X.1] 14.1122257839456\n",
       "\\item[X.2] 14.9977105081362\n",
       "\\end{description*}\n"
      ],
      "text/markdown": [
       "X.1\n",
       ":   14.1122257839456X.2\n",
       ":   14.9977105081362\n",
       "\n"
      ],
      "text/plain": [
       "     X.1      X.2 \n",
       "14.11223 14.99771 "
      ]
     },
     "metadata": {},
     "output_type": "display_data"
    },
    {
     "data": {
      "text/html": [
       "<dl class=dl-horizontal>\n",
       "\t<dt>X.1</dt>\n",
       "\t\t<dd>1.83862040504188</dd>\n",
       "\t<dt>X.2</dt>\n",
       "\t\t<dd>1.7153327338707</dd>\n",
       "</dl>\n"
      ],
      "text/latex": [
       "\\begin{description*}\n",
       "\\item[X.1] 1.83862040504188\n",
       "\\item[X.2] 1.7153327338707\n",
       "\\end{description*}\n"
      ],
      "text/markdown": [
       "X.1\n",
       ":   1.83862040504188X.2\n",
       ":   1.7153327338707\n",
       "\n"
      ],
      "text/plain": [
       "     X.1      X.2 \n",
       "1.838620 1.715333 "
      ]
     },
     "metadata": {},
     "output_type": "display_data"
    }
   ],
   "source": [
    "#Ahora tenemos que estimar un modelo Gaussiano para cada uno de los atributos, es decir, debemos encontrar los parámetros\n",
    "#mu y sigma cuadrado para cada modelo (promedio y varianza)\n",
    "\n",
    "estimateGaussian <- function(X) {\n",
    "    \n",
    "    m <- nrow(X)\n",
    "    n <- ncol(X)\n",
    "    mu <- rep(0, n)\n",
    "    sigma2 <- rep(0, n)\n",
    "    mu <- colMeans(X)\n",
    "    sigma2 <- apply(X, 2, var)\n",
    "    \n",
    "    return(list(mu = mu, sigma2 = sigma2))\n",
    "}\n",
    "\n",
    "results <- estimateGaussian(X)\n",
    "mu <- results$mu\n",
    "sigma2 <- results$sigma2\n",
    "\n",
    "mu\n",
    "sigma2"
   ]
  },
  {
   "cell_type": "code",
   "execution_count": 231,
   "metadata": {
    "collapsed": false
   },
   "outputs": [
    {
     "name": "stderr",
     "output_type": "stream",
     "text": [
      "Warning message in sweep(X, MARGIN = 2, mu, FUN = \"-\"):\n",
      "\"STATS does not recycle exactly across MARGIN\""
     ]
    },
    {
     "ename": "ERROR",
     "evalue": "Error in X %*% solve(Sigma2): argumentos no compatibles\n",
     "output_type": "error",
     "traceback": [
      "Error in X %*% solve(Sigma2): argumentos no compatibles\nTraceback:\n",
      "1. multivariateGaussian(X, mu, sigma2)",
      "2. rowSums((X %*% solve(Sigma2)) * X)   # at line 14 of file <text>",
      "3. is.data.frame(x)"
     ]
    }
   ],
   "source": [
    "#Calculamos la densidad de la normal multivariada de cada observación en X\n",
    "\n",
    "multivariateGaussian <- function(X, mu, Sigma2) {\n",
    "    \n",
    "    k <- length(mu)\n",
    "    \n",
    "    if(is.vector(Sigma2)) {\n",
    "        Sigma2 <- diag(Sigma2)\n",
    "    }\n",
    "    \n",
    "    X <- as.matrix(X)\n",
    "    \n",
    "    X <- sweep(X, MARGIN=2, mu, FUN=\"-\")\n",
    "    p <- (2 * pi) ^ (- k / 2) * det(Sigma2) ^ (-0.5) * (exp(-0.5 * rowSums((X %*% solve(Sigma2)) * X)))\n",
    "    \n",
    "    return(p)\n",
    "}\n",
    "\n",
    "p <- multivariateGaussian(X, mu, sigma2)"
   ]
  },
  {
   "cell_type": "code",
   "execution_count": 232,
   "metadata": {
    "collapsed": false
   },
   "outputs": [
    {
     "data": {
      "image/png": "[encoded data removed]",
      "text/plain": [
       "Plot with title \"Desempeño de servidores y regiones anómalas\""
      ]
     },
     "metadata": {},
     "output_type": "display_data"
    }
   ],
   "source": [
    "#Visualizamos las gráficas de contorno para la distribución Gaussiana ajustada.\n",
    "plotOutliers <- function() {\n",
    "    \n",
    "    xy_seq <- seq(0, 35, 0.5)\n",
    "    mg <- meshgrid(xy_seq, xy_seq)\n",
    "    X1 <- c(mg$x)\n",
    "    X2 <- c(mg$y)\n",
    "\n",
    "    Z <- multivariateGaussian(cbind(X1, X2), mu, sigma2)\n",
    "    Z <- matrix(Z, length(xy_seq), length(xy_seq))\n",
    "\n",
    "    plot(X[,1], X[,2], col = 'blue', xlab = 'Rendimiento (mb/s)', ylab = 'Latencia (ms)', pch = 20, \n",
    "         main = 'Desempeño de servidores y regiones anómalas')\n",
    "    if (sum(is.infinite(Z)) == 0) {\n",
    "        contour(xy_seq, xy_seq, Z, levels = 10 ^ t(seq(-20,0,3)) ,add = TRUE, drawlabels = FALSE, col = \"green\")\n",
    "    }\n",
    "}\n",
    "\n",
    "plotOutliers()"
   ]
  },
  {
   "cell_type": "code",
   "execution_count": 233,
   "metadata": {
    "collapsed": false
   },
   "outputs": [
    {
     "name": "stdout",
     "output_type": "stream",
     "text": [
      "Mejor Epsilon encontrado usando el set de validación:  0.00008961568\n",
      "Mejor F1 en el set de validación:  0.875"
     ]
    }
   ],
   "source": [
    "#Selección del umbral Epsilon\n",
    "\n",
    "#Ahora que estimamos los parámetros Gaussianos buscaremos las observaciones que tienen una probabilidad alta dada esta\n",
    "#distribucion y cuales tienen una probabilidad más baja (las anomalías). Para ello utilizaremos el F1-score sobre un test\n",
    "#de validación.\n",
    "\n",
    "pval <- multivariateGaussian(Xval, mu, sigma2)\n",
    "\n",
    "selectTreshold <- function(yval, pval) {\n",
    "    \n",
    "    bestEpsilon <- 0\n",
    "    bestF1 <- 0\n",
    "    F1 <- 0\n",
    "    \n",
    "    stepsize <- (max(pval) - min(pval)) / 1000\n",
    "    \n",
    "    for(epsilon in seq(min(pval),max(pval),stepsize)) {\n",
    "        \n",
    "        predictions <- as.integer(pval < epsilon)\n",
    "        \n",
    "        TP <- sum((yval == 1) & (predictions == 1))\n",
    "        FN <- sum((yval == 1) & (predictions == 0))\n",
    "        FP <- sum((yval == 0) & (predictions == 1))\n",
    "        \n",
    "        precision <- TP / (TP + FP) \n",
    "        recall <- TP / (TP + FN)\n",
    "        \n",
    "        F1 <- 2 * precision * recall / (precision + recall)\n",
    "        \n",
    "        if (!is.na(F1) && F1 > bestF1) {\n",
    "            \n",
    "            bestF1 <- F1\n",
    "            bestEpsilon <- epsilon\n",
    "        }\n",
    "    }\n",
    "    \n",
    "    return(list(epsilon = bestEpsilon, F1 = bestF1))\n",
    "}\n",
    "\n",
    "results <- selectTreshold(yval, pval)\n",
    "epsilon <- results$epsilon\n",
    "F1 <- results$F1\n",
    "\n",
    "cat('Mejor Epsilon encontrado usando el set de validación: ', epsilon)\n",
    "cat('\\nMejor F1 en el set de validación: ', F1)"
   ]
  },
  {
   "cell_type": "code",
   "execution_count": 234,
   "metadata": {
    "collapsed": false
   },
   "outputs": [
    {
     "data": {
      "image/png": "[encoded data removed]",
      "text/plain": [
       "Plot with title \"Desempeño de servidores y regiones anómalas\""
      ]
     },
     "metadata": {},
     "output_type": "display_data"
    }
   ],
   "source": [
    "#Detectamos los outliers y volvemos a graficar\n",
    "outliers <- which((p < epsilon) %in% TRUE)\n",
    "plotOutliers()\n",
    "points(X[outliers, 1], X[outliers, 2], pch = 4, col = 'red')"
   ]
  }
 ],
 "metadata": {
  "kernelspec": {
   "display_name": "R",
   "language": "R",
   "name": "ir"
  },
  "language_info": {
   "codemirror_mode": "r",
   "file_extension": ".r",
   "mimetype": "text/x-r-source",
   "name": "R",
   "pygments_lexer": "r",
   "version": "3.3.2"
  }
 },
 "nbformat": 4,
 "nbformat_minor": 0
}
