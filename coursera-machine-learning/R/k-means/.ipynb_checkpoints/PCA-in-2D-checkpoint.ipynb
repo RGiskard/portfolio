{
 "cells": [
  {
   "cell_type": "code",
   "execution_count": 1,
   "metadata": {
    "collapsed": true
   },
   "outputs": [],
   "source": [
    "#En este ejemplo utilizaremos análisis del componente principal (PCA) para realizar reducción de dimensionalidad en un\n",
    "#dataset 2D. En el ejemplo visualizaremos que sucede cuando se utiliza PCA para reducir de 2D a 1D. "
   ]
  },
  {
   "cell_type": "code",
   "execution_count": 2,
   "metadata": {
    "collapsed": true
   },
   "outputs": [],
   "source": [
    "#Configuración de tamaño de gráficos\n",
    "options(repr.plot.width=5, repr.plot.height=4, scipen = 999)"
   ]
  },
  {
   "cell_type": "code",
   "execution_count": 8,
   "metadata": {
    "collapsed": false
   },
   "outputs": [],
   "source": [
    "#Instalación y carga de paquetes necesarios\n",
    "list.of.packages <- c('ggplot2', 'R.matlab', 'ggthemes')\n",
    "\n",
    "new.packages <- list.of.packages[!(list.of.packages %in% installed.packages()[,\"Package\"])]\n",
    "if(length(new.packages)) install.packages(new.packages, repos = \"https://cran.r-project.org\")\n",
    "\n",
    "library(ggplot2)\n",
    "library(R.matlab)\n",
    "library(ggthemes)"
   ]
  },
  {
   "cell_type": "code",
   "execution_count": 4,
   "metadata": {
    "collapsed": true
   },
   "outputs": [],
   "source": [
    "#Carga de datos\n",
    "X <- as.data.frame(readMat('ex7data1.mat'))"
   ]
  },
  {
   "cell_type": "code",
   "execution_count": 5,
   "metadata": {
    "collapsed": false
   },
   "outputs": [
    {
     "name": "stdout",
     "output_type": "stream",
     "text": [
      "'data.frame':\t50 obs. of  2 variables:\n",
      " $ X.1: num  3.38 4.53 2.66 2.77 2.85 ...\n",
      " $ X.2: num  3.39 5.85 4.41 3.72 4.18 ...\n"
     ]
    },
    {
     "data": {
      "text/html": [
       "<table>\n",
       "<thead><tr><th scope=col>X.1</th><th scope=col>X.2</th></tr></thead>\n",
       "<tbody>\n",
       "\t<tr><td>3.381563</td><td>3.389113</td></tr>\n",
       "\t<tr><td>4.527875</td><td>5.854178</td></tr>\n",
       "\t<tr><td>2.655682</td><td>4.411995</td></tr>\n",
       "\t<tr><td>2.765235</td><td>3.715414</td></tr>\n",
       "\t<tr><td>2.846560</td><td>4.175506</td></tr>\n",
       "\t<tr><td>3.890672</td><td>6.488381</td></tr>\n",
       "</tbody>\n",
       "</table>\n"
      ],
      "text/latex": [
       "\\begin{tabular}{r|ll}\n",
       " X.1 & X.2\\\\\n",
       "\\hline\n",
       "\t 3.381563 & 3.389113\\\\\n",
       "\t 4.527875 & 5.854178\\\\\n",
       "\t 2.655682 & 4.411995\\\\\n",
       "\t 2.765235 & 3.715414\\\\\n",
       "\t 2.846560 & 4.175506\\\\\n",
       "\t 3.890672 & 6.488381\\\\\n",
       "\\end{tabular}\n"
      ],
      "text/markdown": [
       "\n",
       "X.1 | X.2 | \n",
       "|---|---|---|---|---|---|\n",
       "| 3.381563 | 3.389113 | \n",
       "| 4.527875 | 5.854178 | \n",
       "| 2.655682 | 4.411995 | \n",
       "| 2.765235 | 3.715414 | \n",
       "| 2.846560 | 4.175506 | \n",
       "| 3.890672 | 6.488381 | \n",
       "\n",
       "\n"
      ],
      "text/plain": [
       "  X.1      X.2     \n",
       "1 3.381563 3.389113\n",
       "2 4.527875 5.854178\n",
       "3 2.655682 4.411995\n",
       "4 2.765235 3.715414\n",
       "5 2.846560 4.175506\n",
       "6 3.890672 6.488381"
      ]
     },
     "metadata": {},
     "output_type": "display_data"
    }
   ],
   "source": [
    "#Chequeamos la estructura de datos\n",
    "str(X)\n",
    "head(X)"
   ]
  },
  {
   "cell_type": "code",
   "execution_count": 9,
   "metadata": {
    "collapsed": false
   },
   "outputs": [
    {
     "data": {},
     "metadata": {},
     "output_type": "display_data"
    },
    {
     "data": {
      "image/png": "[encoded data removed]",
      "text/plain": [
       "plot without title"
      ]
     },
     "metadata": {},
     "output_type": "display_data"
    }
   ],
   "source": [
    "#Graficamos los datos\n",
    "ggplot() + geom_point(aes(x = X[,1], y = X[,2])) + xlab('X1') + ylab('X2') + ggtitle('Datos de ejemplo') + theme_tufte()"
   ]
  },
  {
   "cell_type": "code",
   "execution_count": 33,
   "metadata": {
    "collapsed": false
   },
   "outputs": [],
   "source": [
    "#Antes de realizar PCA debemos escalar los datos.\n",
    "X_norm <- scale(X)"
   ]
  },
  {
   "cell_type": "code",
   "execution_count": 40,
   "metadata": {
    "collapsed": false
   },
   "outputs": [],
   "source": [
    "#Ejecutamos el algoritmo PCA\n",
    "\n",
    "pca <- function(X) {\n",
    "    \n",
    "    m <- nrow(X)\n",
    "    n <- ncol(X)\n",
    "    \n",
    "    U <- rep(0, n)\n",
    "    S <- rep(0, n)\n",
    "    \n",
    "    #Calculamos la matriz de covarianza\n",
    "    Sigma <- (1 / m) * (t(X) %*% X) # matriz nxn\n",
    "    \n",
    "    USV <- svd(Sigma)\n",
    "    \n",
    "    return(USV)\n",
    "}\n",
    "\n",
    "USV <- pca(X_norm)"
   ]
  },
  {
   "cell_type": "code",
   "execution_count": 43,
   "metadata": {
    "collapsed": false
   },
   "outputs": [
    {
     "data": {
      "text/html": [
       "<dl>\n",
       "\t<dt>$d</dt>\n",
       "\t\t<dd><ol class=list-inline>\n",
       "\t<li>1.70081976881254</li>\n",
       "\t<li>0.259180231187457</li>\n",
       "</ol>\n",
       "</dd>\n",
       "\t<dt>$u</dt>\n",
       "\t\t<dd><table>\n",
       "<tbody>\n",
       "\t<tr><td>-0.7071068</td><td>-0.7071068</td></tr>\n",
       "\t<tr><td>-0.7071068</td><td> 0.7071068</td></tr>\n",
       "</tbody>\n",
       "</table>\n",
       "</dd>\n",
       "\t<dt>$v</dt>\n",
       "\t\t<dd><table>\n",
       "<tbody>\n",
       "\t<tr><td>-0.7071068</td><td>-0.7071068</td></tr>\n",
       "\t<tr><td>-0.7071068</td><td> 0.7071068</td></tr>\n",
       "</tbody>\n",
       "</table>\n",
       "</dd>\n",
       "</dl>\n"
      ],
      "text/latex": [
       "\\begin{description}\n",
       "\\item[\\$d] \\begin{enumerate*}\n",
       "\\item 1.70081976881254\n",
       "\\item 0.259180231187457\n",
       "\\end{enumerate*}\n",
       "\n",
       "\\item[\\$u] \\begin{tabular}{ll}\n",
       "\t -0.7071068 & -0.7071068\\\\\n",
       "\t -0.7071068 &  0.7071068\\\\\n",
       "\\end{tabular}\n",
       "\n",
       "\\item[\\$v] \\begin{tabular}{ll}\n",
       "\t -0.7071068 & -0.7071068\\\\\n",
       "\t -0.7071068 &  0.7071068\\\\\n",
       "\\end{tabular}\n",
       "\n",
       "\\end{description}\n"
      ],
      "text/markdown": [
       "$d\n",
       ":   1. 1.70081976881254\n",
       "2. 0.259180231187457\n",
       "\n",
       "\n",
       "\n",
       "$u\n",
       ":   \n",
       "| -0.7071068 | -0.7071068 | \n",
       "| -0.7071068 |  0.7071068 | \n",
       "\n",
       "\n",
       "\n",
       "$v\n",
       ":   \n",
       "| -0.7071068 | -0.7071068 | \n",
       "| -0.7071068 |  0.7071068 | \n",
       "\n",
       "\n",
       "\n",
       "\n",
       "\n"
      ],
      "text/plain": [
       "$d\n",
       "[1] 1.7008198 0.2591802\n",
       "\n",
       "$u\n",
       "           [,1]       [,2]\n",
       "[1,] -0.7071068 -0.7071068\n",
       "[2,] -0.7071068  0.7071068\n",
       "\n",
       "$v\n",
       "           [,1]       [,2]\n",
       "[1,] -0.7071068 -0.7071068\n",
       "[2,] -0.7071068  0.7071068\n"
      ]
     },
     "metadata": {},
     "output_type": "display_data"
    }
   ],
   "source": [
    "#U contiene el componente principal, S($d en este caso) contiene la matriz diagonal\n",
    "USV\n",
    "S <- USV$d\n",
    "U <- USV$u"
   ]
  },
  {
   "cell_type": "code",
   "execution_count": 100,
   "metadata": {
    "collapsed": false
   },
   "outputs": [
    {
     "data": {},
     "metadata": {},
     "output_type": "display_data"
    },
    {
     "data": {
      "image/png": "[encoded data removed]",
      "text/plain": [
       "plot without title"
      ]
     },
     "metadata": {},
     "output_type": "display_data"
    }
   ],
   "source": [
    "p1 <- c(mu)\n",
    "p2 <- mu + 1.5 * S[1] %*% t(U[,1])\n",
    "q2 <- mu + 1.5 * S[2] %*% t(U[,2])\n",
    "\n",
    "df <- data.frame(x1 = c(p1[1], p2[1], p1[1], q2[1]), x2 = c(p1[2], p2[2], p1[2], q2[2]))\n",
    "\n",
    "ggplot() + geom_point(aes(x = X[,1], y = X[,2])) + \n",
    "    geom_point(data = df[1:2,], aes(x=x1, y = x2, col = 'red')) +\n",
    "    geom_line(data = df[1:2,], aes(x=x1, y = x2, col = 'red')) +\n",
    "    geom_point(data = df[3:4,], aes(x=x1, y = x2, col = 'red')) +\n",
    "    geom_line(data = df[3:4,], aes(x=x1, y = x2, col = 'red')) +\n",
    "    xlab('X1') + ylab('X2') + ggtitle('Eigenvectores') + theme_tufte() + theme(legend.position=\"none\")   "
   ]
  },
  {
   "cell_type": "code",
   "execution_count": 102,
   "metadata": {
    "collapsed": false
   },
   "outputs": [
    {
     "data": {
      "text/html": [
       "<ol class=list-inline>\n",
       "\t<li>-0.707106781186548</li>\n",
       "\t<li>-0.707106781186548</li>\n",
       "</ol>\n"
      ],
      "text/latex": [
       "\\begin{enumerate*}\n",
       "\\item -0.707106781186548\n",
       "\\item -0.707106781186548\n",
       "\\end{enumerate*}\n"
      ],
      "text/markdown": [
       "1. -0.707106781186548\n",
       "2. -0.707106781186548\n",
       "\n",
       "\n"
      ],
      "text/plain": [
       "[1] -0.7071068 -0.7071068"
      ]
     },
     "metadata": {},
     "output_type": "display_data"
    }
   ],
   "source": [
    "#El gráfico muestra los componentes principales encontrados y los valores del componente principal mayor es:\n",
    "U[,1]"
   ]
  },
  {
   "cell_type": "code",
   "execution_count": null,
   "metadata": {
    "collapsed": true
   },
   "outputs": [],
   "source": [
    "#Reducción de dimensionalidad con PCA\n",
    "\n",
    "#Una vez que calculamos los componentes principales podemos usarlos para reducir la cantidad de dimensiones de nuestro\n",
    "#dataset proyectando cada observación a un espacio dimensional menor x(i) -> z(i), en este caso proyectaremos de 2D a 1D.\n",
    "\n",
    "#En este ejemplo utilizaremos los eigenvectores encontrados para proyectar el dataset a 1D.\n",
    "\n"
   ]
  },
  {
   "cell_type": "code",
   "execution_count": null,
   "metadata": {
    "collapsed": true
   },
   "outputs": [],
   "source": []
  },
  {
   "cell_type": "code",
   "execution_count": null,
   "metadata": {
    "collapsed": true
   },
   "outputs": [],
   "source": []
  },
  {
   "cell_type": "code",
   "execution_count": null,
   "metadata": {
    "collapsed": true
   },
   "outputs": [],
   "source": []
  }
 ],
 "metadata": {
  "kernelspec": {
   "display_name": "R",
   "language": "R",
   "name": "ir"
  },
  "language_info": {
   "codemirror_mode": "r",
   "file_extension": ".r",
   "mimetype": "text/x-r-source",
   "name": "R",
   "pygments_lexer": "r",
   "version": "3.3.2"
  }
 },
 "nbformat": 4,
 "nbformat_minor": 0
}
