{
 "cells": [
  {
   "cell_type": "markdown",
   "metadata": {
    "collapsed": true
   },
   "source": [
    "# Resolución de regresión lineal por método de gradiente descendente"
   ]
  },
  {
   "cell_type": "markdown",
   "metadata": {
    "collapsed": true
   },
   "source": [
    "Supongamos que eres el CEO de una franquicia de restaurantes y estás considerando varias ciudades para abrir una nueva sucursal. La cadena de restaurantes ya tiene sucursales en varias ciudades y se tiene datos de ganancias y cantidad de habitantes de cada ciudad. Estas pensando en usar estos datos para ayudarte a seleccionar en que ciudad expandirte proximamente.\n",
    "\n",
    "La primer columna de los datos corresponde a la cantidad de habitantes de la ciudad y la segunda columna corresponde a las ganancias de una sucursal en esa ciudad. Un valor negativo de ganancias indica una pérdida."
   ]
  },
  {
   "cell_type": "code",
   "execution_count": 51,
   "metadata": {
    "collapsed": false
   },
   "outputs": [],
   "source": [
    "#Tamaño de gráficos\n",
    "options(repr.plot.width=6, repr.plot.height=4)\n",
    "\n",
    "#Instalación y carga de paquetes necesarios\n",
    "list.of.packages <- c('ggplot2', 'gridExtra')\n",
    "\n",
    "new.packages <- list.of.packages[!(list.of.packages %in% installed.packages()[,\"Package\"])]\n",
    "if(length(new.packages)) install.packages(new.packages, repos = \"https://cran.r-project.org\")\n",
    "\n",
    "library(ggplot2)\n",
    "library(gridExtra)\n",
    "library(IRdisplay)"
   ]
  },
  {
   "cell_type": "code",
   "execution_count": 3,
   "metadata": {
    "collapsed": false
   },
   "outputs": [],
   "source": [
    "#Carga de datos\n",
    "foodtruck <- read.table(file = 'foodtruck.txt', header = TRUE, \n",
    "                        col.names = c('population', 'profit'), sep = \",\", dec = \".\")"
   ]
  },
  {
   "cell_type": "markdown",
   "metadata": {},
   "source": [
    "## Exploración inicial"
   ]
  },
  {
   "cell_type": "markdown",
   "metadata": {},
   "source": [
    "### Exploramos tipos y estructuras de datos del dataset"
   ]
  },
  {
   "cell_type": "code",
   "execution_count": 4,
   "metadata": {
    "collapsed": false
   },
   "outputs": [
    {
     "data": {
      "text/html": [
       "<table>\n",
       "<thead><tr><th scope=col>population</th><th scope=col>profit</th></tr></thead>\n",
       "<tbody>\n",
       "\t<tr><td>5.5277 </td><td> 9.1302</td></tr>\n",
       "\t<tr><td>8.5186 </td><td>13.6620</td></tr>\n",
       "\t<tr><td>7.0032 </td><td>11.8540</td></tr>\n",
       "\t<tr><td>5.8598 </td><td> 6.8233</td></tr>\n",
       "\t<tr><td>8.3829 </td><td>11.8860</td></tr>\n",
       "\t<tr><td>7.4764 </td><td> 4.3483</td></tr>\n",
       "</tbody>\n",
       "</table>\n"
      ],
      "text/latex": [
       "\\begin{tabular}{r|ll}\n",
       " population & profit\\\\\n",
       "\\hline\n",
       "\t 5.5277  &  9.1302\\\\\n",
       "\t 8.5186  & 13.6620\\\\\n",
       "\t 7.0032  & 11.8540\\\\\n",
       "\t 5.8598  &  6.8233\\\\\n",
       "\t 8.3829  & 11.8860\\\\\n",
       "\t 7.4764  &  4.3483\\\\\n",
       "\\end{tabular}\n"
      ],
      "text/markdown": [
       "\n",
       "population | profit | \n",
       "|---|---|---|---|---|---|\n",
       "| 5.5277  |  9.1302 | \n",
       "| 8.5186  | 13.6620 | \n",
       "| 7.0032  | 11.8540 | \n",
       "| 5.8598  |  6.8233 | \n",
       "| 8.3829  | 11.8860 | \n",
       "| 7.4764  |  4.3483 | \n",
       "\n",
       "\n"
      ],
      "text/plain": [
       "  population profit \n",
       "1 5.5277      9.1302\n",
       "2 8.5186     13.6620\n",
       "3 7.0032     11.8540\n",
       "4 5.8598      6.8233\n",
       "5 8.3829     11.8860\n",
       "6 7.4764      4.3483"
      ]
     },
     "metadata": {},
     "output_type": "display_data"
    }
   ],
   "source": [
    "head(foodtruck)"
   ]
  },
  {
   "cell_type": "code",
   "execution_count": 5,
   "metadata": {
    "collapsed": false
   },
   "outputs": [
    {
     "name": "stdout",
     "output_type": "stream",
     "text": [
      "'data.frame':\t96 obs. of  2 variables:\n",
      " $ population: num  5.53 8.52 7 5.86 8.38 ...\n",
      " $ profit    : num  9.13 13.66 11.85 6.82 11.89 ...\n"
     ]
    }
   ],
   "source": [
    "str(foodtruck)"
   ]
  },
  {
   "cell_type": "markdown",
   "metadata": {},
   "source": [
    "### Exploramos algunas estadísticas básicas"
   ]
  },
  {
   "cell_type": "code",
   "execution_count": 6,
   "metadata": {
    "collapsed": false
   },
   "outputs": [
    {
     "data": {
      "text/plain": [
       "   population         profit      \n",
       " Min.   : 5.027   Min.   :-2.681  \n",
       " 1st Qu.: 5.691   1st Qu.: 1.953  \n",
       " Median : 6.736   Median : 4.455  \n",
       " Mean   : 8.181   Mean   : 5.717  \n",
       " 3rd Qu.: 8.640   3rd Qu.: 6.879  \n",
       " Max.   :22.203   Max.   :24.147  "
      ]
     },
     "metadata": {},
     "output_type": "display_data"
    }
   ],
   "source": [
    "summary(foodtruck)"
   ]
  },
  {
   "cell_type": "markdown",
   "metadata": {},
   "source": [
    "## Visualizaciones"
   ]
  },
  {
   "cell_type": "markdown",
   "metadata": {},
   "source": [
    "### Gráfico de cajas"
   ]
  },
  {
   "cell_type": "code",
   "execution_count": 7,
   "metadata": {
    "collapsed": false
   },
   "outputs": [
    {
     "data": {
      "image/png": "[encoded data removed]",
      "text/plain": [
       "plot without title"
      ]
     },
     "metadata": {},
     "output_type": "display_data"
    }
   ],
   "source": [
    "plot1 <- ggplot(foodtruck, aes(x = \"\", y= population)) + geom_boxplot() + labs(y = \"Población (1:10000)\")\n",
    "plot2 <- ggplot(foodtruck, aes(x = \"\", y= profit)) + geom_boxplot() + labs(y = 'Ganancias en USD (1:10000)')\n",
    "grid.arrange(plot1, plot2, ncol = 2)"
   ]
  },
  {
   "cell_type": "markdown",
   "metadata": {},
   "source": [
    "### Gráfico de dispersión"
   ]
  },
  {
   "cell_type": "code",
   "execution_count": 8,
   "metadata": {
    "collapsed": false
   },
   "outputs": [
    {
     "name": "stderr",
     "output_type": "stream",
     "text": [
      "`geom_smooth()` using method = 'loess'\n"
     ]
    },
    {
     "data": {},
     "metadata": {},
     "output_type": "display_data"
    },
    {
     "data": {
      "image/png": "[encoded data removed]",
      "text/plain": [
       "plot without title"
      ]
     },
     "metadata": {},
     "output_type": "display_data"
    }
   ],
   "source": [
    "ggplot(data = foodtruck, aes(x = population, y = profit)) + geom_point() +\n",
    "    labs(x = 'Cantidad de habitantes (en 10000)', y = 'Ganancias (en $10000 USD)') +\n",
    "    ggtitle('Ganancia de sucursal según cantidad de habitantes') +\n",
    "    theme(plot.title = element_text(hjust = 0.5)) +\n",
    "    geom_smooth()"
   ]
  },
  {
   "cell_type": "markdown",
   "metadata": {
    "collapsed": true
   },
   "source": [
    "A simple vista se ve una clara relación lineal entre ambos atributos por ello vamos a realizar una regresión lineal y en este caso lo haremos por el método del gradiente descendente.\n",
    "Tenemos que encontrar la recta que mejor se ajuste a los puntos minimizando el error entre las observaciones actuales y las predicciones teniendo en cuenta una función de costo."
   ]
  },
  {
   "cell_type": "code",
   "execution_count": 10,
   "metadata": {
    "collapsed": true
   },
   "outputs": [],
   "source": [
    "#Extraemos las variables predictoras (X) y a predecir (y)\n",
    "X <- foodtruck$population\n",
    "y <- foodtruck$profit\n",
    "\n",
    "#Agregamos una columna de 1's (para el coeficiente de intersección)\n",
    "X <- cbind(1,X)"
   ]
  },
  {
   "cell_type": "code",
   "execution_count": 11,
   "metadata": {
    "collapsed": true
   },
   "outputs": [],
   "source": [
    "#Función de costos, lo calcularemos en cada iteración (buscamos minimizar este valor)\n",
    "computeCost <- function(X, y, theta) {\n",
    "  \n",
    "  sum( (X %*% theta - y) ^2 ) / (2 * m)\n",
    "}"
   ]
  },
  {
   "cell_type": "code",
   "execution_count": 12,
   "metadata": {
    "collapsed": false
   },
   "outputs": [],
   "source": [
    "#Calculamos el valor de los coeficientes para cada iteración\n",
    "\n",
    "#En el caso por defecto usamos alpha = 0.01.\n",
    "m <- nrow(X)\n",
    "iter <- 10000\n",
    "computeTheta <- function(alpha = 0.01, iterations = iter) {\n",
    "    \n",
    "    theta <- matrix(c(0, 0), nrow = 2, ncol = 1)\n",
    "    historic_cost <- vector('numeric')\n",
    "    historic_theta <- vector('numeric')\n",
    "    \n",
    "    \n",
    "    for (i in 1:iterations) {\n",
    "\n",
    "        theta <- theta - (alpha / m) * (t(X) %*% (X %*% theta - y))\n",
    "        J <- computeCost(X, y, theta)\n",
    "        historic_cost <- append(historic_cost, J)\n",
    "        historic_theta <- rbind(historic_theta, t(theta))\n",
    "    }\n",
    "    list(historic_cost, theta, historic_theta)\n",
    "}\n",
    "\n",
    "historic_cost <- computeTheta()[[1]]\n",
    "theta <- computeTheta()[[2]]\n",
    "historic_theta <- computeTheta()[[3]]"
   ]
  },
  {
   "cell_type": "markdown",
   "metadata": {},
   "source": [
    "### Funcion de costo vs. Número de iteraciones"
   ]
  },
  {
   "cell_type": "code",
   "execution_count": 13,
   "metadata": {
    "collapsed": false
   },
   "outputs": [
    {
     "data": {},
     "metadata": {},
     "output_type": "display_data"
    },
    {
     "data": {
      "image/png": "[encoded data removed]",
      "text/plain": [
       "plot without title"
      ]
     },
     "metadata": {},
     "output_type": "display_data"
    }
   ],
   "source": [
    "ggplot() + geom_line(aes(x = 1:iter, y = historic_cost)) + labs(x = 'N° iteración', y = 'Costo') +\n",
    "    ggtitle('Costo vs. número de iteraciones') + theme(plot.title = element_text(hjust = 0.5))"
   ]
  },
  {
   "cell_type": "markdown",
   "metadata": {
    "collapsed": true
   },
   "source": [
    "En el gráfico anterior podemos ver que a partir de la iteración 1500 el costo se minimiza y mantiene casi constante. Por lo tanto es dicho punto ya tendríamos los valores de theta o coeficientes que minimizan el error entre la recta de regresión y nuestros valores actuales."
   ]
  },
  {
   "cell_type": "markdown",
   "metadata": {},
   "source": [
    "Ahora intentemos con la misma cantidad de iteraciones pero reduzcamos 3 veces el valor de alpha."
   ]
  },
  {
   "cell_type": "code",
   "execution_count": 59,
   "metadata": {
    "collapsed": false
   },
   "outputs": [
    {
     "data": {},
     "metadata": {},
     "output_type": "display_data"
    },
    {
     "data": {
      "image/png": "[encoded data removed]",
      "text/plain": [
       "plot without title"
      ]
     },
     "metadata": {},
     "output_type": "display_data"
    }
   ],
   "source": [
    "iter = 1000\n",
    "historic_cost <- computeTheta(alpha = 0.0033, iterations = iter)[[1]]\n",
    "\n",
    "ggplot() + geom_line(aes(x = 1:iter, y = historic_cost)) + labs(x = 'N° iteración', y = 'Costo') +\n",
    "    ggtitle('Costo vs. número de iteraciones') + theme(plot.title = element_text(hjust = 0.5))"
   ]
  },
  {
   "cell_type": "markdown",
   "metadata": {},
   "source": [
    "Y finalmente probemos con alpha = 0.01 como al inicio pero que se realicen 15000 iteraciones (quizás algo innecesario porque vemos que la función se estabiliza en aprox 1000 pero es solo para experimentación)."
   ]
  },
  {
   "cell_type": "code",
   "execution_count": 38,
   "metadata": {
    "collapsed": false
   },
   "outputs": [
    {
     "data": {},
     "metadata": {},
     "output_type": "display_data"
    },
    {
     "data": {
      "image/png": "[encoded data removed]",
      "text/plain": [
       "plot without title"
      ]
     },
     "metadata": {},
     "output_type": "display_data"
    }
   ],
   "source": [
    "iter = 15000\n",
    "historic_cost <- computeTheta(alpha = 0.01, iterations = iter)[[1]]\n",
    "\n",
    "ggplot() + geom_line(aes(x = 1:iter, y = historic_cost)) + labs(x = 'N° iteración', y = 'Costo') +\n",
    "    ggtitle('Costo vs. número de iteraciones') + theme(plot.title = element_text(hjust = 0.5))"
   ]
  },
  {
   "cell_type": "markdown",
   "metadata": {},
   "source": [
    "Teniendo en cuenta el vector \"history\" con todos los costos para las 15000 iteraciones podemos saber en que iteración el costo solo disminuyó en un 0.001 que podría ser nuestro criterio de parada. Una solución sería chequear en la función computeTheta cada vez que calculamos el costo si se alcanzó el umbral y allí interrumpir el bucle."
   ]
  },
  {
   "cell_type": "code",
   "execution_count": 130,
   "metadata": {
    "collapsed": false
   },
   "outputs": [
    {
     "data": {
      "text/html": [
       "497"
      ],
      "text/latex": [
       "497"
      ],
      "text/markdown": [
       "497"
      ],
      "text/plain": [
       "[1] 497"
      ]
     },
     "metadata": {},
     "output_type": "display_data"
    }
   ],
   "source": [
    "umbral <- round(-diff(history), 5)\n",
    "match(0.001,b)"
   ]
  },
  {
   "cell_type": "markdown",
   "metadata": {},
   "source": [
    "Para la iteración 497 nuestro gradiente ya comenzó a converger teniendo en cuenta el gráfico y el umbral\n",
    "\n",
    "## Convergencia de theta#\n",
    "Para este ejemplo podemos ver como evoluciona el valor de la ordenada al origen (theta0) hasta converger."
   ]
  },
  {
   "cell_type": "code",
   "execution_count": 57,
   "metadata": {
    "collapsed": false
   },
   "outputs": [
    {
     "data": {},
     "metadata": {},
     "output_type": "display_data"
    },
    {
     "data": {
      "image/png": "[encoded data removed]",
      "text/plain": [
       "plot without title"
      ]
     },
     "metadata": {},
     "output_type": "display_data"
    }
   ],
   "source": [
    "ggplot() + geom_line(aes(x = 1:nrow(historic_theta), y = historic_theta[,1])) + labs(y = \"Theta 0 (Ordenada al origen)\", \n",
    "                                                                                     x = \"\") +\n",
    "    ggtitle(\"Evolución de theta0 (Ordenada al origen la recta de regresión)\")"
   ]
  },
  {
   "cell_type": "markdown",
   "metadata": {},
   "source": [
    "Tambien podemos ver como evoluciona el valor de la pendiente (theta1) hasta converger. Ambos comienzan en cero porque es el valor con el que inicializamos el gradiente."
   ]
  },
  {
   "cell_type": "code",
   "execution_count": 58,
   "metadata": {
    "collapsed": false
   },
   "outputs": [
    {
     "data": {},
     "metadata": {},
     "output_type": "display_data"
    },
    {
     "data": {
      "image/png": "[encoded data removed]",
      "text/plain": [
       "plot without title"
      ]
     },
     "metadata": {},
     "output_type": "display_data"
    }
   ],
   "source": [
    "ggplot() + geom_line(aes(x = 1:nrow(historic_theta), y = historic_theta[,2])) + labs(y = \"Theta 1 (Pendiente)\", x= \"\") +\n",
    "    ggtitle(\"Evolución de theta 1 (Pendiente de la recta de regresión)\")"
   ]
  },
  {
   "cell_type": "markdown",
   "metadata": {},
   "source": [
    "Y finalmente podemos ver el costo en función de theta0 y theta1.\n",
    "Comienza en lo alto del gráfico con un punto aislado que es theta0 = 0 y theta1 = 0 y rápidamente comienza a descender theta0 y a incrementarse theta1 hasta que se vuelven asintóticas."
   ]
  },
  {
   "cell_type": "code",
   "execution_count": 52,
   "metadata": {
    "collapsed": false
   },
   "outputs": [
    {
     "data": {
      "image/png": "[encoded data removed]"
     },
     "metadata": {},
     "output_type": "display_data"
    }
   ],
   "source": [
    "display_png(file='costo.png') "
   ]
  },
  {
   "cell_type": "markdown",
   "metadata": {},
   "source": [
    "Teniendo en cuenta el último caso los valores de theta o coeficientes resultantes son:"
   ]
  },
  {
   "cell_type": "code",
   "execution_count": 28,
   "metadata": {
    "collapsed": false
   },
   "outputs": [
    {
     "name": "stdout",
     "output_type": "stream",
     "text": [
      "Intersección:  -4.211504 \n",
      "Pendiente:  1.213547\n",
      "Costo:  3.459582"
     ]
    }
   ],
   "source": [
    "cat(\"Intersección: \", theta[1], \"\\nPendiente: \", theta[2])\n",
    "cat(\"\\nCosto: \", tail(historic_cost,1))"
   ]
  },
  {
   "cell_type": "markdown",
   "metadata": {},
   "source": [
    "Por lo tanto la recta que ajustará mejor a nuestros datos será:"
   ]
  },
  {
   "cell_type": "code",
   "execution_count": 106,
   "metadata": {
    "collapsed": false
   },
   "outputs": [
    {
     "name": "stdout",
     "output_type": "stream",
     "text": [
      "y =  -3.507705  +  1.143056 x"
     ]
    }
   ],
   "source": [
    "cat('y = ', theta[1], \" + \", theta[2], \"x\")"
   ]
  },
  {
   "cell_type": "code",
   "execution_count": null,
   "metadata": {
    "collapsed": true
   },
   "outputs": [],
   "source": [
    "Finalmente graficamos los puntos y la recta de regresión correspondiente."
   ]
  },
  {
   "cell_type": "code",
   "execution_count": 107,
   "metadata": {
    "collapsed": false
   },
   "outputs": [
    {
     "data": {},
     "metadata": {},
     "output_type": "display_data"
    },
    {
     "data": {
      "image/png": "[encoded data removed]",
      "text/plain": [
       "plot without title"
      ]
     },
     "metadata": {},
     "output_type": "display_data"
    }
   ],
   "source": [
    "ggplot(foodtruck, aes(population, profit)) + geom_point() + \n",
    "    geom_abline(intercept = theta[1], slope = theta[2], col = \"red\") + \n",
    "    labs(x = \"Población (1:10000)\", y = \"Ganancias (1:10000)\") +\n",
    "    ggtitle(\"Recta de regresión vs. datos observados\") +\n",
    "    theme(plot.title = element_text(hjust = 0.5))"
   ]
  },
  {
   "cell_type": "markdown",
   "metadata": {
    "collapsed": true
   },
   "source": [
    "### Conclusiones:\n",
    "1. Se necesita establecer un valor de alpha e ir variando para chequear como se comporta el gradiente.\n",
    "2. Necesita varias iteraciones.\n",
    "3. No requiere mucho costo computacional O(kn^2)\n",
    "4. Funciona bien cuando el número de atributos es grande (a partir de 10.000 atributos conviene antes que ecuaciones normales)"
   ]
  }
 ],
 "metadata": {
  "anaconda-cloud": {},
  "kernelspec": {
   "display_name": "R",
   "language": "R",
   "name": "ir"
  },
  "language_info": {
   "codemirror_mode": "r",
   "file_extension": ".r",
   "mimetype": "text/x-r-source",
   "name": "R",
   "pygments_lexer": "r",
   "version": "3.3.2"
  }
 },
 "nbformat": 4,
 "nbformat_minor": 0
}
