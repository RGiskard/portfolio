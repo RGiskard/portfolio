{
 "cells": [
  {
   "cell_type": "code",
   "execution_count": 1,
   "metadata": {
    "collapsed": true
   },
   "outputs": [],
   "source": [
    "#En este ejemplo utilizaremos la regresión logística regularizada para si los microchips de una planta de fabricacion\n",
    "#pasa el test de calidad. Durante los tests de calidad los microchips pasan por varias pruebas para asegurar su correcto\n",
    "#funcionamiento.\n",
    "#Supongamos que eres el gerente del producto de la fábrica y tienes los resultados de algunso microchips para dos tipos\n",
    "#de prueba. A partir de estas dos pruebas quisieras determinar si los microchips deberían ser aceptados o rechazados.\n",
    "#Para ello se tienen datos históricos de resultados de pruebas anteriores, desde el cual vamos a construir el modelo logistico.\n"
   ]
  },
  {
   "cell_type": "code",
   "execution_count": 3,
   "metadata": {
    "collapsed": true
   },
   "outputs": [],
   "source": [
    "#Configuración de tamaño de gráficos\n",
    "options(repr.plot.width=5, repr.plot.height=4, scipen = 999)"
   ]
  },
  {
   "cell_type": "code",
   "execution_count": 4,
   "metadata": {
    "collapsed": true
   },
   "outputs": [],
   "source": [
    "#Instalación y carga de paquetes necesarios\n",
    "list.of.packages <- c('ggplot2')\n",
    "\n",
    "new.packages <- list.of.packages[!(list.of.packages %in% installed.packages()[,\"Package\"])]\n",
    "if(length(new.packages)) install.packages(new.packages, repos = \"https://cran.r-project.org\")\n",
    "\n",
    "library(ggplot2)"
   ]
  },
  {
   "cell_type": "code",
   "execution_count": 5,
   "metadata": {
    "collapsed": true
   },
   "outputs": [],
   "source": [
    "#Carga de datos\n",
    "microchips <- read.table(file = 'ex2data2.txt', header = TRUE, \n",
    "                        col.names = c('test1', 'test2', 'accepted'), sep = \",\", dec = \".\")"
   ]
  },
  {
   "cell_type": "code",
   "execution_count": 6,
   "metadata": {
    "collapsed": false
   },
   "outputs": [
    {
     "data": {
      "text/html": [
       "<table>\n",
       "<thead><tr><th scope=col>test1</th><th scope=col>test2</th><th scope=col>accepted</th></tr></thead>\n",
       "<tbody>\n",
       "\t<tr><td>-0.092742</td><td>0.684940 </td><td>1        </td></tr>\n",
       "\t<tr><td>-0.213710</td><td>0.692250 </td><td>1        </td></tr>\n",
       "\t<tr><td>-0.375000</td><td>0.502190 </td><td>1        </td></tr>\n",
       "\t<tr><td>-0.513250</td><td>0.465640 </td><td>1        </td></tr>\n",
       "\t<tr><td>-0.524770</td><td>0.209800 </td><td>1        </td></tr>\n",
       "\t<tr><td>-0.398040</td><td>0.034357 </td><td>1        </td></tr>\n",
       "</tbody>\n",
       "</table>\n"
      ],
      "text/latex": [
       "\\begin{tabular}{r|lll}\n",
       " test1 & test2 & accepted\\\\\n",
       "\\hline\n",
       "\t -0.092742 & 0.684940  & 1        \\\\\n",
       "\t -0.213710 & 0.692250  & 1        \\\\\n",
       "\t -0.375000 & 0.502190  & 1        \\\\\n",
       "\t -0.513250 & 0.465640  & 1        \\\\\n",
       "\t -0.524770 & 0.209800  & 1        \\\\\n",
       "\t -0.398040 & 0.034357  & 1        \\\\\n",
       "\\end{tabular}\n"
      ],
      "text/markdown": [
       "\n",
       "test1 | test2 | accepted | \n",
       "|---|---|---|---|---|---|\n",
       "| -0.092742 | 0.684940  | 1         | \n",
       "| -0.213710 | 0.692250  | 1         | \n",
       "| -0.375000 | 0.502190  | 1         | \n",
       "| -0.513250 | 0.465640  | 1         | \n",
       "| -0.524770 | 0.209800  | 1         | \n",
       "| -0.398040 | 0.034357  | 1         | \n",
       "\n",
       "\n"
      ],
      "text/plain": [
       "  test1     test2    accepted\n",
       "1 -0.092742 0.684940 1       \n",
       "2 -0.213710 0.692250 1       \n",
       "3 -0.375000 0.502190 1       \n",
       "4 -0.513250 0.465640 1       \n",
       "5 -0.524770 0.209800 1       \n",
       "6 -0.398040 0.034357 1       "
      ]
     },
     "metadata": {},
     "output_type": "display_data"
    },
    {
     "name": "stdout",
     "output_type": "stream",
     "text": [
      "'data.frame':\t117 obs. of  3 variables:\n",
      " $ test1   : num  -0.0927 -0.2137 -0.375 -0.5132 -0.5248 ...\n",
      " $ test2   : num  0.685 0.692 0.502 0.466 0.21 ...\n",
      " $ accepted: Factor w/ 2 levels \"Aceptado\",\"Rechazado\": 1 1 1 1 1 1 1 1 1 1 ...\n"
     ]
    }
   ],
   "source": [
    "#Exploración de datos\n",
    "head(microchips)\n",
    "microchips$accepted <- factor(microchips$accepted, levels = c(1, 0), labels = c('Aceptado', 'Rechazado'))\n",
    "str(microchips)"
   ]
  },
  {
   "cell_type": "code",
   "execution_count": 7,
   "metadata": {
    "collapsed": false
   },
   "outputs": [
    {
     "data": {},
     "metadata": {},
     "output_type": "display_data"
    },
    {
     "data": {
      "image/png": "[encoded data removed]",
      "text/plain": [
       "plot without title"
      ]
     },
     "metadata": {},
     "output_type": "display_data"
    }
   ],
   "source": [
    "#Visualización de datos\n",
    "ggplot(data = microchips, aes(x = test1, y = test2, col = accepted)) + geom_point() +\n",
    "    labs(x = 'Prueba de microchip 1', y = 'Prueba de microchip 2') + ggtitle('Resultados de pruebas de microchips') +\n",
    "    theme(legend.title=element_blank()) +\n",
    "    scale_colour_manual(name='', values=c('Aceptado'='blue', 'Rechazado'='red'))"
   ]
  },
  {
   "cell_type": "code",
   "execution_count": 8,
   "metadata": {
    "collapsed": true
   },
   "outputs": [],
   "source": [
    "#A simple viste vemos que ambas clases no pueden ser separados a través de una linea recta, por lo tanto utilizar una \n",
    "#enfoque directo de la regresión lineal no sería conveniente.\n",
    "#Por lo tanto tendremos que construir más atributos de entrada a partir de los dos que tenemos. Para ello usaremos\n",
    "#términos polinómicos hasta el grado 6.\n",
    "\n",
    "#Es decir, no solo tendremos x0, x1 y x2, sino que deberíamos tener: x0, x1, x2, x1*x2, x1*x2^2, x1^2*x2... x1^6 * x2^6.\n",
    "\n",
    "#Una regresión logística con estas entradas tendrá una frontera entre clases mucho más compleja y se ajustará mucho\n",
    "#mejor a los datos pero por otro lado es más susceptible a sobreajustarse, por lo tanto debemos REGULARIZAR."
   ]
  },
  {
   "cell_type": "code",
   "execution_count": 44,
   "metadata": {
    "collapsed": false
   },
   "outputs": [
    {
     "data": {
      "text/html": [
       "<table>\n",
       "<thead><tr><th scope=col>X</th><th scope=col></th></tr></thead>\n",
       "<tbody>\n",
       "\t<tr><td>-0.092742</td><td> 0.684940</td></tr>\n",
       "\t<tr><td>-0.213710</td><td> 0.692250</td></tr>\n",
       "\t<tr><td>-0.375000</td><td> 0.502190</td></tr>\n",
       "\t<tr><td>-0.513250</td><td> 0.465640</td></tr>\n",
       "\t<tr><td>-0.524770</td><td> 0.209800</td></tr>\n",
       "\t<tr><td>-0.398040</td><td> 0.034357</td></tr>\n",
       "\t<tr><td>-0.305880</td><td>-0.192250</td></tr>\n",
       "\t<tr><td> 0.016705</td><td>-0.404240</td></tr>\n",
       "\t<tr><td> 0.131910</td><td>-0.513890</td></tr>\n",
       "\t<tr><td> 0.385370</td><td>-0.565060</td></tr>\n",
       "</tbody>\n",
       "</table>\n"
      ],
      "text/latex": [
       "\\begin{tabular}{ll}\n",
       " X & \\\\\n",
       "\\hline\n",
       "\t -0.092742 &  0.684940\\\\\n",
       "\t -0.213710 &  0.692250\\\\\n",
       "\t -0.375000 &  0.502190\\\\\n",
       "\t -0.513250 &  0.465640\\\\\n",
       "\t -0.524770 &  0.209800\\\\\n",
       "\t -0.398040 &  0.034357\\\\\n",
       "\t -0.305880 & -0.192250\\\\\n",
       "\t  0.016705 & -0.404240\\\\\n",
       "\t  0.131910 & -0.513890\\\\\n",
       "\t  0.385370 & -0.565060\\\\\n",
       "\\end{tabular}\n"
      ],
      "text/markdown": [
       "\n",
       "X |  | \n",
       "|---|---|---|---|---|---|---|---|---|---|\n",
       "| -0.092742 |  0.684940 | \n",
       "| -0.213710 |  0.692250 | \n",
       "| -0.375000 |  0.502190 | \n",
       "| -0.513250 |  0.465640 | \n",
       "| -0.524770 |  0.209800 | \n",
       "| -0.398040 |  0.034357 | \n",
       "| -0.305880 | -0.192250 | \n",
       "|  0.016705 | -0.404240 | \n",
       "|  0.131910 | -0.513890 | \n",
       "|  0.385370 | -0.565060 | \n",
       "\n",
       "\n"
      ],
      "text/plain": [
       "      X                  \n",
       " [1,] -0.092742  0.684940\n",
       " [2,] -0.213710  0.692250\n",
       " [3,] -0.375000  0.502190\n",
       " [4,] -0.513250  0.465640\n",
       " [5,] -0.524770  0.209800\n",
       " [6,] -0.398040  0.034357\n",
       " [7,] -0.305880 -0.192250\n",
       " [8,]  0.016705 -0.404240\n",
       " [9,]  0.131910 -0.513890\n",
       "[10,]  0.385370 -0.565060"
      ]
     },
     "metadata": {},
     "output_type": "display_data"
    },
    {
     "data": {
      "text/html": [
       "<ol class=list-inline>\n",
       "\t<li>1</li>\n",
       "\t<li>1</li>\n",
       "\t<li>1</li>\n",
       "\t<li>1</li>\n",
       "\t<li>1</li>\n",
       "\t<li>1</li>\n",
       "\t<li>1</li>\n",
       "\t<li>1</li>\n",
       "\t<li>1</li>\n",
       "\t<li>1</li>\n",
       "</ol>\n"
      ],
      "text/latex": [
       "\\begin{enumerate*}\n",
       "\\item 1\n",
       "\\item 1\n",
       "\\item 1\n",
       "\\item 1\n",
       "\\item 1\n",
       "\\item 1\n",
       "\\item 1\n",
       "\\item 1\n",
       "\\item 1\n",
       "\\item 1\n",
       "\\end{enumerate*}\n"
      ],
      "text/markdown": [
       "1. 1\n",
       "2. 1\n",
       "3. 1\n",
       "4. 1\n",
       "5. 1\n",
       "6. 1\n",
       "7. 1\n",
       "8. 1\n",
       "9. 1\n",
       "10. 1\n",
       "\n",
       "\n"
      ],
      "text/plain": [
       " [1] 1 1 1 1 1 1 1 1 1 1"
      ]
     },
     "metadata": {},
     "output_type": "display_data"
    }
   ],
   "source": [
    "#Preparamos los datos para la regresión\n",
    "X <- microchips$test1\n",
    "X <- cbind(X, microchips$test2)\n",
    "\n",
    "y <- 2 - as.integer(microchips$accepted)\n",
    "\n",
    "m <- nrow(X)\n",
    "degree <- 6\n",
    "lambda <- 5\n",
    "\n",
    "#chequeamos las primeras 10 observaciones\n",
    "head(X,10)\n",
    "head(y,10)"
   ]
  },
  {
   "cell_type": "code",
   "execution_count": 45,
   "metadata": {
    "collapsed": false
   },
   "outputs": [],
   "source": [
    "#Creamos los nuevos términos polinómicos\n",
    "agregarAtributos <- function(X1, X2) {\n",
    "    \n",
    "    out <- matrix(1,length(X1),1)\n",
    "  \n",
    "    for (i in 1:degree)\n",
    "       for (j in 0:i)\n",
    "         out <- cbind(out, (X1 ^ (i - j)) * (X2 ^ j))\n",
    "\n",
    "    out\n",
    "}\n",
    "        \n",
    "X <- agregarAtributos(X[,1], X[,2])"
   ]
  },
  {
   "cell_type": "code",
   "execution_count": 46,
   "metadata": {
    "collapsed": true
   },
   "outputs": [],
   "source": [
    "#Creamos la función sigmoidal\n",
    "sigmoid <- function(z) {\n",
    "  \n",
    "  g <- 1 / (1 + exp(1) ^ (-z))\n",
    "}"
   ]
  },
  {
   "cell_type": "code",
   "execution_count": 47,
   "metadata": {
    "collapsed": true
   },
   "outputs": [],
   "source": [
    "#Construimos la función de costo \n",
    "\n",
    "computeCost <- function(theta) {\n",
    "    \n",
    "    hyp <-  sigmoid(X %*% theta)\n",
    "    \n",
    "    J_noreg <- (-1 / m) * (t(y) %*% log(hyp) + (t((1 - y)) %*% log(1 - hyp)))\n",
    "        \n",
    "    theta[1] <- 0\n",
    "    \n",
    "    J_reg <- J_noreg + (lambda / (2 * m)) * sum(theta ^ 2)\n",
    "    \n",
    "    J_reg\n",
    "    \n",
    "}"
   ]
  },
  {
   "cell_type": "code",
   "execution_count": 48,
   "metadata": {
    "collapsed": false
   },
   "outputs": [
    {
     "data": {
      "text/html": [
       "<ol class=list-inline>\n",
       "\t<li>0.425977666392651</li>\n",
       "\t<li>0.00482750958793708</li>\n",
       "\t<li>0.1863816782296</li>\n",
       "\t<li>-0.744568297103163</li>\n",
       "\t<li>-0.00939217727192928</li>\n",
       "\t<li>-0.252619847792021</li>\n",
       "\t<li>0.00293954958173772</li>\n",
       "\t<li>0.0908358908849902</li>\n",
       "\t<li>0.0723744799252168</li>\n",
       "\t<li>-0.043735458980899</li>\n",
       "\t<li>-0.374770856464752</li>\n",
       "\t<li>0.0998958788054947</li>\n",
       "\t<li>0.00731447615779809</li>\n",
       "\t<li>0.145960674404778</li>\n",
       "\t<li>-0.445057854746655</li>\n",
       "\t<li>0.108136797049091</li>\n",
       "\t<li>0.143452209639332</li>\n",
       "\t<li>0.12381866631916</li>\n",
       "\t<li>0.000251928354053204</li>\n",
       "\t<li>0.0261125025911184</li>\n",
       "\t<li>-0.0755753313162094</li>\n",
       "\t<li>-0.108377261780453</li>\n",
       "\t<li>0.204687614548234</li>\n",
       "\t<li>0.0767532288013671</li>\n",
       "\t<li>0.248528828526236</li>\n",
       "\t<li>0.256546716426273</li>\n",
       "\t<li>0.00543387199406677</li>\n",
       "\t<li>-0.295152192903732</li>\n",
       "</ol>\n"
      ],
      "text/latex": [
       "\\begin{enumerate*}\n",
       "\\item 0.425977666392651\n",
       "\\item 0.00482750958793708\n",
       "\\item 0.1863816782296\n",
       "\\item -0.744568297103163\n",
       "\\item -0.00939217727192928\n",
       "\\item -0.252619847792021\n",
       "\\item 0.00293954958173772\n",
       "\\item 0.0908358908849902\n",
       "\\item 0.0723744799252168\n",
       "\\item -0.043735458980899\n",
       "\\item -0.374770856464752\n",
       "\\item 0.0998958788054947\n",
       "\\item 0.00731447615779809\n",
       "\\item 0.145960674404778\n",
       "\\item -0.445057854746655\n",
       "\\item 0.108136797049091\n",
       "\\item 0.143452209639332\n",
       "\\item 0.12381866631916\n",
       "\\item 0.000251928354053204\n",
       "\\item 0.0261125025911184\n",
       "\\item -0.0755753313162094\n",
       "\\item -0.108377261780453\n",
       "\\item 0.204687614548234\n",
       "\\item 0.0767532288013671\n",
       "\\item 0.248528828526236\n",
       "\\item 0.256546716426273\n",
       "\\item 0.00543387199406677\n",
       "\\item -0.295152192903732\n",
       "\\end{enumerate*}\n"
      ],
      "text/markdown": [
       "1. 0.425977666392651\n",
       "2. 0.00482750958793708\n",
       "3. 0.1863816782296\n",
       "4. -0.744568297103163\n",
       "5. -0.00939217727192928\n",
       "6. -0.252619847792021\n",
       "7. 0.00293954958173772\n",
       "8. 0.0908358908849902\n",
       "9. 0.0723744799252168\n",
       "10. -0.043735458980899\n",
       "11. -0.374770856464752\n",
       "12. 0.0998958788054947\n",
       "13. 0.00731447615779809\n",
       "14. 0.145960674404778\n",
       "15. -0.445057854746655\n",
       "16. 0.108136797049091\n",
       "17. 0.143452209639332\n",
       "18. 0.12381866631916\n",
       "19. 0.000251928354053204\n",
       "20. 0.0261125025911184\n",
       "21. -0.0755753313162094\n",
       "22. -0.108377261780453\n",
       "23. 0.204687614548234\n",
       "24. 0.0767532288013671\n",
       "25. 0.248528828526236\n",
       "26. 0.256546716426273\n",
       "27. 0.00543387199406677\n",
       "28. -0.295152192903732\n",
       "\n",
       "\n"
      ],
      "text/plain": [
       " [1]  0.4259776664  0.0048275096  0.1863816782 -0.7445682971 -0.0093921773\n",
       " [6] -0.2526198478  0.0029395496  0.0908358909  0.0723744799 -0.0437354590\n",
       "[11] -0.3747708565  0.0998958788  0.0073144762  0.1459606744 -0.4450578547\n",
       "[16]  0.1081367970  0.1434522096  0.1238186663  0.0002519284  0.0261125026\n",
       "[21] -0.0755753313 -0.1083772618  0.2046876145  0.0767532288  0.2485288285\n",
       "[26]  0.2565467164  0.0054338720 -0.2951521929"
      ]
     },
     "metadata": {},
     "output_type": "display_data"
    },
    {
     "data": {
      "text/html": [
       "0.649011306649741"
      ],
      "text/latex": [
       "0.649011306649741"
      ],
      "text/markdown": [
       "0.649011306649741"
      ],
      "text/plain": [
       "[1] 0.6490113"
      ]
     },
     "metadata": {},
     "output_type": "display_data"
    }
   ],
   "source": [
    "#Inicializamos los parámetros theta\n",
    "initial_theta <- numeric(ncol(X))\n",
    "\n",
    "#Configuramos las opciones de optim\n",
    "theta_optim <- optim(par = initial_theta, fn = computeCost)\n",
    "theta <- theta_optim$par\n",
    "J <-  theta_optim$value\n",
    "\n",
    "#Valores optimos de theta\n",
    "theta\n",
    "#Costo final\n",
    "J"
   ]
  },
  {
   "cell_type": "code",
   "execution_count": 49,
   "metadata": {
    "collapsed": false
   },
   "outputs": [
    {
     "data": {
      "image/png": "[encoded data removed]",
      "text/plain": [
       "Plot with title \"Test de microchips\""
      ]
     },
     "metadata": {},
     "output_type": "display_data"
    }
   ],
   "source": [
    "#Graficamos el limite entre ambas clases\n",
    "\n",
    "#Graficamos los puntos\n",
    "plot(X[,2], X[,3], col = factor(y), pch = 19, xlab = \"Prueba de microchip 1\", ylab = \"Prueba de microchip 2\",\n",
    "    main = \"Test de microchips\")\n",
    "\n",
    "# Creamos la grilla para dibujar el limite entre las clases\n",
    "u <- seq(-1,1.5, length.out = 50)\n",
    "v <- seq(-1,1.5, length.out = 50)\n",
    "z <- matrix(0, length(u), length(v))\n",
    "\n",
    "# Evaluamos z sobre la grilla de puntos\n",
    "for (i in 1:length(u))\n",
    "    for (j in 1:length(v))\n",
    "      z[i,j] <- agregarAtributos(u[i], v[j]) %*% theta\n",
    "\n",
    "#Dibujamos el limite\n",
    "contour(u, v, z, levels = 0, lwd = 2, add = TRUE, drawlabels = FALSE, col = \"green\")"
   ]
  },
  {
   "cell_type": "code",
   "execution_count": 50,
   "metadata": {
    "collapsed": false
   },
   "outputs": [
    {
     "data": {
      "text/html": [
       "73.5042735042735"
      ],
      "text/latex": [
       "73.5042735042735"
      ],
      "text/markdown": [
       "73.5042735042735"
      ],
      "text/plain": [
       "[1] 73.50427"
      ]
     },
     "metadata": {},
     "output_type": "display_data"
    }
   ],
   "source": [
    "#Calculamos la precisión de nuestro modelo logístico\n",
    "p <- round(sigmoid(X %*% theta))\n",
    "mean(p == y) * 100"
   ]
  },
  {
   "cell_type": "code",
   "execution_count": null,
   "metadata": {
    "collapsed": true
   },
   "outputs": [],
   "source": [
    "#si utilizamos polinomios de hasta 4 grados obtenemos 83% de precisión. También se puede ir variando lambda y ver\n",
    "#como influyen las distintas combinaciones en la precisión. Valores más altos de alpha resultan en underfitting\n",
    "#mientras que valores muy chicos resultan en overfitting."
   ]
  }
 ],
 "metadata": {
  "kernelspec": {
   "display_name": "R",
   "language": "R",
   "name": "ir"
  },
  "language_info": {
   "codemirror_mode": "r",
   "file_extension": ".r",
   "mimetype": "text/x-r-source",
   "name": "R",
   "pygments_lexer": "r",
   "version": "3.3.2"
  }
 },
 "nbformat": 4,
 "nbformat_minor": 0
}
