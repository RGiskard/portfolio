{
 "cells": [
  {
   "cell_type": "code",
   "execution_count": 2,
   "metadata": {
    "collapsed": true
   },
   "outputs": [],
   "source": [
    "options(scipen = 999, repr.plot.width=4, repr.plot.height= 4, warn = -1)"
   ]
  },
  {
   "cell_type": "code",
   "execution_count": 5,
   "metadata": {
    "collapsed": false
   },
   "outputs": [
    {
     "name": "stdout",
     "output_type": "stream",
     "text": [
      "package 'R.matlab' successfully unpacked and MD5 sums checked\n",
      "\n",
      "The downloaded binary packages are in\n",
      "\tC:\\Users\\Administrator\\AppData\\Local\\Temp\\RtmpkX0J8v\\downloaded_packages\n"
     ]
    },
    {
     "name": "stderr",
     "output_type": "stream",
     "text": [
      "R.matlab v3.6.1 (2016-10-19) successfully loaded. See ?R.matlab for help.\n",
      "\n",
      "Attaching package: 'R.matlab'\n",
      "\n",
      "The following objects are masked from 'package:base':\n",
      "\n",
      "    getOption, isOpen\n",
      "\n"
     ]
    }
   ],
   "source": [
    "\n",
    "install.packages('R.matlab', repos = \"https://cran.r-project.org/\")\n",
    "library(R.matlab)"
   ]
  },
  {
   "cell_type": "code",
   "execution_count": 35,
   "metadata": {
    "collapsed": false
   },
   "outputs": [],
   "source": [
    "location <- \"C:/Users/Administrator/Desktop/ex3data1.mat\"\n",
    "\n",
    "df <- as.data.frame(readMat(location))\n",
    "\n",
    "X <- df[,1:400]\n",
    "y <- df[, 401]\n",
    "\n",
    "\n",
    "input_layer_size  <- 400\n",
    "num_labels <- 10\n",
    "\n",
    "m <- nrow(X)\n",
    "rand_indices <- sample(m, 100);\n",
    "sel <- X[rand_indices, ]"
   ]
  },
  {
   "cell_type": "code",
   "execution_count": 36,
   "metadata": {
    "collapsed": true
   },
   "outputs": [],
   "source": [
    "#Funcion \n",
    "displayData  <- function(X, example_width = round(sqrt(dim(X)[2])))  {\n",
    "  #DISPLAYDATA Display 2D data in a nice grid\n",
    "  #   [h, display_array] <- DISPLAYDATA(X, example_width) displays 2D data\n",
    "  #   stored in X in a nice grid. It returns the figure handle h and the\n",
    "  #   displayed array if requested.\n",
    "  \n",
    "  if (is.vector(X))\n",
    "    X <- t(X)\n",
    "  \n",
    "  # Compute rows, cols\n",
    "  m <- dim(X)[1]\n",
    "  n <- dim(X)[2]\n",
    "  \n",
    "  example_height <- (n / example_width) #20\n",
    "  \n",
    "  # Compute number of items to display\n",
    "  display_rows <- floor(sqrt(m)) #10\n",
    "  display_cols <- ceiling(m / display_rows) #10\n",
    "  \n",
    "  # Between images padding\n",
    "  pad <- 1\n",
    "  \n",
    "  # Setup blank display\n",
    "  display_array <- -matrix(0,pad + display_rows * (example_height + pad), pad + display_cols * (example_width + pad))\n",
    "  \n",
    "  # Copy each example into a patch on the display array\n",
    "  curr_ex <- 1\n",
    "  \n",
    "  \n",
    "  for (j in 1:display_rows) {\n",
    "    for (i in 1:display_cols) {\n",
    "      if (curr_ex > m)\n",
    "        break\n",
    "      # Copy the patch\n",
    "      \n",
    "      # Get the max value of the patch\n",
    "      max_val <- max(abs(X[curr_ex,]))\n",
    "      display_array[pad + (j - 1) * (example_height + pad) + (1:example_height), pad + (i - 1) * (example_width + pad) + \n",
    "                    (1:example_width)] <- matrix(unlist(X[curr_ex,]), example_height, example_width) / max_val\n",
    "      curr_ex <- curr_ex + 1\n",
    "    }\n",
    "    if (curr_ex > m)\n",
    "      break\n",
    "  }\n",
    "  \n",
    "  # Display Image\n",
    "  op <- par(bg = \"gray\")\n",
    "  \n",
    "  #image draws by row from bottom up, but R indexes matrices by column, top down\n",
    "  dispArr <- t(apply(display_array,2,rev))\n",
    "  \n",
    "  image(\n",
    "    z = dispArr,col = gray.colors(100), xaxt = 'n',yaxt = 'n'\n",
    "  )\n",
    "  \n",
    "  grid(\n",
    "    nx = display_cols,display_rows,col = 'black',lwd = 2,lty = 1\n",
    "  )\n",
    "  box()\n",
    "  par(op)\n",
    "  \n",
    "  \n",
    "}"
   ]
  },
  {
   "cell_type": "code",
   "execution_count": 37,
   "metadata": {
    "collapsed": false
   },
   "outputs": [
    {
     "data": {
      "image/png": "[encoded data removed]",
      "text/plain": [
       "plot without title"
      ]
     },
     "metadata": {},
     "output_type": "display_data"
    }
   ],
   "source": [
    "displayData(sel)"
   ]
  },
  {
   "cell_type": "code",
   "execution_count": null,
   "metadata": {
    "collapsed": true
   },
   "outputs": [],
   "source": []
  },
  {
   "cell_type": "code",
   "execution_count": null,
   "metadata": {
    "collapsed": true
   },
   "outputs": [],
   "source": []
  }
 ],
 "metadata": {
  "anaconda-cloud": {},
  "kernelspec": {
   "display_name": "R",
   "language": "R",
   "name": "ir"
  },
  "language_info": {
   "codemirror_mode": "r",
   "file_extension": ".r",
   "mimetype": "text/x-r-source",
   "name": "R",
   "pygments_lexer": "r",
   "version": "3.3.2"
  }
 },
 "nbformat": 4,
 "nbformat_minor": 0
}
