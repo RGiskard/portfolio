{
 "cells": [
  {
   "cell_type": "code",
   "execution_count": 1,
   "metadata": {
    "collapsed": true
   },
   "outputs": [],
   "source": [
    "#En este ejemplo utilizaremos el algoritmo de aprendizaje de filtrado colaborativo y lo aplicaremos a un dataset de\n",
    "#valoraciones de películas.\n",
    "\n",
    "#Este dataset consiste en puntuaciones en la escala del 1 al 5. Se tienen 943 usuarios y 1682 peliculas."
   ]
  },
  {
   "cell_type": "code",
   "execution_count": 2,
   "metadata": {
    "collapsed": true
   },
   "outputs": [],
   "source": [
    "#Configuración de tamaño de gráficos\n",
    "options(repr.plot.width=5, repr.plot.height=4, scipen = 999, warn = -1)"
   ]
  },
  {
   "cell_type": "code",
   "execution_count": 3,
   "metadata": {
    "collapsed": false
   },
   "outputs": [
    {
     "name": "stderr",
     "output_type": "stream",
     "text": [
      "R.matlab v3.6.1 (2016-10-19) successfully loaded. See ?R.matlab for help.\n",
      "\n",
      "Attaching package: 'R.matlab'\n",
      "\n",
      "The following objects are masked from 'package:base':\n",
      "\n",
      "    getOption, isOpen\n",
      "\n",
      "Loading required package: ggplot2\n",
      "Loading required package: numDeriv\n"
     ]
    }
   ],
   "source": [
    "#Instalación y carga de paquetes necesarios\n",
    "list.of.packages <- c('R.matlab', 'ggmap', 'lbfgsb3')\n",
    "\n",
    "new.packages <- list.of.packages[!(list.of.packages %in% installed.packages()[,\"Package\"])]\n",
    "if(length(new.packages)) install.packages(new.packages, repos = \"https://cran.r-project.org\")\n",
    "\n",
    "library(R.matlab)\n",
    "library(ggmap)\n",
    "library(lbfgsb3)"
   ]
  },
  {
   "cell_type": "code",
   "execution_count": 4,
   "metadata": {
    "collapsed": false
   },
   "outputs": [
    {
     "name": "stdout",
     "output_type": "stream",
     "text": [
      "Cantidad de usuarios:  943\n",
      "Cantidad de películas:  1682\n",
      "Cantidad de valoraciones:  100000\n",
      "\n",
      "Proporción en el dataset según valoración: (0 corresponde a que el usuario no proporcionó valoración) "
     ]
    },
    {
     "data": {
      "text/plain": [
       "Y\n",
       "    0     1     2     3     4     5 \n",
       "93.70  0.39  0.72  1.71  2.15  1.34 "
      ]
     },
     "metadata": {},
     "output_type": "display_data"
    },
    {
     "data": {
      "image/png": "[encoded data removed]",
      "text/plain": [
       "Plot with title \"Histograma de ratings\""
      ]
     },
     "metadata": {},
     "output_type": "display_data"
    }
   ],
   "source": [
    "#Carga de datos\n",
    "mat <- as.matrix(as.data.frame(readMat('ex8_movies.mat')))\n",
    "\n",
    "Y <- mat[,1:943]  #Contiene la valoración y(i,j) que dio un usuario i a una pelicula j.\n",
    "R <- mat[,944:1886] #Contiene las valoraciones R(i,j)=0 si el usuario i valoró la pelicula j, y 0 si no la valoró.\n",
    "\n",
    "cat('Cantidad de usuarios: ', ncol(Y))\n",
    "cat('\\nCantidad de películas: ', nrow(Y))\n",
    "\n",
    "cat('\\nCantidad de valoraciones: ', sum(R))\n",
    "\n",
    "cat('\\n\\nProporción en el dataset según valoración: (0 corresponde a que el usuario no proporcionó valoración) ')\n",
    "round(prop.table(table(Y)) * 100, 2)\n",
    "\n",
    "hist(Y[Y != 0], main = 'Histograma de ratings', xlab = 'Valoración')"
   ]
  },
  {
   "cell_type": "code",
   "execution_count": 5,
   "metadata": {
    "collapsed": false
   },
   "outputs": [
    {
     "data": {
      "text/html": [
       "3.88"
      ],
      "text/latex": [
       "3.88"
      ],
      "text/markdown": [
       "3.88"
      ],
      "text/plain": [
       "[1] 3.88"
      ]
     },
     "metadata": {},
     "output_type": "display_data"
    }
   ],
   "source": [
    "#Desde la matriz de ratings podemos calcular la valoración promedio de una pelicula por ej. Toy Story (que es la 1er pelicula)\n",
    "round(mean(Y[1, Y[1,] != 0]),2)"
   ]
  },
  {
   "cell_type": "code",
   "execution_count": 6,
   "metadata": {
    "collapsed": false
   },
   "outputs": [
    {
     "ename": "ERROR",
     "evalue": "Error in eval(expr, envir, enclos): no se pudo encontrar la función \"image.plot\"\n",
     "output_type": "error",
     "traceback": [
      "Error in eval(expr, envir, enclos): no se pudo encontrar la función \"image.plot\"\nTraceback:\n"
     ]
    }
   ],
   "source": [
    "#Visualizamos la matriz de ratings\n",
    "x <- 1:nrow(Y)\n",
    "y <- 1:ncol(Y)\n",
    "Y_temp <- apply(Y, 2, rev)\n",
    "colores <- c('white', 'darkred', 'orange', 'yellow', 'darkgreen', 'blue')\n",
    "image.plot(y, x, t(Y_temp), xlab = 'Movies', ylab = 'Users', col = colores)"
   ]
  },
  {
   "cell_type": "code",
   "execution_count": null,
   "metadata": {
    "collapsed": false
   },
   "outputs": [],
   "source": [
    "#Visualizamos cada valoración por separado\n",
    "par(mfrow = c(6,1), mar=c(1,1,1,1))\n",
    "\n",
    "for(i in 0:5) {\n",
    "    \n",
    "    x <- 1:nrow(Y)\n",
    "    y <- 1:ncol(Y)\n",
    "    Y_temp <- Y == i\n",
    "    Y_temp <- apply(Y_temp, 2, rev)\n",
    "    image(y, x, t(Y_temp), xlab = 'Películas', ylab = 'Usuarios', col = c('white', 'black'), cex = 1.5)\n",
    "}\n",
    "\n",
    "par(mfrow = c(1,1))"
   ]
  },
  {
   "cell_type": "code",
   "execution_count": 10,
   "metadata": {
    "collapsed": false
   },
   "outputs": [
    {
     "name": "stdout",
     "output_type": "stream",
     "text": [
      "List of 5\n",
      " $ X           : num [1:1682, 1:10] 1.049 0.781 0.642 0.454 0.938 ...\n",
      " $ Theta       : num [1:943, 1:10] 0.2854 0.505 -0.4319 0.7286 0.0521 ...\n",
      " $ num.users   : num [1, 1] 943\n",
      " $ num.movies  : num [1, 1] 1682\n",
      " $ num.features: num [1, 1] 10\n",
      " - attr(*, \"header\")=List of 3\n",
      "  ..$ description: chr \"MATLAB 5.0 MAT-file, Platform: GLNXA64, Created on: Thu Dec  1 17:16:53 2011                                                \"\n",
      "  ..$ version    : chr \"5\"\n",
      "  ..$ endian     : chr \"little\"\n"
     ]
    }
   ],
   "source": [
    "#Función de costo del filtrado colaborativo\n",
    "\n",
    "#Cargamos los pesos pre-entrenados (X, Theta, num_users, num_movies, num_features)\n",
    "mat2 <- readMat('ex8_movieParams.mat')\n",
    "str(mat2)\n",
    "\n",
    "X <- mat2$X\n",
    "Theta <- mat2$Theta\n",
    "num_users <- mat2$num.users\n",
    "num_movies <- mat2$num.movies\n",
    "num_features <- mat2$num.features\n",
    "\n",
    "#Reducimos el dataset para que obtener los resultados más rápido.\n",
    "num_users <- 4\n",
    "num_movies <- 5\n",
    "num_features <- 3\n",
    "X <- X[1:num_movies, 1:num_features]\n",
    "Theta <- Theta[1:num_users, 1:num_features]\n",
    "Y <- Y[1:num_movies, 1:num_users]\n",
    "R <- R[1:num_movies, 1:num_users]\n",
    "lambda <- 0"
   ]
  },
  {
   "cell_type": "code",
   "execution_count": 11,
   "metadata": {
    "collapsed": false
   },
   "outputs": [
    {
     "name": "stdout",
     "output_type": "stream",
     "text": [
      "Costo con los parámetros dados:  22.2246"
     ]
    }
   ],
   "source": [
    "#Evaluamos la función de costo\n",
    "cofiCostFunc <- function(params) {\n",
    "    \n",
    "    X <- matrix(params[1:(num_movies * num_features)], num_movies, num_features)\n",
    "    Theta <- matrix(params[(num_movies * num_features + 1):length(params)],num_users, num_features)\n",
    "    J <- 0\n",
    "        \n",
    "    hyp <- X %*% t(Theta)\n",
    "    diff <- hyp - Y\n",
    "    diff2 <- diff ^ 2\n",
    "    \n",
    "    J <- (1/2) * sum(sum(diff2 * R)) + (lambda / 2) * sum(sum(X ^ 2)) + (lambda / 2) * sum(sum(Theta ^ 2))\n",
    "    J\n",
    "}\n",
    "\n",
    "cofiGradFunc <- function(params) {\n",
    "    \n",
    "    X <- matrix(params[1:(num_movies * num_features)], num_movies, num_features)\n",
    "    Theta <- matrix(params[(num_movies * num_features + 1):length(params)],num_users, num_features)\n",
    "    \n",
    "    X_grad <- matrix(0,dim(X)[1],dim(X)[2])\n",
    "    Theta_grad <- matrix(0, dim(Theta)[1], dim(Theta)[2])\n",
    "    \n",
    "    hyp <- X %*% t(Theta)\n",
    "    diff <- hyp - Y\n",
    "    diff2 <- diff ^ 2\n",
    "    \n",
    "    X_grad <- (diff * R) %*% Theta  + lambda * X\n",
    "    Theta_grad <- t(diff * R) %*% X + lambda * Theta\n",
    "    \n",
    "    grad <- c(c(X_grad), c(Theta_grad))\n",
    "    grad\n",
    "}\n",
    "\n",
    "J <- cofiCostFunc(c(c(X), c(Theta)))\n",
    "grad <- cofiGradFunc(c(c(X), c(Theta)))\n",
    "\n",
    "cat('Costo con los parámetros dados: ', J)"
   ]
  },
  {
   "cell_type": "code",
   "execution_count": 12,
   "metadata": {
    "collapsed": false
   },
   "outputs": [
    {
     "name": "stdout",
     "output_type": "stream",
     "text": [
      "Costo con los parámetros dados:  31.34406"
     ]
    }
   ],
   "source": [
    "#Evaluación del costo con lambda 1.5\n",
    "lambda <- 1.5\n",
    "J <- cofiCostFunc(c(c(X), c(Theta)))\n",
    "cat('Costo con los parámetros dados: ', J)"
   ]
  },
  {
   "cell_type": "code",
   "execution_count": 13,
   "metadata": {
    "collapsed": false
   },
   "outputs": [
    {
     "data": {
      "text/html": [
       "<ol class=list-inline>\n",
       "\t<li>'Toy Story (1995)'</li>\n",
       "\t<li>'GoldenEye (1995)'</li>\n",
       "\t<li>'Four Rooms (1995)'</li>\n",
       "\t<li>'Get Shorty (1995)'</li>\n",
       "\t<li>'Copycat (1995)'</li>\n",
       "\t<li>'Shanghai Triad (Yao a yao yao dao waipo qiao) (1995)'</li>\n",
       "</ol>\n"
      ],
      "text/latex": [
       "\\begin{enumerate*}\n",
       "\\item 'Toy Story (1995)'\n",
       "\\item 'GoldenEye (1995)'\n",
       "\\item 'Four Rooms (1995)'\n",
       "\\item 'Get Shorty (1995)'\n",
       "\\item 'Copycat (1995)'\n",
       "\\item 'Shanghai Triad (Yao a yao yao dao waipo qiao) (1995)'\n",
       "\\end{enumerate*}\n"
      ],
      "text/markdown": [
       "1. 'Toy Story (1995)'\n",
       "2. 'GoldenEye (1995)'\n",
       "3. 'Four Rooms (1995)'\n",
       "4. 'Get Shorty (1995)'\n",
       "5. 'Copycat (1995)'\n",
       "6. 'Shanghai Triad (Yao a yao yao dao waipo qiao) (1995)'\n",
       "\n",
       "\n"
      ],
      "text/plain": [
       "[1] \"Toy Story (1995)\"                                    \n",
       "[2] \"GoldenEye (1995)\"                                    \n",
       "[3] \"Four Rooms (1995)\"                                   \n",
       "[4] \"Get Shorty (1995)\"                                   \n",
       "[5] \"Copycat (1995)\"                                      \n",
       "[6] \"Shanghai Triad (Yao a yao yao dao waipo qiao) (1995)\""
      ]
     },
     "metadata": {},
     "output_type": "display_data"
    }
   ],
   "source": [
    "#Antes de entrenar el modelo de filtrado colaborativo, primero añadiremos ratings que corresponden a un nuevo usuario.\n",
    "\n",
    "#Cargo los titulos de las películas\n",
    "file_name <- 'movie_ids.txt'\n",
    "file_contents <- readChar(file_name, file.info(file_name)$size)\n",
    "movieList <- strsplit(file_contents, split = '\\n')[[1]]\n",
    "movieList <- gsub('^[0-9]+ ', '', movieList)\n",
    "head(movieList)"
   ]
  },
  {
   "cell_type": "code",
   "execution_count": 14,
   "metadata": {
    "collapsed": false
   },
   "outputs": [
    {
     "name": "stdout",
     "output_type": "stream",
     "text": [
      "Nuevas valoraciones del usuario: \n",
      "Puntuación 4 para Toy Story (1995)\n",
      "Puntuación 3 para Twelve Monkeys (1995)\n",
      "Puntuación 5 para Usual Suspects, The (1995)\n",
      "Puntuación 4 para Outbreak (1995)\n",
      "Puntuación 5 para Shawshank Redemption, The (1994)\n",
      "Puntuación 3 para While You Were Sleeping (1995)\n",
      "Puntuación 5 para Forrest Gump (1994)\n",
      "Puntuación 2 para Silence of the Lambs, The (1991)\n",
      "Puntuación 4 para Alien (1979)\n",
      "Puntuación 5 para Die Hard 2 (1990)\n",
      "Puntuación 5 para Sphere (1998)"
     ]
    }
   ],
   "source": [
    "#Inicializamos my_ratings\n",
    "my_ratings <- rep(0, 1682)\n",
    "\n",
    "#Si queremos valorar a Toy Story con una puntuación de 4 hacemos:\n",
    "my_ratings[1] <- 4 #porque la primer pelicula en el indice es Toy Story\n",
    "\n",
    "#Otras valoraciones\n",
    "my_ratings[98] <- 2\n",
    "my_ratings[7] <- 3\n",
    "my_ratings[12] <- 5\n",
    "my_ratings[54] <- 4\n",
    "my_ratings[64] <- 5\n",
    "my_ratings[66] <- 3\n",
    "my_ratings[69] <- 5\n",
    "my_ratings[183] <- 4\n",
    "my_ratings[226] <- 5\n",
    "my_ratings[355] <- 5\n",
    "\n",
    "cat('Nuevas valoraciones del usuario: ')\n",
    "for(i in 1:length(my_ratings)) {\n",
    "    if(my_ratings[i] > 0) {\n",
    "        cat('\\nPuntuación', my_ratings[i], 'para', movieList[i])\n",
    "    }\n",
    "}"
   ]
  },
  {
   "cell_type": "code",
   "execution_count": 15,
   "metadata": {
    "collapsed": false
   },
   "outputs": [
    {
     "data": {
      "text/html": [
       "1316870.65475453"
      ],
      "text/latex": [
       "1316870.65475453"
      ],
      "text/markdown": [
       "1316870.65475453"
      ],
      "text/plain": [
       "[1] 1316871"
      ]
     },
     "metadata": {},
     "output_type": "display_data"
    }
   ],
   "source": [
    "#Ahora entrenaremos el modelo de filtrado colaborativo en el dataset de 1682 peliculas y 943 usuarios\n",
    "\n",
    "#Agregamos nuestros nuevos ratings al dataset\n",
    "mat <- as.matrix(as.data.frame(readMat('ex8_movies.mat')))\n",
    "\n",
    "Y <- mat[,1:943]  #Contiene la valoración y(i,j) que dio un usuario i a una pelicula j.\n",
    "R <- mat[,944:1886] #Contiene las valoraciones R(i,j)=0 si el usuario i valoró la pelicula j, y 0 si no la valoró.\n",
    "\n",
    "Y <- cbind(Y, my_ratings)\n",
    "R <- cbind(R, my_ratings != 0)\n",
    "\n",
    "#Normalizamos los ratings\n",
    "#Y <- scale(Y)\n",
    "\n",
    "#Algunos valores útiles\n",
    "num_users <- ncol(Y)\n",
    "num_movies <- nrow(Y)\n",
    "num_features <- 10\n",
    "\n",
    "#Inicializacion aleatoria\n",
    "n <- num_movies * num_features\n",
    "X <- matrix(rnorm(n), num_movies, num_features)\n",
    "n <- num_users * num_features\n",
    "Theta <-  matrix(rnorm(n), num_users, num_features)\n",
    "\n",
    "initial_parameters <- c(c(X), c(Theta)) \n",
    "\n",
    "#Regularizacion\n",
    "lambda <- 10\n",
    "\n",
    "J <- cofiCostFunc(initial_parameters)\n",
    "J\n",
    "grad <- cofiGradFunc(initial_parameters)"
   ]
  },
  {
   "cell_type": "code",
   "execution_count": 21,
   "metadata": {
    "collapsed": false
   },
   "outputs": [
    {
     "name": "stdout",
     "output_type": "stream",
     "text": [
      "initial  value 1316870.654755 \n",
      "iter   2 value 882206.306660\n",
      "iter   3 value 776503.199029\n",
      "iter   4 value 713265.664411\n",
      "iter   5 value 651368.002121\n",
      "iter   6 value 622027.335423\n",
      "iter   7 value 588283.883247\n",
      "iter   8 value 501477.298447\n",
      "iter   9 value 472274.106860\n",
      "iter  10 value 446823.632919\n",
      "final  value 446823.632919 \n",
      "stopped after 10 iterations\n"
     ]
    }
   ],
   "source": [
    "#Utilizaremos el paquete lbfgsb3 para minimizar\n",
    "\n",
    "theta <- optim(initial_parameters, fn = cofiCostFunc, gr = cofiGradFunc, method = \"BFGS\", \n",
    "               control = list(maxit=10, trace=1, REPORT=1) )$par"
   ]
  },
  {
   "cell_type": "code",
   "execution_count": 22,
   "metadata": {
    "collapsed": false
   },
   "outputs": [],
   "source": [
    "X <- matrix(theta[1:(num_movies*num_features)], num_movies, num_features)\n",
    "Theta <- matrix(theta[(num_movies*num_features+1):length(theta)], num_users, num_features)"
   ]
  },
  {
   "cell_type": "code",
   "execution_count": 23,
   "metadata": {
    "collapsed": false
   },
   "outputs": [],
   "source": [
    "#Luego de haber entrenado el modelo ahora puedes hacer recomendaciones calculando la matriz de predicciones\n",
    "p <- X %*% t(Theta)\n",
    "my_predictions <- p[,1] #sumar la media si estan normalizados los datos /escalados"
   ]
  },
  {
   "cell_type": "code",
   "execution_count": 24,
   "metadata": {
    "collapsed": false
   },
   "outputs": [
    {
     "name": "stdout",
     "output_type": "stream",
     "text": [
      "Mejores recomendaciones para ti:\n",
      "Predicción de 10.83425 de rating para la pelicula Toy Story (1995)\n",
      "Predicción de 10.29489 de rating para la pelicula Scream (1996)\n",
      "Predicción de 10.19779 de rating para la pelicula Return of the Jedi (1983)\n",
      "Predicción de 8.148821 de rating para la pelicula Raiders of the Lost Ark (1981)\n",
      "Predicción de 7.897076 de rating para la pelicula Independence Day (ID4) (1996)\n",
      "Predicción de 7.199577 de rating para la pelicula Back to the Future (1985)\n",
      "Predicción de 6.9699 de rating para la pelicula Empire Strikes Back, The (1980)\n",
      "Predicción de 6.831793 de rating para la pelicula Rock, The (1996)\n",
      "Predicción de 6.354125 de rating para la pelicula Phenomenon (1996)\n",
      "Predicción de 6.333214 de rating para la pelicula Schindler's List (1993)"
     ]
    }
   ],
   "source": [
    "sorted <- sort(my_predictions, decreasing = TRUE, index.return = TRUE)\n",
    "n <- 10\n",
    "sorted <- lapply(sorted, \"[\", c(1:n)) \n",
    "\n",
    "cat('Mejores recomendaciones para ti:')\n",
    "for(i in 1:n) {\n",
    "    \n",
    "    cat('\\nPredicción de', sorted$x[i], 'de rating para la pelicula', movieList[sorted$ix[i]])\n",
    "}"
   ]
  },
  {
   "cell_type": "code",
   "execution_count": null,
   "metadata": {
    "collapsed": true
   },
   "outputs": [],
   "source": []
  }
 ],
 "metadata": {
  "kernelspec": {
   "display_name": "R",
   "language": "R",
   "name": "ir"
  },
  "language_info": {
   "codemirror_mode": "r",
   "file_extension": ".r",
   "mimetype": "text/x-r-source",
   "name": "R",
   "pygments_lexer": "r",
   "version": "3.3.2"
  }
 },
 "nbformat": 4,
 "nbformat_minor": 0
}
