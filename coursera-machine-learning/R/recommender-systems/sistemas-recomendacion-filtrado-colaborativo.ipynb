{
 "cells": [
  {
   "cell_type": "markdown",
   "metadata": {},
   "source": [
    "# Sistemas de recomendación: filtrado colaborativo"
   ]
  },
  {
   "cell_type": "markdown",
   "metadata": {
    "collapsed": true
   },
   "source": [
    "En este ejemplo utilizaremos el algoritmo de aprendizaje de filtrado colaborativo y lo aplicaremos a un dataset de valoraciones de películas.\n",
    "\n",
    "Este dataset consiste en puntuaciones en la escala del 1 al 5. Se tienen 943 usuarios y 1682 peliculas."
   ]
  },
  {
   "cell_type": "markdown",
   "metadata": {},
   "source": [
    "#### Configuración de tamaño de gráficos"
   ]
  },
  {
   "cell_type": "code",
   "execution_count": 1,
   "metadata": {
    "collapsed": true
   },
   "outputs": [],
   "source": [
    "options(repr.plot.width=5, repr.plot.height=4, scipen = 999, warn = -1)"
   ]
  },
  {
   "cell_type": "markdown",
   "metadata": {},
   "source": [
    "#### Instalación y carga de paquetes necesarios"
   ]
  },
  {
   "cell_type": "code",
   "execution_count": 2,
   "metadata": {
    "collapsed": false
   },
   "outputs": [
    {
     "name": "stderr",
     "output_type": "stream",
     "text": [
      "R.matlab v3.6.1 (2016-10-19) successfully loaded. See ?R.matlab for help.\n",
      "\n",
      "Attaching package: 'R.matlab'\n",
      "\n",
      "The following objects are masked from 'package:base':\n",
      "\n",
      "    getOption, isOpen\n",
      "\n",
      "Loading required package: ggplot2\n",
      "Loading required package: numDeriv\n",
      "Loading required package: spam\n",
      "Loading required package: grid\n",
      "Spam version 1.4-0 (2016-08-29) is loaded.\n",
      "Type 'help( Spam)' or 'demo( spam)' for a short introduction \n",
      "and overview of this package.\n",
      "Help for individual functions is also obtained by adding the\n",
      "suffix '.spam' to the function name, e.g. 'help( chol.spam)'.\n",
      "\n",
      "Attaching package: 'spam'\n",
      "\n",
      "The following objects are masked from 'package:base':\n",
      "\n",
      "    backsolve, forwardsolve\n",
      "\n",
      "Loading required package: maps\n",
      "\n",
      "Attaching package: 'IRdisplay'\n",
      "\n",
      "The following object is masked from 'package:spam':\n",
      "\n",
      "    display\n",
      "\n"
     ]
    }
   ],
   "source": [
    "list.of.packages <- c('R.matlab', 'ggmap', 'lbfgsb3', 'fields', 'png', 'IRdisplay')\n",
    "\n",
    "new.packages <- list.of.packages[!(list.of.packages %in% installed.packages()[,\"Package\"])]\n",
    "if(length(new.packages)) install.packages(new.packages, repos = \"https://cran.r-project.org\")\n",
    "\n",
    "library(R.matlab)\n",
    "library(ggmap)\n",
    "library(lbfgsb3)\n",
    "library(fields)\n",
    "library(png)\n",
    "library(IRdisplay)"
   ]
  },
  {
   "cell_type": "markdown",
   "metadata": {},
   "source": [
    "#### Carga y exploración de datos"
   ]
  },
  {
   "cell_type": "code",
   "execution_count": 5,
   "metadata": {
    "collapsed": false
   },
   "outputs": [
    {
     "name": "stdout",
     "output_type": "stream",
     "text": [
      "Cantidad de usuarios:  943\n",
      "Cantidad de películas:  1682\n",
      "Cantidad de valoraciones:  100000\n",
      "\n",
      "Proporción en el dataset según valoración: (0 corresponde a que el usuario no proporcionó valoración) "
     ]
    },
    {
     "data": {
      "text/plain": [
       "Y\n",
       "    0     1     2     3     4     5 \n",
       "93.70  0.39  0.72  1.71  2.15  1.34 "
      ]
     },
     "metadata": {},
     "output_type": "display_data"
    },
    {
     "name": "stdout",
     "output_type": "stream",
     "text": [
      "\n",
      "\n",
      "Proporción en el dataset según valoración:"
     ]
    },
    {
     "data": {
      "text/plain": [
       "\n",
       "    1     2     3     4     5 \n",
       " 6.11 11.37 27.15 34.17 21.20 "
      ]
     },
     "metadata": {},
     "output_type": "display_data"
    }
   ],
   "source": [
    "mat <- as.matrix(as.data.frame(readMat('ex8_movies.mat')))\n",
    "\n",
    "Y <- mat[,1:943]  #Contiene la valoración y(i,j) que dio un usuario i a una pelicula j.\n",
    "R <- mat[,944:1886] #Contiene las valoraciones R(i,j)=0 si el usuario i valoró la pelicula j, y 0 si no la valoró.\n",
    "\n",
    "cat('Cantidad de usuarios: ', ncol(Y))\n",
    "cat('\\nCantidad de películas: ', nrow(Y))\n",
    "\n",
    "cat('\\nCantidad de valoraciones: ', sum(R))\n",
    "\n",
    "cat('\\n\\nProporción en el dataset según valoración: (0 corresponde a que el usuario no proporcionó valoración) ')\n",
    "round(prop.table(table(Y)) * 100, 2)\n",
    "\n",
    "cat('\\n\\nProporción en el dataset según valoración:')\n",
    "round(prop.table(table(Y[Y!=0])) * 100, 2)"
   ]
  },
  {
   "cell_type": "markdown",
   "metadata": {},
   "source": [
    "Podemos ver que faltan casi el 94% de las valoraciones teniendo en cuenta películas y usuarios existentes. \n",
    "Si descartamos la proporción que no está valorada tenemos que el 35% corresponden a la valoración igual a 4, 27% para la 3, sigue la valoracion 5 con 21%, finalmente el 2 con 11%, y solo 6% está valorado con puntuación igual a 1."
   ]
  },
  {
   "cell_type": "markdown",
   "metadata": {},
   "source": [
    "### Histograma de ratings"
   ]
  },
  {
   "cell_type": "code",
   "execution_count": 6,
   "metadata": {
    "collapsed": false
   },
   "outputs": [
    {
     "data": {
      "image/png": "[encoded data removed]",
      "text/plain": [
       "Plot with title \"Histograma de ratings\""
      ]
     },
     "metadata": {},
     "output_type": "display_data"
    }
   ],
   "source": [
    "hist(Y[Y != 0], main = 'Histograma de ratings', xlab = 'Valoración')"
   ]
  },
  {
   "cell_type": "markdown",
   "metadata": {},
   "source": [
    "Desde la matriz de ratings podemos calcular la valoración promedio de una pelicula por ej. Toy Story (que es la 1er pelicula)."
   ]
  },
  {
   "cell_type": "code",
   "execution_count": 10,
   "metadata": {
    "collapsed": false
   },
   "outputs": [
    {
     "name": "stdout",
     "output_type": "stream",
     "text": [
      "Valoración promedio Toy Story: 3.88 / 5"
     ]
    }
   ],
   "source": [
    "cat('Valoración promedio Toy Story:', round(mean(Y[1, Y[1,] != 0]),2), '/ 5')"
   ]
  },
  {
   "cell_type": "markdown",
   "metadata": {},
   "source": [
    "### Visualizamos la matriz de ratings para tener una noción de como se distribuyen los datos"
   ]
  },
  {
   "cell_type": "code",
   "execution_count": 12,
   "metadata": {
    "collapsed": false
   },
   "outputs": [
    {
     "data": {
      "text/html": [
       "<strong>png:</strong> 2"
      ],
      "text/latex": [
       "\\textbf{png:} 2"
      ],
      "text/markdown": [
       "**png:** 2"
      ],
      "text/plain": [
       "png \n",
       "  2 "
      ]
     },
     "metadata": {},
     "output_type": "display_data"
    },
    {
     "data": {
      "image/png": "[encoded data removed]"
     },
     "metadata": {},
     "output_type": "display_data"
    }
   ],
   "source": [
    "x <- 1:nrow(Y)\n",
    "y <- 1:ncol(Y)\n",
    "Y_temp <- apply(Y, 2, rev)\n",
    "colores <- c('white', 'darkred', 'orange', 'yellow', 'darkgreen', 'blue')\n",
    "\n",
    "png(filename = 'plot_ratings.png')\n",
    "image.plot(y, x, t(Y_temp), xlab = 'Movies', ylab = 'Users', col = colores, axes = FALSE)\n",
    "dev.off()\n",
    "\n",
    "display_png(file='plot_ratings.png')"
   ]
  },
  {
   "cell_type": "markdown",
   "metadata": {},
   "source": [
    "A partir del gráfico anterior podemos ver que toda la región blanca son películas sin valorar por los usuarios.\n",
    "De igual forma se ve que los primeros usuarios son los que más indican los ratings de las películas vistas."
   ]
  },
  {
   "cell_type": "markdown",
   "metadata": {},
   "source": [
    "### A continuación visualizamos cada valoración por separado."
   ]
  },
  {
   "cell_type": "code",
   "execution_count": 13,
   "metadata": {
    "collapsed": false
   },
   "outputs": [
    {
     "data": {
      "text/html": [
       "<strong>png:</strong> 2"
      ],
      "text/latex": [
       "\\textbf{png:} 2"
      ],
      "text/markdown": [
       "**png:** 2"
      ],
      "text/plain": [
       "png \n",
       "  2 "
      ]
     },
     "metadata": {},
     "output_type": "display_data"
    },
    {
     "data": {
      "image/png": "[encoded data removed]"
     },
     "metadata": {},
     "output_type": "display_data"
    }
   ],
   "source": [
    "png(filename=\"plot_individuals_ratings.png\")\n",
    "par(mfrow = c(6,1), mar=c(1,1,1,1))\n",
    "\n",
    "for(i in 0:5) {\n",
    "    \n",
    "    x <- 1:nrow(Y)\n",
    "    y <- 1:ncol(Y)\n",
    "    Y_temp <- Y == i\n",
    "    Y_temp <- apply(Y_temp, 2, rev)\n",
    "    image(y, x, t(Y_temp), xlab = 'Películas', ylab = 'Usuarios', col = c('white', 'black'), cex = 1.5)\n",
    "}\n",
    "dev.off()\n",
    "par(mfrow = c(1,1))\n",
    "\n",
    "display_png(file='plot_individuals_ratings.png')"
   ]
  },
  {
   "cell_type": "markdown",
   "metadata": {},
   "source": [
    "El gráfico superior corresponde a las puntuaciones igual a 0. O sea, sin valoración. Como vimos anteriormente es mucho mayor la proporción sin valoraciones.\n",
    "Los demás gráficos corresponden a las valoraciones 1 a 5 de arriba hacia abajo. Podemos ver las distribuciones de puntos y notar que para las valoraciones 1 y 2 no hay muchas puntuaciones, mientras que en las demás se ve una mayor cantidad de puntos."
   ]
  },
  {
   "cell_type": "markdown",
   "metadata": {},
   "source": [
    "### Función de costo del filtrado colaborativo\n",
    "\n",
    "#### Cargamos los pesos pre-entrenados (X, Theta, num_users, num_movies, num_features)"
   ]
  },
  {
   "cell_type": "code",
   "execution_count": null,
   "metadata": {
    "collapsed": true
   },
   "outputs": [],
   "source": [
    "mat2 <- readMat('ex8_movieParams.mat')\n",
    "str(mat2)\n",
    "\n",
    "X <- mat2$X\n",
    "Theta <- mat2$Theta\n",
    "num_users <- mat2$num.users\n",
    "num_movies <- mat2$num.movies\n",
    "num_features <- mat2$num.features"
   ]
  },
  {
   "cell_type": "markdown",
   "metadata": {},
   "source": [
    "#### Inicialmente reducimos el dataset para experimentar y obtener los resultados más rápido."
   ]
  },
  {
   "cell_type": "code",
   "execution_count": 14,
   "metadata": {
    "collapsed": false
   },
   "outputs": [
    {
     "name": "stdout",
     "output_type": "stream",
     "text": [
      "List of 5\n",
      " $ X           : num [1:1682, 1:10] 1.049 0.781 0.642 0.454 0.938 ...\n",
      " $ Theta       : num [1:943, 1:10] 0.2854 0.505 -0.4319 0.7286 0.0521 ...\n",
      " $ num.users   : num [1, 1] 943\n",
      " $ num.movies  : num [1, 1] 1682\n",
      " $ num.features: num [1, 1] 10\n",
      " - attr(*, \"header\")=List of 3\n",
      "  ..$ description: chr \"MATLAB 5.0 MAT-file, Platform: GLNXA64, Created on: Thu Dec  1 17:16:53 2011                                                \"\n",
      "  ..$ version    : chr \"5\"\n",
      "  ..$ endian     : chr \"little\"\n"
     ]
    }
   ],
   "source": [
    "num_users <- 4\n",
    "num_movies <- 5\n",
    "num_features <- 3\n",
    "X <- X[1:num_movies, 1:num_features]\n",
    "Theta <- Theta[1:num_users, 1:num_features]\n",
    "Y <- Y[1:num_movies, 1:num_users]\n",
    "R <- R[1:num_movies, 1:num_users]\n",
    "lambda <- 0"
   ]
  },
  {
   "cell_type": "markdown",
   "metadata": {},
   "source": [
    "#### Construimos las funciones para obtener el costo y los gradientes"
   ]
  },
  {
   "cell_type": "code",
   "execution_count": 11,
   "metadata": {
    "collapsed": false
   },
   "outputs": [
    {
     "name": "stdout",
     "output_type": "stream",
     "text": [
      "Costo con los parámetros dados:  22.2246"
     ]
    }
   ],
   "source": [
    "cofiCostFunc <- function(params) {\n",
    "    \n",
    "    X <- matrix(params[1:(num_movies * num_features)], num_movies, num_features)\n",
    "    Theta <- matrix(params[(num_movies * num_features + 1):length(params)],num_users, num_features)\n",
    "    J <- 0\n",
    "        \n",
    "    hyp <- X %*% t(Theta)\n",
    "    diff <- hyp - Y\n",
    "    diff2 <- diff ^ 2\n",
    "    \n",
    "    J <- (1/2) * sum(sum(diff2 * R)) + (lambda / 2) * sum(sum(X ^ 2)) + (lambda / 2) * sum(sum(Theta ^ 2))\n",
    "    J\n",
    "}\n",
    "\n",
    "cofiGradFunc <- function(params) {\n",
    "    \n",
    "    X <- matrix(params[1:(num_movies * num_features)], num_movies, num_features)\n",
    "    Theta <- matrix(params[(num_movies * num_features + 1):length(params)],num_users, num_features)\n",
    "    \n",
    "    X_grad <- matrix(0,dim(X)[1],dim(X)[2])\n",
    "    Theta_grad <- matrix(0, dim(Theta)[1], dim(Theta)[2])\n",
    "    \n",
    "    hyp <- X %*% t(Theta)\n",
    "    diff <- hyp - Y\n",
    "    diff2 <- diff ^ 2\n",
    "    \n",
    "    X_grad <- (diff * R) %*% Theta  + lambda * X\n",
    "    Theta_grad <- t(diff * R) %*% X + lambda * Theta\n",
    "    \n",
    "    grad <- c(c(X_grad), c(Theta_grad))\n",
    "    grad\n",
    "}\n",
    "\n",
    "J <- cofiCostFunc(c(c(X), c(Theta)))\n",
    "grad <- cofiGradFunc(c(c(X), c(Theta)))\n",
    "\n",
    "cat('Costo con los parámetros dados: ', J)"
   ]
  },
  {
   "cell_type": "markdown",
   "metadata": {},
   "source": [
    "#### Probamos incrementando el valor de lambda"
   ]
  },
  {
   "cell_type": "code",
   "execution_count": 12,
   "metadata": {
    "collapsed": false
   },
   "outputs": [
    {
     "name": "stdout",
     "output_type": "stream",
     "text": [
      "Costo con los parámetros dados:  31.34406"
     ]
    }
   ],
   "source": [
    "lambda <- 1.5\n",
    "J <- cofiCostFunc(c(c(X), c(Theta)))\n",
    "cat('Costo con los parámetros dados: ', J)"
   ]
  },
  {
   "cell_type": "markdown",
   "metadata": {},
   "source": [
    "***\n",
    "Una vez que experimentamos con unos pocos ratings pasamos a usar todo el dataset.\n",
    "\n",
    "Antes de entrenar el modelo de filtrado colaborativo, primero añadiremos ratings que corresponden a un nuevo usuario.\n",
    "\n",
    "##### Cargo los titulos de las películas"
   ]
  },
  {
   "cell_type": "code",
   "execution_count": 13,
   "metadata": {
    "collapsed": false
   },
   "outputs": [
    {
     "data": {
      "text/html": [
       "<ol class=list-inline>\n",
       "\t<li>'Toy Story (1995)'</li>\n",
       "\t<li>'GoldenEye (1995)'</li>\n",
       "\t<li>'Four Rooms (1995)'</li>\n",
       "\t<li>'Get Shorty (1995)'</li>\n",
       "\t<li>'Copycat (1995)'</li>\n",
       "\t<li>'Shanghai Triad (Yao a yao yao dao waipo qiao) (1995)'</li>\n",
       "</ol>\n"
      ],
      "text/latex": [
       "\\begin{enumerate*}\n",
       "\\item 'Toy Story (1995)'\n",
       "\\item 'GoldenEye (1995)'\n",
       "\\item 'Four Rooms (1995)'\n",
       "\\item 'Get Shorty (1995)'\n",
       "\\item 'Copycat (1995)'\n",
       "\\item 'Shanghai Triad (Yao a yao yao dao waipo qiao) (1995)'\n",
       "\\end{enumerate*}\n"
      ],
      "text/markdown": [
       "1. 'Toy Story (1995)'\n",
       "2. 'GoldenEye (1995)'\n",
       "3. 'Four Rooms (1995)'\n",
       "4. 'Get Shorty (1995)'\n",
       "5. 'Copycat (1995)'\n",
       "6. 'Shanghai Triad (Yao a yao yao dao waipo qiao) (1995)'\n",
       "\n",
       "\n"
      ],
      "text/plain": [
       "[1] \"Toy Story (1995)\"                                    \n",
       "[2] \"GoldenEye (1995)\"                                    \n",
       "[3] \"Four Rooms (1995)\"                                   \n",
       "[4] \"Get Shorty (1995)\"                                   \n",
       "[5] \"Copycat (1995)\"                                      \n",
       "[6] \"Shanghai Triad (Yao a yao yao dao waipo qiao) (1995)\""
      ]
     },
     "metadata": {},
     "output_type": "display_data"
    }
   ],
   "source": [
    "file_name <- 'movie_ids.txt'\n",
    "file_contents <- readChar(file_name, file.info(file_name)$size)\n",
    "movieList <- strsplit(file_contents, split = '\\n')[[1]]\n",
    "movieList <- gsub('^[0-9]+ ', '', movieList)\n",
    "head(movieList)"
   ]
  },
  {
   "cell_type": "markdown",
   "metadata": {},
   "source": [
    "Inicializamos my_ratings"
   ]
  },
  {
   "cell_type": "code",
   "execution_count": null,
   "metadata": {
    "collapsed": true
   },
   "outputs": [],
   "source": [
    "my_ratings <- rep(0, 1682)"
   ]
  },
  {
   "cell_type": "markdown",
   "metadata": {},
   "source": [
    "Por ejemplo, si queremos valorar a Toy Story con una puntuación de 4 y teniendo en cuenta que Toy Story es la primer pelicula del dataset, hacemos:"
   ]
  },
  {
   "cell_type": "code",
   "execution_count": null,
   "metadata": {
    "collapsed": true
   },
   "outputs": [],
   "source": [
    "my_ratings[1] <- 4"
   ]
  },
  {
   "cell_type": "code",
   "execution_count": 14,
   "metadata": {
    "collapsed": false
   },
   "outputs": [
    {
     "name": "stdout",
     "output_type": "stream",
     "text": [
      "Nuevas valoraciones del usuario: \n",
      "Puntuación 4 para Toy Story (1995)\n",
      "Puntuación 3 para Twelve Monkeys (1995)\n",
      "Puntuación 5 para Usual Suspects, The (1995)\n",
      "Puntuación 4 para Outbreak (1995)\n",
      "Puntuación 5 para Shawshank Redemption, The (1994)\n",
      "Puntuación 3 para While You Were Sleeping (1995)\n",
      "Puntuación 5 para Forrest Gump (1994)\n",
      "Puntuación 2 para Silence of the Lambs, The (1991)\n",
      "Puntuación 4 para Alien (1979)\n",
      "Puntuación 5 para Die Hard 2 (1990)\n",
      "Puntuación 5 para Sphere (1998)"
     ]
    }
   ],
   "source": [
    "#Otras valoraciones\n",
    "my_ratings[98] <- 2\n",
    "my_ratings[7] <- 3\n",
    "my_ratings[12] <- 5\n",
    "my_ratings[54] <- 4\n",
    "my_ratings[64] <- 5\n",
    "my_ratings[66] <- 3\n",
    "my_ratings[69] <- 5\n",
    "my_ratings[183] <- 4\n",
    "my_ratings[226] <- 5\n",
    "my_ratings[355] <- 5\n",
    "\n",
    "cat('Nuevas valoraciones del usuario: ')\n",
    "for(i in 1:length(my_ratings)) {\n",
    "    if(my_ratings[i] > 0) {\n",
    "        cat('\\nPuntuación', my_ratings[i], 'para', movieList[i])\n",
    "    }\n",
    "}"
   ]
  },
  {
   "cell_type": "markdown",
   "metadata": {},
   "source": [
    "#### Ahora entrenaremos el modelo de filtrado colaborativo en el dataset de 1682 peliculas y 943 usuarios\n",
    "\n",
    "Agregamos nuestros nuevos ratings al dataset"
   ]
  },
  {
   "cell_type": "code",
   "execution_count": null,
   "metadata": {
    "collapsed": true
   },
   "outputs": [],
   "source": [
    "mat <- as.matrix(as.data.frame(readMat('ex8_movies.mat')))\n",
    "\n",
    "Y <- mat[,1:943]  #Contiene la valoración y(i,j) que dio un usuario i a una pelicula j.\n",
    "R <- mat[,944:1886] #Contiene las valoraciones R(i,j)=0 si el usuario i valoró la pelicula j, y 0 si no la valoró.\n",
    "\n",
    "Y <- cbind(Y, my_ratings)\n",
    "R <- cbind(R, my_ratings != 0)"
   ]
  },
  {
   "cell_type": "markdown",
   "metadata": {},
   "source": [
    "Normalizamos los ratings"
   ]
  },
  {
   "cell_type": "code",
   "execution_count": 15,
   "metadata": {
    "collapsed": true
   },
   "outputs": [],
   "source": [
    "#Y <- scale(Y)"
   ]
  },
  {
   "cell_type": "markdown",
   "metadata": {},
   "source": [
    "Inicializamos algunos valores útiles"
   ]
  },
  {
   "cell_type": "code",
   "execution_count": null,
   "metadata": {
    "collapsed": true
   },
   "outputs": [],
   "source": [
    "num_users <- ncol(Y)\n",
    "num_movies <- nrow(Y)\n",
    "num_features <- 10"
   ]
  },
  {
   "cell_type": "markdown",
   "metadata": {},
   "source": [
    "Inicializamos los parámetros de manera aleatoria"
   ]
  },
  {
   "cell_type": "code",
   "execution_count": 15,
   "metadata": {
    "collapsed": false
   },
   "outputs": [
    {
     "data": {
      "text/html": [
       "1316870.65475453"
      ],
      "text/latex": [
       "1316870.65475453"
      ],
      "text/markdown": [
       "1316870.65475453"
      ],
      "text/plain": [
       "[1] 1316871"
      ]
     },
     "metadata": {},
     "output_type": "display_data"
    }
   ],
   "source": [
    "n <- num_movies * num_features\n",
    "X <- matrix(rnorm(n), num_movies, num_features)\n",
    "n <- num_users * num_features\n",
    "Theta <-  matrix(rnorm(n), num_users, num_features)\n",
    "\n",
    "initial_parameters <- c(c(X), c(Theta)) \n",
    "\n",
    "lambda <- 10  #para regularizar\n",
    "\n",
    "#No es necesario calcular pero esto serían los gradientes y el costo inicial (en una iteración)\n",
    "J <- cofiCostFunc(initial_parameters)\n",
    "grad <- cofiGradFunc(initial_parameters)\n",
    "cat('Costo inicial:', J)"
   ]
  },
  {
   "cell_type": "markdown",
   "metadata": {},
   "source": [
    "#### Optimización: Utilizaremos la función optim() para minimizar"
   ]
  },
  {
   "cell_type": "code",
   "execution_count": 21,
   "metadata": {
    "collapsed": false
   },
   "outputs": [
    {
     "name": "stdout",
     "output_type": "stream",
     "text": [
      "initial  value 1316870.654755 \n",
      "iter   2 value 882206.306660\n",
      "iter   3 value 776503.199029\n",
      "iter   4 value 713265.664411\n",
      "iter   5 value 651368.002121\n",
      "iter   6 value 622027.335423\n",
      "iter   7 value 588283.883247\n",
      "iter   8 value 501477.298447\n",
      "iter   9 value 472274.106860\n",
      "iter  10 value 446823.632919\n",
      "final  value 446823.632919 \n",
      "stopped after 10 iterations\n"
     ]
    }
   ],
   "source": [
    "theta <- optim(initial_parameters, fn = cofiCostFunc, gr = cofiGradFunc, method = \"BFGS\", \n",
    "               control = list(maxit=1000, trace=1, REPORT=1) )$par"
   ]
  },
  {
   "cell_type": "markdown",
   "metadata": {},
   "source": [
    "Redimensionamos los parámetros nuevamente"
   ]
  },
  {
   "cell_type": "code",
   "execution_count": 22,
   "metadata": {
    "collapsed": false
   },
   "outputs": [],
   "source": [
    "X <- matrix(theta[1:(num_movies*num_features)], num_movies, num_features)\n",
    "Theta <- matrix(theta[(num_movies*num_features+1):length(theta)], num_users, num_features)"
   ]
  },
  {
   "cell_type": "markdown",
   "metadata": {},
   "source": [
    "Luego de haber entrenado el modelo ahora podemos hacer recomendaciones calculando la matriz de predicciones"
   ]
  },
  {
   "cell_type": "code",
   "execution_count": 23,
   "metadata": {
    "collapsed": false
   },
   "outputs": [],
   "source": [
    "p <- X %*% t(Theta)\n",
    "my_predictions <- p[,1] #sumar la media si estan normalizados los datos /escalados"
   ]
  },
  {
   "cell_type": "markdown",
   "metadata": {},
   "source": [
    "**Obtenemos las mejores recomendaciones ordenando las predicciones.**"
   ]
  },
  {
   "cell_type": "code",
   "execution_count": 24,
   "metadata": {
    "collapsed": false
   },
   "outputs": [
    {
     "name": "stdout",
     "output_type": "stream",
     "text": [
      "Mejores recomendaciones para ti:\n",
      "Predicción de 10.83425 de rating para la pelicula Toy Story (1995)\n",
      "Predicción de 10.29489 de rating para la pelicula Scream (1996)\n",
      "Predicción de 10.19779 de rating para la pelicula Return of the Jedi (1983)\n",
      "Predicción de 8.148821 de rating para la pelicula Raiders of the Lost Ark (1981)\n",
      "Predicción de 7.897076 de rating para la pelicula Independence Day (ID4) (1996)\n",
      "Predicción de 7.199577 de rating para la pelicula Back to the Future (1985)\n",
      "Predicción de 6.9699 de rating para la pelicula Empire Strikes Back, The (1980)\n",
      "Predicción de 6.831793 de rating para la pelicula Rock, The (1996)\n",
      "Predicción de 6.354125 de rating para la pelicula Phenomenon (1996)\n",
      "Predicción de 6.333214 de rating para la pelicula Schindler's List (1993)"
     ]
    }
   ],
   "source": [
    "sorted <- sort(my_predictions, decreasing = TRUE, index.return = TRUE)\n",
    "n <- 10\n",
    "sorted <- lapply(sorted, \"[\", c(1:n)) \n",
    "\n",
    "cat('Mejores recomendaciones para ti:')\n",
    "for(i in 1:n) {\n",
    "    \n",
    "    cat('\\nPredicción de', sorted$x[i], 'de rating para la pelicula', movieList[sorted$ix[i]])\n",
    "}"
   ]
  }
 ],
 "metadata": {
  "kernelspec": {
   "display_name": "R",
   "language": "R",
   "name": "ir"
  },
  "language_info": {
   "codemirror_mode": "r",
   "file_extension": ".r",
   "mimetype": "text/x-r-source",
   "name": "R",
   "pygments_lexer": "r",
   "version": "3.3.2"
  }
 },
 "nbformat": 4,
 "nbformat_minor": 0
}
