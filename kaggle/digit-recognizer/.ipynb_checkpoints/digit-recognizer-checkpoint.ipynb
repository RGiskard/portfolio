{
 "cells": [
  {
   "cell_type": "markdown",
   "metadata": {},
   "source": [
    "# Digit recognizer"
   ]
  },
  {
   "cell_type": "code",
   "execution_count": 1,
   "metadata": {
    "collapsed": true
   },
   "outputs": [],
   "source": [
    "#Configuraciones iniciales\n",
    "options(scipen = 999, repr.plot.width=4, repr.plot.height= 4, warn = -1)"
   ]
  },
  {
   "cell_type": "code",
   "execution_count": 2,
   "metadata": {
    "collapsed": false
   },
   "outputs": [
    {
     "name": "stderr",
     "output_type": "stream",
     "text": [
      "Loading required package: spam\n",
      "Loading required package: grid\n",
      "Spam version 1.4-0 (2016-08-29) is loaded.\n",
      "Type 'help( Spam)' or 'demo( spam)' for a short introduction \n",
      "and overview of this package.\n",
      "Help for individual functions is also obtained by adding the\n",
      "suffix '.spam' to the function name, e.g. 'help( chol.spam)'.\n",
      "\n",
      "Attaching package: 'spam'\n",
      "\n",
      "The following objects are masked from 'package:base':\n",
      "\n",
      "    backsolve, forwardsolve\n",
      "\n",
      "Loading required package: maps\n",
      "Loading required package: ggplot2\n",
      "Loading required package: numDeriv\n"
     ]
    }
   ],
   "source": [
    "#Instalación y carga de paquetes necesarios\n",
    "list.of.packages <- c('fields', 'ggmap', 'gridExtra', 'lbfgsb3')\n",
    "\n",
    "new.packages <- list.of.packages[!(list.of.packages %in% installed.packages()[,\"Package\"])]\n",
    "if(length(new.packages)) install.packages(new.packages, repos = \"https://cran.r-project.org\")\n",
    "\n",
    "library(fields)\n",
    "library(ggmap)\n",
    "library(gridExtra)\n",
    "library(lbfgsb3)"
   ]
  },
  {
   "cell_type": "code",
   "execution_count": 3,
   "metadata": {
    "collapsed": false
   },
   "outputs": [],
   "source": [
    "df.train <- read.csv(\"train.csv\")"
   ]
  },
  {
   "cell_type": "code",
   "execution_count": 100,
   "metadata": {
    "collapsed": false
   },
   "outputs": [
    {
     "data": {
      "text/html": [
       "<ol class=list-inline>\n",
       "\t<li>42000</li>\n",
       "\t<li>784</li>\n",
       "</ol>\n"
      ],
      "text/latex": [
       "\\begin{enumerate*}\n",
       "\\item 42000\n",
       "\\item 784\n",
       "\\end{enumerate*}\n"
      ],
      "text/markdown": [
       "1. 42000\n",
       "2. 784\n",
       "\n",
       "\n"
      ],
      "text/plain": [
       "[1] 42000   784"
      ]
     },
     "metadata": {},
     "output_type": "display_data"
    }
   ],
   "source": [
    "X <- as.matrix(df.train[, 2:ncol(df.train)])\n",
    "y <- df.train$label\n",
    "y[y == 0] <- 10\n",
    "\n",
    "X <- X / 255#Scale values\n",
    "dim(X)"
   ]
  },
  {
   "cell_type": "code",
   "execution_count": 101,
   "metadata": {
    "collapsed": true
   },
   "outputs": [],
   "source": [
    "#Creamos la función sigmoidal\n",
    "sigmoid <- function(z) {\n",
    "  \n",
    "  g <- 1 / (1 + exp(1) ^ (-z))\n",
    "}\n",
    "\n",
    "#Función para calcular el gradiente de la función sigmoidal\n",
    "sigmoidGradient <- function(z) {\n",
    "    \n",
    "    z <- sigmoid(z)\n",
    "    g  <- z * (1 - z)\n",
    "    g\n",
    "}"
   ]
  },
  {
   "cell_type": "code",
   "execution_count": 102,
   "metadata": {
    "collapsed": true
   },
   "outputs": [],
   "source": [
    "#Funcion para calcular el costo (con regularización de parámetros)\n",
    "\n",
    "nnCostFunction <- function(nn_params) {\n",
    "    \n",
    "    Theta1 <- matrix(nn_params[1:(hidden_layer_size *(input_layer_size + 1))], hidden_layer_size, input_layer_size +1)\n",
    "    Theta2 <- matrix(nn_params[(1 + hidden_layer_size * (input_layer_size + 1)):length(nn_params)], \n",
    "                     num_labels, hidden_layer_size +1)\n",
    "    \n",
    "    Theta1_nz <- Theta1[, 2:ncol(Theta1)]\n",
    "    Theta2_nz <- Theta2[, 2:ncol(Theta2)]\n",
    "    \n",
    "    m <- nrow(X)\n",
    "    J <- 0\n",
    "    \n",
    "    X <- cbind(1, X)\n",
    "    a1 <- X\n",
    "    z2 <- a1 %*% t(Theta1)\n",
    "    a2 <- sigmoid(z2)\n",
    "    a2 <- cbind(1, a2)\n",
    "    z3 <- a2 %*% t(Theta2)\n",
    "    a3 <- sigmoid(z3)\n",
    "    \n",
    "    hyp <- a3\n",
    "    y_mat <- diag(num_labels)\n",
    "    y_mat <- y_mat[, y]\n",
    "    \n",
    "    inner_value <- - t(y_mat) * log(hyp) - (1 - t(y_mat)) * log(1 - hyp)\n",
    "    J_noreg <- (1/m) * sum(sum(inner_value))\n",
    "    reg_term <- (lambda / (2 * m)) * sum(sum(sum(Theta1_nz ^ 2)) + sum(sum(Theta2_nz ^ 2)))\n",
    "    \n",
    "    J <- J_noreg + reg_term\n",
    "    \n",
    "    J\n",
    "    \n",
    "}"
   ]
  },
  {
   "cell_type": "code",
   "execution_count": 103,
   "metadata": {
    "collapsed": true
   },
   "outputs": [],
   "source": [
    "#Función para calcular los gradientes (con regularización de parámetros)\n",
    "nnGradFunction <- function(nn_params) {\n",
    "    \n",
    "    Theta1 <- matrix(nn_params[1:(hidden_layer_size *(input_layer_size + 1))], hidden_layer_size, input_layer_size +1)\n",
    "    Theta2 <- matrix(nn_params[(1 + hidden_layer_size * (input_layer_size + 1)):length(nn_params)], \n",
    "                     num_labels, hidden_layer_size +1)\n",
    "    \n",
    "    Theta1_grad <- matrix(0, ncol = ncol(Theta1), nrow = nrow(Theta1))\n",
    "    Theta2_grad <- matrix(0, ncol = ncol(Theta1), nrow = nrow(Theta2))\n",
    "    \n",
    "    Theta1_nz <- Theta1[, 2:ncol(Theta1)]\n",
    "    Theta2_nz <- Theta2[, 2:ncol(Theta2)]\n",
    "    \n",
    "    m <- nrow(X)\n",
    "   \n",
    "    X <- cbind(1, X)\n",
    "    a1 <- X\n",
    "    z2 <- a1 %*% t(Theta1)\n",
    "    a2 <- sigmoid(z2)\n",
    "    a2 <- cbind(1, a2)\n",
    "    z3 <- a2 %*% t(Theta2)\n",
    "    a3 <- sigmoid(z3)\n",
    "    \n",
    "    hyp <- a3\n",
    "    y_mat <- diag(num_labels)\n",
    "    y_mat <- y_mat[, y]\n",
    "    \n",
    "    delta3 <- a3 - t(y_mat)\n",
    "    z2 <- cbind(1, z2)\n",
    "    delta2 <- (delta3 %*% Theta2) * sigmoidGradient(z2)\n",
    "    delta2 <- delta2[, 2:ncol(delta2)]\n",
    "    \n",
    "    cap_delta1 <- 0\n",
    "    cap_delta2 <- 0\n",
    "    \n",
    "    cap_delta1 <- cap_delta1 + t(delta2) %*% a1\n",
    "    cap_delta2 <- cap_delta2 + t(delta3) %*% a2\n",
    "    \n",
    "    Theta1[, 1] <- 0\n",
    "    Theta2[, 1] <- 0\n",
    "    \n",
    "    Theta1_grad <- (1 / m) * (cap_delta1 + lambda * Theta1)\n",
    "    Theta2_grad <- (1 / m) * (cap_delta2 + lambda * Theta2)\n",
    "    \n",
    "    grad <- c(c(Theta1_grad), c(Theta2_grad))\n",
    "}"
   ]
  },
  {
   "cell_type": "code",
   "execution_count": 104,
   "metadata": {
    "collapsed": true
   },
   "outputs": [],
   "source": [
    "#Entrenamiento de la red neuronal----------------------------------------------------\n",
    "\n",
    "#Inicializamos los parámetros de manera aleatoria\n",
    "randInitializeWeights <- function(L_in, L_out) {\n",
    "    \n",
    "    W <- matrix(0, L_out, 1 + L_in)\n",
    "    epsilon_init <- 0.12\n",
    "  \n",
    "    rnd <- runif(L_out * (1 + L_in))\n",
    "    rnd <- matrix(rnd,L_out,1 + L_in)\n",
    "    W <- rnd * 2 * epsilon_init - epsilon_init\n",
    "    W\n",
    "}\n",
    "\n",
    "n <- ncol(X)\n",
    "m <- nrow(X)\n",
    "\n",
    "input_layer_size <- n\n",
    "hidden_layer_size <- 25\n",
    "num_labels <- 10\n",
    "lambda <- 1\n",
    "\n",
    "#initial_Theta1 <- randInitializeWeights(input_layer_size, hidden_layer_size)\n",
    "#initial_Theta2 <- randInitializeWeights(hidden_layer_size, num_labels)\n",
    "\n",
    "initial_Theta1 <- matrix(runif((n+1)*hidden_layer_size), nrow = hidden_layer_size, ncol=n + 1)\n",
    "initial_Theta2 <- matrix(runif(num_labels * (hidden_layer_size + 1)), nrow = num_labels, ncol = hidden_layer_size + 1)\n",
    "\n",
    "initial_nn_params <- c(c(initial_Theta1), c(initial_Theta2))"
   ]
  },
  {
   "cell_type": "code",
   "execution_count": null,
   "metadata": {
    "collapsed": false
   },
   "outputs": [],
   "source": [
    "results <- optim(initial_nn_params, fn = nnCostFunction, gr = nnGradFunction, method = \"BFGS\", \n",
    "               control = list(maxit=100, trace=1, REPORT=1) )\n",
    "\n",
    "theta <- results$par\n",
    "J <- results$value\n",
    "\n",
    "cat(\"Costo final:\", J)"
   ]
  },
  {
   "cell_type": "code",
   "execution_count": null,
   "metadata": {
    "collapsed": true
   },
   "outputs": [],
   "source": [
    "Theta1 <- matrix(theta[1:(hidden_layer_size *(input_layer_size + 1))], hidden_layer_size, input_layer_size +1)\n",
    "Theta2 <- matrix(theta[(1 + hidden_layer_size * (input_layer_size + 1)):length(nn_params)], \n",
    "                     num_labels, hidden_layer_size +1)"
   ]
  },
  {
   "cell_type": "code",
   "execution_count": null,
   "metadata": {
    "collapsed": true
   },
   "outputs": [],
   "source": [
    "#Calculamos la precisión de la red\n",
    "\n",
    "predict <- function(Theta1, Theta2, X) {\n",
    "    \n",
    "    m <- nrow(X)\n",
    "    num_labels <- nrow(Theta2)\n",
    "    \n",
    "    p <- rep(0, m)\n",
    "    \n",
    "    h1 <- sigmoid(cbind(1, X) %*% t(Theta1))\n",
    "    h2 <- sigmoid(cbind(1, h1) %*% t(Theta2))\n",
    "    \n",
    "    p <- apply(h2, 1, which.max)\n",
    "    p\n",
    "}"
   ]
  },
  {
   "cell_type": "code",
   "execution_count": null,
   "metadata": {
    "collapsed": true
   },
   "outputs": [],
   "source": [
    "df.test <- read.csv(\"test.csv\")\n",
    "X <- as.matrix(df.test[, 2:ncol(df.test)])\n",
    "X <- X / 255"
   ]
  },
  {
   "cell_type": "code",
   "execution_count": null,
   "metadata": {
    "collapsed": true
   },
   "outputs": [],
   "source": [
    "predictions <- predict(Theta1, Theta2, X)\n",
    "\n",
    "predictions[predictions == 10] <- 0\n",
    "\n",
    "m <- nrow(df.test)\n",
    "ids <- 1:m"
   ]
  },
  {
   "cell_type": "code",
   "execution_count": null,
   "metadata": {
    "collapsed": true
   },
   "outputs": [],
   "source": [
    "submit <- data.frame(ImageId = ids, )"
   ]
  }
 ],
 "metadata": {
  "kernelspec": {
   "display_name": "R",
   "language": "R",
   "name": "ir"
  },
  "language_info": {
   "codemirror_mode": "r",
   "file_extension": ".r",
   "mimetype": "text/x-r-source",
   "name": "R",
   "pygments_lexer": "r",
   "version": "3.3.2"
  }
 },
 "nbformat": 4,
 "nbformat_minor": 0
}
