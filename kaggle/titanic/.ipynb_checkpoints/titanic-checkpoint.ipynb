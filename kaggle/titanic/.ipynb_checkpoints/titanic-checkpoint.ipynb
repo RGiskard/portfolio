{
 "cells": [
  {
   "cell_type": "markdown",
   "metadata": {},
   "source": [
    "# Titanic: Machine Learning from disaster\n",
    "\n",
    "<img src=\"https://kaggle2.blob.core.windows.net/competitions/kaggle/3136/logos/front_page.png\" alt=\"Smiley face\" height=\"400\" width=\"400\">\n",
    "\n",
    "#### Descripción de la competencia\n",
    "El hundimiento del RMS Titanic es uno de los naufragios más infames de la historia.\n",
    "El 15 de Abril de 1912, el Titanic se hundió luego de colisionar con un iceberg, en donde murieron 1502 de 2224 pasajeros y tripulantes. Esta sensacional tragedia conmocionó a la comunidad internacional y condujo a mejores reglamentos de seguridad para los buques.\n",
    "Una de las razones por la cual el naufragio causó tal pérdida de vida fue que no había suficiente botes salvavidas para los pasajeros y tripulación. Aunque hubo un elemento de suerte al sobrevivir al hundimiento, algunos grupos de personas tenían mayores probabilidades de sobrevivir que otros, como mujeres y niños, y la clase alta.\n",
    "\n",
    "En esta competencia queremos que analizar que tipos de personas tenían más posibilidades de sobrevivir. En particular, queremos utilizar técnicas de aprendizaje automático para predecir que pasajeros sobrevivieron a la tragedia. \n",
    "\n",
    "**DESCRIPCIÓN DE VARIABLES:**\n",
    "\n",
    "**survival:** Sobreviviente (0 = No; 1 = Sí)<br/>\n",
    "**pclass:** Clase social del pasajero (1 = 1ra; 2 = 2da; 3 = 3ra)<br/>\n",
    "**name:** Nombre<br/>\n",
    "**sex:** Sexo<br/>\n",
    "**age:** Edad<br/>\n",
    "**sibsp:** Número de Hermanos/Esposas a bordo<br/>\n",
    "**parch:** Número de Padres/Hijos a bordo<br/>\n",
    "**ticket:** Número de Ticket<br/>\n",
    "**fare:** Precio del Ticket<br/>\n",
    "**cabin** Cabina<br/>\n",
    "**embarked** Puerto de Embarque (C = Cherbourg; Q = Queenstown; S = Southampton)<br/>\n",
    "\n",
    "**NOTAS ESPECIALES:**<br/>\n",
    "Pclass is una representación para el estado socio-económico<br/>\n",
    " 1ra ~ Alta; 2da ~ Media; 3ra ~ Baja\n",
    "\n",
    "Age está en Años; Fraccionado si Age es menor a uno (1)<br/>\n",
    " Si Age está estimada, está en la forma xx.5\n",
    "\n",
    "Con respecto a las variables relacionadas con la familia (por ej. sibsp y parch) algunas relaciones fueron ignoradas. Las siguientes son definiciones usadas para sibsp y parch.\n",
    "\n",
    "Hermanos: Hermano, Hermana, Hermanastro, o Hermanastra de pasajero a bordo del Titanic.\n",
    "Esposo: Marido o Esposa del pasajero a bordo del Titanic\n",
    "Padres:   Madre o padre del pasajero a bordo del Titanic\n",
    "Hijos:    Hijo, hija, hijastro o hijastra de pasajero a bordo de Titanic\n",
    "\n",
    "Otras relaciones excluídas de este estudio incluyen primos, sobrinos/sobrinas, tías/tíos. Algunos niños viajaban solo con una niñera, por lo tanto parch=0 para ellos. También, algunos viajaban con amigos muy cercanos o vecinos, sin embargo, las definiciones no tienen en cuenta esas relaciones."
   ]
  },
  {
   "cell_type": "markdown",
   "metadata": {},
   "source": [
    "#### Configuraciones iniciales"
   ]
  },
  {
   "cell_type": "code",
   "execution_count": 64,
   "metadata": {
    "collapsed": true
   },
   "outputs": [],
   "source": [
    "options(scipen = 999, repr.plot.width=4, repr.plot.height= 4, warn = -1)"
   ]
  },
  {
   "cell_type": "markdown",
   "metadata": {},
   "source": [
    "#### Instalación y carga de paquetes necesarios"
   ]
  },
  {
   "cell_type": "code",
   "execution_count": 65,
   "metadata": {
    "collapsed": false
   },
   "outputs": [],
   "source": [
    "list.of.packages <- c('ggplot2', 'VIM', 'mice', 'mlbench', 'caret', 'caretEnsemble', 'gbm', 'ipred', 'FSelector',\n",
    "                     'Matrix')\n",
    "\n",
    "new.packages <- list.of.packages[!(list.of.packages %in% installed.packages()[,\"Package\"])]\n",
    "if(length(new.packages)) install.packages(new.packages, repos = \"https://cran.r-project.org\")\n",
    "\n",
    "library(ggplot2)\n",
    "library(VIM)\n",
    "library(mice)\n",
    "library(mlbench)\n",
    "library(caret)\n",
    "library(caretEnsemble)\n",
    "library(gbm)\n",
    "library(ipred)\n",
    "library(FSelector)\n",
    "library(Matrix)"
   ]
  },
  {
   "cell_type": "markdown",
   "metadata": {},
   "source": [
    "## Comprensión de datos"
   ]
  },
  {
   "cell_type": "markdown",
   "metadata": {},
   "source": [
    "En una primera instancia debemos cargar y explorar los datos para entender el contexto en donde nos encontramos."
   ]
  },
  {
   "cell_type": "code",
   "execution_count": 66,
   "metadata": {
    "collapsed": false
   },
   "outputs": [
    {
     "data": {
      "text/html": [
       "<table>\n",
       "<thead><tr><th scope=col>PassengerId</th><th scope=col>Survived</th><th scope=col>Pclass</th><th scope=col>Name</th><th scope=col>Sex</th><th scope=col>Age</th><th scope=col>SibSp</th><th scope=col>Parch</th><th scope=col>Ticket</th><th scope=col>Fare</th><th scope=col>Cabin</th><th scope=col>Embarked</th></tr></thead>\n",
       "<tbody>\n",
       "\t<tr><td>1                                                  </td><td>0                                                  </td><td>3                                                  </td><td>Braund, Mr. Owen Harris                            </td><td>male                                               </td><td>22                                                 </td><td>1                                                  </td><td>0                                                  </td><td>A/5 21171                                          </td><td> 7.2500                                            </td><td>NA                                                 </td><td>S                                                  </td></tr>\n",
       "\t<tr><td>2                                                  </td><td>1                                                  </td><td>1                                                  </td><td>Cumings, Mrs. John Bradley (Florence Briggs Thayer)</td><td>female                                             </td><td>38                                                 </td><td>1                                                  </td><td>0                                                  </td><td>PC 17599                                           </td><td>71.2833                                            </td><td>C85                                                </td><td>C                                                  </td></tr>\n",
       "\t<tr><td>3                                                  </td><td>1                                                  </td><td>3                                                  </td><td>Heikkinen, Miss. Laina                             </td><td>female                                             </td><td>26                                                 </td><td>0                                                  </td><td>0                                                  </td><td>STON/O2. 3101282                                   </td><td> 7.9250                                            </td><td>NA                                                 </td><td>S                                                  </td></tr>\n",
       "\t<tr><td>4                                                  </td><td>1                                                  </td><td>1                                                  </td><td>Futrelle, Mrs. Jacques Heath (Lily May Peel)       </td><td>female                                             </td><td>35                                                 </td><td>1                                                  </td><td>0                                                  </td><td>113803                                             </td><td>53.1000                                            </td><td>C123                                               </td><td>S                                                  </td></tr>\n",
       "\t<tr><td>5                                                  </td><td>0                                                  </td><td>3                                                  </td><td>Allen, Mr. William Henry                           </td><td>male                                               </td><td>35                                                 </td><td>0                                                  </td><td>0                                                  </td><td>373450                                             </td><td> 8.0500                                            </td><td>NA                                                 </td><td>S                                                  </td></tr>\n",
       "\t<tr><td>6                                                  </td><td>0                                                  </td><td>3                                                  </td><td>Moran, Mr. James                                   </td><td>male                                               </td><td>NA                                                 </td><td>0                                                  </td><td>0                                                  </td><td>330877                                             </td><td> 8.4583                                            </td><td>NA                                                 </td><td>Q                                                  </td></tr>\n",
       "</tbody>\n",
       "</table>\n"
      ],
      "text/latex": [
       "\\begin{tabular}{r|llllllllllll}\n",
       " PassengerId & Survived & Pclass & Name & Sex & Age & SibSp & Parch & Ticket & Fare & Cabin & Embarked\\\\\n",
       "\\hline\n",
       "\t 1                                                   & 0                                                   & 3                                                   & Braund, Mr. Owen Harris                             & male                                                & 22                                                  & 1                                                   & 0                                                   & A/5 21171                                           &  7.2500                                             & NA                                                  & S                                                  \\\\\n",
       "\t 2                                                   & 1                                                   & 1                                                   & Cumings, Mrs. John Bradley (Florence Briggs Thayer) & female                                              & 38                                                  & 1                                                   & 0                                                   & PC 17599                                            & 71.2833                                             & C85                                                 & C                                                  \\\\\n",
       "\t 3                                                   & 1                                                   & 3                                                   & Heikkinen, Miss. Laina                              & female                                              & 26                                                  & 0                                                   & 0                                                   & STON/O2. 3101282                                    &  7.9250                                             & NA                                                  & S                                                  \\\\\n",
       "\t 4                                                   & 1                                                   & 1                                                   & Futrelle, Mrs. Jacques Heath (Lily May Peel)        & female                                              & 35                                                  & 1                                                   & 0                                                   & 113803                                              & 53.1000                                             & C123                                                & S                                                  \\\\\n",
       "\t 5                                                   & 0                                                   & 3                                                   & Allen, Mr. William Henry                            & male                                                & 35                                                  & 0                                                   & 0                                                   & 373450                                              &  8.0500                                             & NA                                                  & S                                                  \\\\\n",
       "\t 6                                                   & 0                                                   & 3                                                   & Moran, Mr. James                                    & male                                                & NA                                                  & 0                                                   & 0                                                   & 330877                                              &  8.4583                                             & NA                                                  & Q                                                  \\\\\n",
       "\\end{tabular}\n"
      ],
      "text/markdown": [
       "\n",
       "PassengerId | Survived | Pclass | Name | Sex | Age | SibSp | Parch | Ticket | Fare | Cabin | Embarked | \n",
       "|---|---|---|---|---|---|\n",
       "| 1                                                   | 0                                                   | 3                                                   | Braund, Mr. Owen Harris                             | male                                                | 22                                                  | 1                                                   | 0                                                   | A/5 21171                                           |  7.2500                                             | NA                                                  | S                                                   | \n",
       "| 2                                                   | 1                                                   | 1                                                   | Cumings, Mrs. John Bradley (Florence Briggs Thayer) | female                                              | 38                                                  | 1                                                   | 0                                                   | PC 17599                                            | 71.2833                                             | C85                                                 | C                                                   | \n",
       "| 3                                                   | 1                                                   | 3                                                   | Heikkinen, Miss. Laina                              | female                                              | 26                                                  | 0                                                   | 0                                                   | STON/O2. 3101282                                    |  7.9250                                             | NA                                                  | S                                                   | \n",
       "| 4                                                   | 1                                                   | 1                                                   | Futrelle, Mrs. Jacques Heath (Lily May Peel)        | female                                              | 35                                                  | 1                                                   | 0                                                   | 113803                                              | 53.1000                                             | C123                                                | S                                                   | \n",
       "| 5                                                   | 0                                                   | 3                                                   | Allen, Mr. William Henry                            | male                                                | 35                                                  | 0                                                   | 0                                                   | 373450                                              |  8.0500                                             | NA                                                  | S                                                   | \n",
       "| 6                                                   | 0                                                   | 3                                                   | Moran, Mr. James                                    | male                                                | NA                                                  | 0                                                   | 0                                                   | 330877                                              |  8.4583                                             | NA                                                  | Q                                                   | \n",
       "\n",
       "\n"
      ],
      "text/plain": [
       "  PassengerId Survived Pclass\n",
       "1 1           0        3     \n",
       "2 2           1        1     \n",
       "3 3           1        3     \n",
       "4 4           1        1     \n",
       "5 5           0        3     \n",
       "6 6           0        3     \n",
       "  Name                                                Sex    Age SibSp Parch\n",
       "1 Braund, Mr. Owen Harris                             male   22  1     0    \n",
       "2 Cumings, Mrs. John Bradley (Florence Briggs Thayer) female 38  1     0    \n",
       "3 Heikkinen, Miss. Laina                              female 26  0     0    \n",
       "4 Futrelle, Mrs. Jacques Heath (Lily May Peel)        female 35  1     0    \n",
       "5 Allen, Mr. William Henry                            male   35  0     0    \n",
       "6 Moran, Mr. James                                    male   NA  0     0    \n",
       "  Ticket           Fare    Cabin Embarked\n",
       "1 A/5 21171         7.2500 NA    S       \n",
       "2 PC 17599         71.2833 C85   C       \n",
       "3 STON/O2. 3101282  7.9250 NA    S       \n",
       "4 113803           53.1000 C123  S       \n",
       "5 373450            8.0500 NA    S       \n",
       "6 330877            8.4583 NA    Q       "
      ]
     },
     "metadata": {},
     "output_type": "display_data"
    }
   ],
   "source": [
    "df_train <- read.csv(\"train.csv\", na.string = c('NA', \"\"))\n",
    "df_test <- read.csv(\"test.csv\", na.string = c('NA', \"\"))\n",
    "\n",
    "train.size <- nrow(df_train)\n",
    "test.size <- nrow(df_test)\n",
    "\n",
    "pass.id <- df_test$PassengerId\n",
    "\n",
    "df_test$Survived <- NA\n",
    "df_train <- rbind(df_train, df_test)\n",
    "\n",
    "head(df_train)"
   ]
  },
  {
   "cell_type": "code",
   "execution_count": 67,
   "metadata": {
    "collapsed": false
   },
   "outputs": [
    {
     "name": "stdout",
     "output_type": "stream",
     "text": [
      "'data.frame':\t1309 obs. of  12 variables:\n",
      " $ PassengerId: int  1 2 3 4 5 6 7 8 9 10 ...\n",
      " $ Survived   : int  0 1 1 1 0 0 0 0 1 1 ...\n",
      " $ Pclass     : int  3 1 3 1 3 3 1 3 3 2 ...\n",
      " $ Name       : Factor w/ 1307 levels \"Abbing, Mr. Anthony\",..: 109 191 358 277 16 559 520 629 417 581 ...\n",
      " $ Sex        : Factor w/ 2 levels \"female\",\"male\": 2 1 1 1 2 2 2 2 1 1 ...\n",
      " $ Age        : num  22 38 26 35 35 NA 54 2 27 14 ...\n",
      " $ SibSp      : int  1 1 0 1 0 0 0 3 0 1 ...\n",
      " $ Parch      : int  0 0 0 0 0 0 0 1 2 0 ...\n",
      " $ Ticket     : Factor w/ 929 levels \"110152\",\"110413\",..: 524 597 670 50 473 276 86 396 345 133 ...\n",
      " $ Fare       : num  7.25 71.28 7.92 53.1 8.05 ...\n",
      " $ Cabin      : Factor w/ 186 levels \"A10\",\"A14\",\"A16\",..: NA 82 NA 56 NA NA 130 NA NA NA ...\n",
      " $ Embarked   : Factor w/ 3 levels \"C\",\"Q\",\"S\": 3 1 3 3 3 2 3 3 3 1 ...\n"
     ]
    }
   ],
   "source": [
    "str(df_train)"
   ]
  },
  {
   "cell_type": "markdown",
   "metadata": {},
   "source": [
    "### Verificación de datos faltantes."
   ]
  },
  {
   "cell_type": "code",
   "execution_count": 68,
   "metadata": {
    "collapsed": false
   },
   "outputs": [
    {
     "data": {
      "image/png": "[encoded data removed]",
      "text/plain": [
       "plot without title"
      ]
     },
     "metadata": {},
     "output_type": "display_data"
    }
   ],
   "source": [
    "aggr(df_train, digits = 3, numbers = TRUE, labels = names(df_train), cex.axis = .5, cex.numbers = .6,\n",
    "       gap = 2, ylabs = c(\"Histograma de datos faltantes\", \"Patron de datos faltantes\"), col = c('#0072B2', '#D55E00'))"
   ]
  },
  {
   "cell_type": "code",
   "execution_count": 69,
   "metadata": {
    "collapsed": false
   },
   "outputs": [
    {
     "data": {
      "image/png": "[encoded data removed]",
      "text/plain": [
       "plot without title"
      ]
     },
     "metadata": {},
     "output_type": "display_data"
    }
   ],
   "source": [
    "matrixplot(df_train, interactive = F, sortby = \"Survived\")"
   ]
  },
  {
   "cell_type": "markdown",
   "metadata": {},
   "source": [
    "Los atributos que más valores faltantes tienen son Cabin y Age. El atributo Survived presenta 50% de datos faltantes porque corresponde al conjunto de prueba y es lo que intentamos predecir."
   ]
  },
  {
   "cell_type": "markdown",
   "metadata": {},
   "source": [
    "### Atributo: Survived\n",
    "Indica si el pasajero sobrevivió o no (Sí = 1; No = 0)."
   ]
  },
  {
   "cell_type": "code",
   "execution_count": 70,
   "metadata": {
    "collapsed": false
   },
   "outputs": [
    {
     "data": {
      "text/plain": [
       "\n",
       " No Yes \n",
       "549 342 "
      ]
     },
     "metadata": {},
     "output_type": "display_data"
    },
    {
     "data": {
      "text/plain": [
       "\n",
       "  No  Yes \n",
       "0.62 0.38 "
      ]
     },
     "metadata": {},
     "output_type": "display_data"
    }
   ],
   "source": [
    "df_train$Survived <- ifelse(df_train$Survived == 0, \"No\", \"Yes\")\n",
    "\n",
    "df_train$Survived <- factor(df_train$Survived)\n",
    "table(df_train$Survived)\n",
    "round(prop.table(table(df_train$Survived) * 100), 2)"
   ]
  },
  {
   "cell_type": "code",
   "execution_count": 71,
   "metadata": {
    "collapsed": false
   },
   "outputs": [
    {
     "data": {},
     "metadata": {},
     "output_type": "display_data"
    },
    {
     "data": {
      "image/png": "[encoded data removed]",
      "text/plain": [
       "plot without title"
      ]
     },
     "metadata": {},
     "output_type": "display_data"
    }
   ],
   "source": [
    "ggplot(data = subset(df_train, !is.na(Survived)), aes(x = Survived)) + \n",
    "    geom_bar(col=\"black\", fill=\"blue\", alpha = .2) + \n",
    "    ggtitle('Atributo: Survived') + \n",
    "    xlab('') + \n",
    "    ylab('No. de pasajeros')"
   ]
  },
  {
   "cell_type": "markdown",
   "metadata": {},
   "source": [
    "El 62% de los pasajeros sobrevivieron mientras que el 38% no pudieron sobrevivir."
   ]
  },
  {
   "cell_type": "markdown",
   "metadata": {},
   "source": [
    "### Atributo: Pclass\n",
    "Indica la clase social del pasajero: Primera, segunda o tercera clase. (1 = 1st; 2 = 2nd; 3 = 3rd)"
   ]
  },
  {
   "cell_type": "code",
   "execution_count": 72,
   "metadata": {
    "collapsed": false
   },
   "outputs": [
    {
     "data": {
      "text/plain": [
       "\n",
       "1st 2nd 3rd \n",
       "323 277 709 "
      ]
     },
     "metadata": {},
     "output_type": "display_data"
    },
    {
     "data": {
      "text/plain": [
       "\n",
       " 1st  2nd  3rd \n",
       "0.25 0.21 0.54 "
      ]
     },
     "metadata": {},
     "output_type": "display_data"
    }
   ],
   "source": [
    "df_train$Pclass[df_train$Pclass == 1] <- \"1st\"\n",
    "df_train$Pclass[df_train$Pclass == 2] <- \"2nd\"\n",
    "df_train$Pclass[df_train$Pclass == 3] <- \"3rd\"\n",
    "\n",
    "df_train$Pclass <- factor(df_train$Pclass)\n",
    "\n",
    "table(df_train$Pclass)\n",
    "round(prop.table(table(df_train$Pclass) * 100), 2)"
   ]
  },
  {
   "cell_type": "code",
   "execution_count": 73,
   "metadata": {
    "collapsed": false
   },
   "outputs": [
    {
     "data": {},
     "metadata": {},
     "output_type": "display_data"
    },
    {
     "data": {
      "image/png": "[encoded data removed]",
      "text/plain": [
       "plot without title"
      ]
     },
     "metadata": {},
     "output_type": "display_data"
    }
   ],
   "source": [
    "ggplot(data = df_train, aes(x = as.factor(Pclass))) + \n",
    "    geom_bar(col=\"black\", fill=\"blue\", alpha = .2) + \n",
    "    ggtitle('Atributo: Pclass') + \n",
    "    xlab('') + \n",
    "    ylab('No. de pasajeros')"
   ]
  },
  {
   "cell_type": "markdown",
   "metadata": {},
   "source": [
    "El 55% de los pasajeros correspondían a la tercera clase. Esto es el doble de las primera o la segunda clase."
   ]
  },
  {
   "cell_type": "markdown",
   "metadata": {},
   "source": [
    "### Atributo: Name\n",
    "Nombre del pasajero.\n",
    "Los nombres están compuestos de la siguiente forma: Apellido, TituloHonorífico. Nombre\n",
    "Lo que haremos es extraer el Título como una columna aparte."
   ]
  },
  {
   "cell_type": "code",
   "execution_count": 74,
   "metadata": {
    "collapsed": false
   },
   "outputs": [
    {
     "data": {
      "text/html": [
       "<ol class=list-inline>\n",
       "\t<li>Braund, Mr. Owen Harris</li>\n",
       "\t<li>Cumings, Mrs. John Bradley (Florence Briggs Thayer)</li>\n",
       "\t<li>Heikkinen, Miss. Laina</li>\n",
       "\t<li>Futrelle, Mrs. Jacques Heath (Lily May Peel)</li>\n",
       "\t<li>Allen, Mr. William Henry</li>\n",
       "\t<li>Moran, Mr. James</li>\n",
       "</ol>\n"
      ],
      "text/latex": [
       "\\begin{enumerate*}\n",
       "\\item Braund, Mr. Owen Harris\n",
       "\\item Cumings, Mrs. John Bradley (Florence Briggs Thayer)\n",
       "\\item Heikkinen, Miss. Laina\n",
       "\\item Futrelle, Mrs. Jacques Heath (Lily May Peel)\n",
       "\\item Allen, Mr. William Henry\n",
       "\\item Moran, Mr. James\n",
       "\\end{enumerate*}\n"
      ],
      "text/markdown": [
       "1. Braund, Mr. Owen Harris\n",
       "2. Cumings, Mrs. John Bradley (Florence Briggs Thayer)\n",
       "3. Heikkinen, Miss. Laina\n",
       "4. Futrelle, Mrs. Jacques Heath (Lily May Peel)\n",
       "5. Allen, Mr. William Henry\n",
       "6. Moran, Mr. James\n",
       "\n",
       "\n"
      ],
      "text/plain": [
       "[1] Braund, Mr. Owen Harris                            \n",
       "[2] Cumings, Mrs. John Bradley (Florence Briggs Thayer)\n",
       "[3] Heikkinen, Miss. Laina                             \n",
       "[4] Futrelle, Mrs. Jacques Heath (Lily May Peel)       \n",
       "[5] Allen, Mr. William Henry                           \n",
       "[6] Moran, Mr. James                                   \n",
       "1307 Levels: Abbing, Mr. Anthony ... Zakarian, Mr. Ortin"
      ]
     },
     "metadata": {},
     "output_type": "display_data"
    }
   ],
   "source": [
    "head(df_train$Name)"
   ]
  },
  {
   "cell_type": "markdown",
   "metadata": {},
   "source": [
    "Como podemos observar cada nombre tiene un título honorífico asociado, esto nos puede servir para más adelante construir un nuevo atributo."
   ]
  },
  {
   "cell_type": "markdown",
   "metadata": {},
   "source": [
    "### Atributo: Sex\n",
    "Género del pasajero: Male (hombre) o Female (mujer) "
   ]
  },
  {
   "cell_type": "code",
   "execution_count": 75,
   "metadata": {
    "collapsed": false
   },
   "outputs": [
    {
     "data": {
      "text/plain": [
       "\n",
       "female   male \n",
       "   466    843 "
      ]
     },
     "metadata": {},
     "output_type": "display_data"
    },
    {
     "data": {
      "text/plain": [
       "\n",
       "female   male \n",
       "  35.6   64.4 "
      ]
     },
     "metadata": {},
     "output_type": "display_data"
    },
    {
     "data": {
      "text/plain": [
       "\n",
       "FALSE \n",
       " 1309 "
      ]
     },
     "metadata": {},
     "output_type": "display_data"
    }
   ],
   "source": [
    "table(df_train$Sex)\n",
    "round(prop.table(table(df_train$Sex))*100,2)\n",
    "\n",
    "table(is.na(df_train$Sex))"
   ]
  },
  {
   "cell_type": "code",
   "execution_count": 76,
   "metadata": {
    "collapsed": false
   },
   "outputs": [
    {
     "data": {},
     "metadata": {},
     "output_type": "display_data"
    },
    {
     "data": {
      "image/png": "[encoded data removed]",
      "text/plain": [
       "plot without title"
      ]
     },
     "metadata": {},
     "output_type": "display_data"
    }
   ],
   "source": [
    "ggplot(data = df_train, aes(x = as.factor(Sex))) + \n",
    "    geom_bar(col=\"black\", fill=\"blue\", alpha = .2) + \n",
    "    ggtitle('Atributo: Sex') + \n",
    "    xlab('') + \n",
    "    ylab('No. de pasajeros')"
   ]
  },
  {
   "cell_type": "markdown",
   "metadata": {},
   "source": [
    "El 65% de los pasajeros son hombres."
   ]
  },
  {
   "cell_type": "markdown",
   "metadata": {},
   "source": [
    "### Atributo: Age\n",
    "Edad del pasajero."
   ]
  },
  {
   "cell_type": "code",
   "execution_count": 77,
   "metadata": {
    "collapsed": false
   },
   "outputs": [
    {
     "data": {
      "text/plain": [
       "   Min. 1st Qu.  Median    Mean 3rd Qu.    Max.    NA's \n",
       "   0.17   21.00   28.00   29.88   39.00   80.00     263 "
      ]
     },
     "metadata": {},
     "output_type": "display_data"
    }
   ],
   "source": [
    "summary(df_train$Age)"
   ]
  },
  {
   "cell_type": "markdown",
   "metadata": {},
   "source": [
    "La edad promedio de los pasajeros es de 30 años mientras que la mediana es de 28 años. La edad máxima es de 80 años.\n",
    "No se tiene la edad de 263 pasajeros."
   ]
  },
  {
   "cell_type": "code",
   "execution_count": 78,
   "metadata": {
    "collapsed": false
   },
   "outputs": [
    {
     "data": {},
     "metadata": {},
     "output_type": "display_data"
    },
    {
     "data": {
      "image/png": "[encoded data removed]",
      "text/plain": [
       "plot without title"
      ]
     },
     "metadata": {},
     "output_type": "display_data"
    }
   ],
   "source": [
    "ggplot(data = df_train, aes(x = Age)) + geom_histogram(binwidth = 2, col=\"black\", fill=\"blue\", alpha = .2)"
   ]
  },
  {
   "cell_type": "markdown",
   "metadata": {},
   "source": [
    "La mayor parte de los pasajeros tienen entre 20 y 40 años. Como vimos la mediana es de 28 años.\n",
    "\n",
    "#### Imputación: Age\n",
    "\n",
    "Para aquellos que no tienen las edades cargadas lo reemplazaremos con valores aleatorios entre el primer y tercer cuartil."
   ]
  },
  {
   "cell_type": "code",
   "execution_count": 79,
   "metadata": {
    "collapsed": false
   },
   "outputs": [
    {
     "data": {
      "text/html": [
       "<ol class=list-inline>\n",
       "\t<li>26.18</li>\n",
       "\t<li>35.19</li>\n",
       "\t<li>28.36</li>\n",
       "\t<li>36.89</li>\n",
       "\t<li>37.93</li>\n",
       "\t<li>21.82</li>\n",
       "</ol>\n"
      ],
      "text/latex": [
       "\\begin{enumerate*}\n",
       "\\item 26.18\n",
       "\\item 35.19\n",
       "\\item 28.36\n",
       "\\item 36.89\n",
       "\\item 37.93\n",
       "\\item 21.82\n",
       "\\end{enumerate*}\n"
      ],
      "text/markdown": [
       "1. 26.18\n",
       "2. 35.19\n",
       "3. 28.36\n",
       "4. 36.89\n",
       "5. 37.93\n",
       "6. 21.82\n",
       "\n",
       "\n"
      ],
      "text/plain": [
       "[1] 26.18 35.19 28.36 36.89 37.93 21.82"
      ]
     },
     "metadata": {},
     "output_type": "display_data"
    }
   ],
   "source": [
    "na_count <- sum(is.na(df_train$Age))\n",
    "set.seed(123)\n",
    "\n",
    "ages <- round(runif(na_count, summary(df_train$Age)[2], summary(df_train$Age)[5]), 2)\n",
    "head(ages)"
   ]
  },
  {
   "cell_type": "code",
   "execution_count": 80,
   "metadata": {
    "collapsed": false
   },
   "outputs": [],
   "source": [
    "df_train$Age[which(is.na(df_train$Age))] <- ages"
   ]
  },
  {
   "cell_type": "markdown",
   "metadata": {},
   "source": [
    "Una vez que imputamos los datos volvemos a graficar."
   ]
  },
  {
   "cell_type": "code",
   "execution_count": 81,
   "metadata": {
    "collapsed": false
   },
   "outputs": [
    {
     "data": {},
     "metadata": {},
     "output_type": "display_data"
    },
    {
     "data": {
      "image/png": "[encoded data removed]",
      "text/plain": [
       "plot without title"
      ]
     },
     "metadata": {},
     "output_type": "display_data"
    }
   ],
   "source": [
    "ggplot(data = df_train, aes(x = Age)) + geom_histogram(binwidth = 2, col=\"black\", fill=\"blue\", alpha = .2)"
   ]
  },
  {
   "cell_type": "markdown",
   "metadata": {},
   "source": [
    "Como vemos mantenemos el histograma bastante similiar antes de la imputación."
   ]
  },
  {
   "cell_type": "markdown",
   "metadata": {},
   "source": [
    "### Atributo: SibSp\n",
    "Número de hermanos/matrimonio a bordo por pasajero."
   ]
  },
  {
   "cell_type": "code",
   "execution_count": 82,
   "metadata": {
    "collapsed": false
   },
   "outputs": [
    {
     "data": {},
     "metadata": {},
     "output_type": "display_data"
    },
    {
     "data": {
      "image/png": "[encoded data removed]",
      "text/plain": [
       "plot without title"
      ]
     },
     "metadata": {},
     "output_type": "display_data"
    }
   ],
   "source": [
    "df_train$SibSp <- factor(df_train$SibSp, levels = sort(unique(df_train$SibSp)), labels = sort(unique(df_train$SibSp)))\n",
    "\n",
    "ggplot(data = df_train, aes(x = as.factor(SibSp))) + \n",
    "    geom_bar(col=\"black\", fill=\"blue\", alpha = .2) + \n",
    "    ggtitle('Atributo: Hermanos/Matrimonio') + \n",
    "    xlab('') + \n",
    "    ylab('No. de pasajeros') + \n",
    "    theme(axis.text.x = element_text(angle = 90, hjust = 1, vjust = 0.4))"
   ]
  },
  {
   "cell_type": "code",
   "execution_count": 83,
   "metadata": {
    "collapsed": false
   },
   "outputs": [
    {
     "data": {
      "text/plain": [
       "\n",
       "  0   1   2   3   4   5   8 \n",
       "891 319  42  20  22   6   9 "
      ]
     },
     "metadata": {},
     "output_type": "display_data"
    },
    {
     "data": {
      "text/plain": [
       "\n",
       "    0     1     2     3     4     5     8 \n",
       "68.07 24.37  3.21  1.53  1.68  0.46  0.69 "
      ]
     },
     "metadata": {},
     "output_type": "display_data"
    }
   ],
   "source": [
    "table(df_train$SibSp)\n",
    "round(prop.table(table(df_train$SibSp)) * 100, 2)"
   ]
  },
  {
   "cell_type": "markdown",
   "metadata": {},
   "source": [
    "### Atributo: parch\n",
    "Número de padres/hijos a bordo."
   ]
  },
  {
   "cell_type": "code",
   "execution_count": 84,
   "metadata": {
    "collapsed": false
   },
   "outputs": [
    {
     "data": {},
     "metadata": {},
     "output_type": "display_data"
    },
    {
     "data": {
      "image/png": "[encoded data removed]",
      "text/plain": [
       "plot without title"
      ]
     },
     "metadata": {},
     "output_type": "display_data"
    }
   ],
   "source": [
    "df_train$Parch<- factor(df_train$Parch, levels = sort(unique(df_train$Parch)), labels = sort(unique(df_train$Parch)))\n",
    "\n",
    "ggplot(data = df_train, aes(x = as.factor(Parch))) + \n",
    "    geom_bar(col=\"black\", fill=\"blue\", alpha = .2) + \n",
    "    ggtitle('Atributo: Padres/Hijos') + \n",
    "    xlab('') + \n",
    "    ylab('No. de pasajeros') + \n",
    "    theme(axis.text.x = element_text(angle = 90, hjust = 1, vjust = 0.4))"
   ]
  },
  {
   "cell_type": "code",
   "execution_count": 85,
   "metadata": {
    "collapsed": false
   },
   "outputs": [
    {
     "data": {
      "text/plain": [
       "\n",
       "   0    1    2    3    4    5    6    9 \n",
       "1002  170  113    8    6    6    2    2 "
      ]
     },
     "metadata": {},
     "output_type": "display_data"
    },
    {
     "data": {
      "text/plain": [
       "\n",
       "    0     1     2     3     4     5     6     9 \n",
       "76.55 12.99  8.63  0.61  0.46  0.46  0.15  0.15 "
      ]
     },
     "metadata": {},
     "output_type": "display_data"
    }
   ],
   "source": [
    "table(df_train$Parch)\n",
    "round(prop.table(table(df_train$Parch)) * 100, 2)"
   ]
  },
  {
   "cell_type": "markdown",
   "metadata": {},
   "source": [
    "El 75% de los pasajeros no tenían padres o hijos a bordo."
   ]
  },
  {
   "cell_type": "markdown",
   "metadata": {},
   "source": [
    "### Atributo: Ticket\n",
    "Número del ticket."
   ]
  },
  {
   "cell_type": "code",
   "execution_count": 86,
   "metadata": {
    "collapsed": false
   },
   "outputs": [],
   "source": [
    "df_train$Ticket <- as.integer(df_train$Ticket)"
   ]
  },
  {
   "cell_type": "markdown",
   "metadata": {},
   "source": [
    "### Atributo: Fare\n",
    "Es la tarifa que pagó el pasajero."
   ]
  },
  {
   "cell_type": "code",
   "execution_count": 87,
   "metadata": {
    "collapsed": false
   },
   "outputs": [
    {
     "data": {
      "text/plain": [
       "   Min. 1st Qu.  Median    Mean 3rd Qu.    Max.    NA's \n",
       "  0.000   7.896  14.450  33.300  31.280 512.300       1 "
      ]
     },
     "metadata": {},
     "output_type": "display_data"
    }
   ],
   "source": [
    "summary(df_train$Fare)"
   ]
  },
  {
   "cell_type": "code",
   "execution_count": 88,
   "metadata": {
    "collapsed": false
   },
   "outputs": [
    {
     "data": {},
     "metadata": {},
     "output_type": "display_data"
    },
    {
     "data": {
      "image/png": "[encoded data removed]",
      "text/plain": [
       "plot without title"
      ]
     },
     "metadata": {},
     "output_type": "display_data"
    }
   ],
   "source": [
    "ggplot(data = df_train, aes(x = Fare)) + geom_histogram(binwidth = 6, col=\"black\", fill=\"blue\", alpha = .2)"
   ]
  },
  {
   "cell_type": "markdown",
   "metadata": {},
   "source": [
    "El promedio del precio de un ticket es de \\$33, mientras que lo máximo que se pagó por uno fue más de \\$500 (Quizás viajaban en grupo). Podemos ver que hay tickets con valor \\$0, podríamos atribuir estos tickes a niños o bebés pero si exploramos bien los datos estos tickets corresponden a adultos. Hay un valor faltante que también lo reemplazaremos con la media."
   ]
  },
  {
   "cell_type": "code",
   "execution_count": 89,
   "metadata": {
    "collapsed": false
   },
   "outputs": [
    {
     "data": {
      "text/html": [
       "<table>\n",
       "<thead><tr><th></th><th scope=col>PassengerId</th><th scope=col>Survived</th><th scope=col>Pclass</th><th scope=col>Name</th><th scope=col>Sex</th><th scope=col>Age</th><th scope=col>SibSp</th><th scope=col>Parch</th><th scope=col>Ticket</th><th scope=col>Fare</th><th scope=col>Cabin</th><th scope=col>Embarked</th></tr></thead>\n",
       "<tbody>\n",
       "\t<tr><th scope=row>180</th><td> 180                                 </td><td>No                                   </td><td>3rd                                  </td><td>Leonard, Mr. Lionel                  </td><td>male                                 </td><td>36.00                                </td><td>0                                    </td><td>0                                    </td><td>575                                  </td><td> 0                                   </td><td>NA                                   </td><td>S                                    </td></tr>\n",
       "\t<tr><th scope=row>264</th><td> 264                                 </td><td>No                                   </td><td>1st                                  </td><td>Harrison, Mr. William                </td><td>male                                 </td><td>40.00                                </td><td>0                                    </td><td>0                                    </td><td> 17                                  </td><td> 0                                   </td><td>B94                                  </td><td>S                                    </td></tr>\n",
       "\t<tr><th scope=row>272</th><td> 272                                 </td><td>Yes                                  </td><td>3rd                                  </td><td>Tornquist, Mr. William Henry         </td><td>male                                 </td><td>25.00                                </td><td>0                                    </td><td>0                                    </td><td>575                                  </td><td> 0                                   </td><td>NA                                   </td><td>S                                    </td></tr>\n",
       "\t<tr><th scope=row>278</th><td> 278                                 </td><td>No                                   </td><td>2nd                                  </td><td>Parkes, Mr. Francis \"Frank\"          </td><td>male                                 </td><td>31.10                                </td><td>0                                    </td><td>0                                    </td><td>136                                  </td><td> 0                                   </td><td>NA                                   </td><td>S                                    </td></tr>\n",
       "\t<tr><th scope=row>303</th><td> 303                                 </td><td>No                                   </td><td>3rd                                  </td><td>Johnson, Mr. William Cahoone Jr      </td><td>male                                 </td><td>19.00                                </td><td>0                                    </td><td>0                                    </td><td>575                                  </td><td> 0                                   </td><td>NA                                   </td><td>S                                    </td></tr>\n",
       "\t<tr><th scope=row>414</th><td> 414                                 </td><td>No                                   </td><td>2nd                                  </td><td>Cunningham, Mr. Alfred Fleming       </td><td>male                                 </td><td>33.03                                </td><td>0                                    </td><td>0                                    </td><td>136                                  </td><td> 0                                   </td><td>NA                                   </td><td>S                                    </td></tr>\n",
       "\t<tr><th scope=row>467</th><td> 467                                 </td><td>No                                   </td><td>2nd                                  </td><td>Campbell, Mr. William                </td><td>male                                 </td><td>32.82                                </td><td>0                                    </td><td>0                                    </td><td>136                                  </td><td> 0                                   </td><td>NA                                   </td><td>S                                    </td></tr>\n",
       "\t<tr><th scope=row>482</th><td> 482                                 </td><td>No                                   </td><td>2nd                                  </td><td>Frost, Mr. Anthony Wood \"Archie\"     </td><td>male                                 </td><td>22.68                                </td><td>0                                    </td><td>0                                    </td><td>137                                  </td><td> 0                                   </td><td>NA                                   </td><td>S                                    </td></tr>\n",
       "\t<tr><th scope=row>598</th><td> 598                                 </td><td>No                                   </td><td>3rd                                  </td><td>Johnson, Mr. Alfred                  </td><td>male                                 </td><td>49.00                                </td><td>0                                    </td><td>0                                    </td><td>575                                  </td><td> 0                                   </td><td>NA                                   </td><td>S                                    </td></tr>\n",
       "\t<tr><th scope=row>634</th><td> 634                                 </td><td>No                                   </td><td>1st                                  </td><td>Parr, Mr. William Henry Marsh        </td><td>male                                 </td><td>33.11                                </td><td>0                                    </td><td>0                                    </td><td> 14                                  </td><td> 0                                   </td><td>NA                                   </td><td>S                                    </td></tr>\n",
       "\t<tr><th scope=row>675</th><td> 675                                 </td><td>No                                   </td><td>2nd                                  </td><td>Watson, Mr. Ennis Hastings           </td><td>male                                 </td><td>28.37                                </td><td>0                                    </td><td>0                                    </td><td>139                                  </td><td> 0                                   </td><td>NA                                   </td><td>S                                    </td></tr>\n",
       "\t<tr><th scope=row>733</th><td> 733                                 </td><td>No                                   </td><td>2nd                                  </td><td>Knight, Mr. Robert J                 </td><td>male                                 </td><td>34.18                                </td><td>0                                    </td><td>0                                    </td><td>138                                  </td><td> 0                                   </td><td>NA                                   </td><td>S                                    </td></tr>\n",
       "\t<tr><th scope=row>807</th><td> 807                                 </td><td>No                                   </td><td>1st                                  </td><td>Andrews, Mr. Thomas Jr               </td><td>male                                 </td><td>39.00                                </td><td>0                                    </td><td>0                                    </td><td> 13                                  </td><td> 0                                   </td><td>A36                                  </td><td>S                                    </td></tr>\n",
       "\t<tr><th scope=row>816</th><td> 816                                 </td><td>No                                   </td><td>1st                                  </td><td>Fry, Mr. Richard                     </td><td>male                                 </td><td>27.74                                </td><td>0                                    </td><td>0                                    </td><td> 16                                  </td><td> 0                                   </td><td>B102                                 </td><td>S                                    </td></tr>\n",
       "\t<tr><th scope=row>823</th><td> 823                                 </td><td>No                                   </td><td>1st                                  </td><td>Reuchlin, Jonkheer. John George      </td><td>male                                 </td><td>38.00                                </td><td>0                                    </td><td>0                                    </td><td> 98                                  </td><td> 0                                   </td><td>NA                                   </td><td>S                                    </td></tr>\n",
       "\t<tr><th scope=row>NA</th><td>  NA                                 </td><td>NA                                   </td><td>NA                                   </td><td>NA                                   </td><td>NA                                   </td><td>   NA                                </td><td>NA                                   </td><td>NA                                   </td><td> NA                                  </td><td>NA                                   </td><td>NA                                   </td><td>NA                                   </td></tr>\n",
       "\t<tr><th scope=row>1158</th><td>1158                                 </td><td>NA                                   </td><td>1st                                  </td><td>Chisholm, Mr. Roderick Robert Crispin</td><td>male                                 </td><td>28.71                                </td><td>0                                    </td><td>0                                    </td><td>685                                  </td><td> 0                                   </td><td>NA                                   </td><td>S                                    </td></tr>\n",
       "\t<tr><th scope=row>1264</th><td>1264                                 </td><td>NA                                   </td><td>1st                                  </td><td>Ismay, Mr. Joseph Bruce              </td><td>male                                 </td><td>49.00                                </td><td>0                                    </td><td>0                                    </td><td> 16                                  </td><td> 0                                   </td><td>B52 B54 B56                          </td><td>S                                    </td></tr>\n",
       "</tbody>\n",
       "</table>\n"
      ],
      "text/latex": [
       "\\begin{tabular}{r|llllllllllll}\n",
       "  & PassengerId & Survived & Pclass & Name & Sex & Age & SibSp & Parch & Ticket & Fare & Cabin & Embarked\\\\\n",
       "\\hline\n",
       "\t180 &  180                                  & No                                    & 3rd                                   & Leonard, Mr. Lionel                   & male                                  & 36.00                                 & 0                                     & 0                                     & 575                                   &  0                                    & NA                                    & S                                    \\\\\n",
       "\t264 &  264                                  & No                                    & 1st                                   & Harrison, Mr. William                 & male                                  & 40.00                                 & 0                                     & 0                                     &  17                                   &  0                                    & B94                                   & S                                    \\\\\n",
       "\t272 &  272                                  & Yes                                   & 3rd                                   & Tornquist, Mr. William Henry          & male                                  & 25.00                                 & 0                                     & 0                                     & 575                                   &  0                                    & NA                                    & S                                    \\\\\n",
       "\t278 &  278                                  & No                                    & 2nd                                   & Parkes, Mr. Francis \"Frank\"           & male                                  & 31.10                                 & 0                                     & 0                                     & 136                                   &  0                                    & NA                                    & S                                    \\\\\n",
       "\t303 &  303                                  & No                                    & 3rd                                   & Johnson, Mr. William Cahoone Jr       & male                                  & 19.00                                 & 0                                     & 0                                     & 575                                   &  0                                    & NA                                    & S                                    \\\\\n",
       "\t414 &  414                                  & No                                    & 2nd                                   & Cunningham, Mr. Alfred Fleming        & male                                  & 33.03                                 & 0                                     & 0                                     & 136                                   &  0                                    & NA                                    & S                                    \\\\\n",
       "\t467 &  467                                  & No                                    & 2nd                                   & Campbell, Mr. William                 & male                                  & 32.82                                 & 0                                     & 0                                     & 136                                   &  0                                    & NA                                    & S                                    \\\\\n",
       "\t482 &  482                                  & No                                    & 2nd                                   & Frost, Mr. Anthony Wood \"Archie\"      & male                                  & 22.68                                 & 0                                     & 0                                     & 137                                   &  0                                    & NA                                    & S                                    \\\\\n",
       "\t598 &  598                                  & No                                    & 3rd                                   & Johnson, Mr. Alfred                   & male                                  & 49.00                                 & 0                                     & 0                                     & 575                                   &  0                                    & NA                                    & S                                    \\\\\n",
       "\t634 &  634                                  & No                                    & 1st                                   & Parr, Mr. William Henry Marsh         & male                                  & 33.11                                 & 0                                     & 0                                     &  14                                   &  0                                    & NA                                    & S                                    \\\\\n",
       "\t675 &  675                                  & No                                    & 2nd                                   & Watson, Mr. Ennis Hastings            & male                                  & 28.37                                 & 0                                     & 0                                     & 139                                   &  0                                    & NA                                    & S                                    \\\\\n",
       "\t733 &  733                                  & No                                    & 2nd                                   & Knight, Mr. Robert J                  & male                                  & 34.18                                 & 0                                     & 0                                     & 138                                   &  0                                    & NA                                    & S                                    \\\\\n",
       "\t807 &  807                                  & No                                    & 1st                                   & Andrews, Mr. Thomas Jr                & male                                  & 39.00                                 & 0                                     & 0                                     &  13                                   &  0                                    & A36                                   & S                                    \\\\\n",
       "\t816 &  816                                  & No                                    & 1st                                   & Fry, Mr. Richard                      & male                                  & 27.74                                 & 0                                     & 0                                     &  16                                   &  0                                    & B102                                  & S                                    \\\\\n",
       "\t823 &  823                                  & No                                    & 1st                                   & Reuchlin, Jonkheer. John George       & male                                  & 38.00                                 & 0                                     & 0                                     &  98                                   &  0                                    & NA                                    & S                                    \\\\\n",
       "\tNA &   NA                                  & NA                                    & NA                                    & NA                                    & NA                                    &    NA                                 & NA                                    & NA                                    &  NA                                   & NA                                    & NA                                    & NA                                   \\\\\n",
       "\t1158 & 1158                                  & NA                                    & 1st                                   & Chisholm, Mr. Roderick Robert Crispin & male                                  & 28.71                                 & 0                                     & 0                                     & 685                                   &  0                                    & NA                                    & S                                    \\\\\n",
       "\t1264 & 1264                                  & NA                                    & 1st                                   & Ismay, Mr. Joseph Bruce               & male                                  & 49.00                                 & 0                                     & 0                                     &  16                                   &  0                                    & B52 B54 B56                           & S                                    \\\\\n",
       "\\end{tabular}\n"
      ],
      "text/markdown": [
       "\n",
       "| <!--/--> | PassengerId | Survived | Pclass | Name | Sex | Age | SibSp | Parch | Ticket | Fare | Cabin | Embarked | \n",
       "|---|---|---|---|---|---|---|---|---|---|---|---|---|---|---|---|---|---|\n",
       "| 180 |  180                                  | No                                    | 3rd                                   | Leonard, Mr. Lionel                   | male                                  | 36.00                                 | 0                                     | 0                                     | 575                                   |  0                                    | NA                                    | S                                     | \n",
       "| 264 |  264                                  | No                                    | 1st                                   | Harrison, Mr. William                 | male                                  | 40.00                                 | 0                                     | 0                                     |  17                                   |  0                                    | B94                                   | S                                     | \n",
       "| 272 |  272                                  | Yes                                   | 3rd                                   | Tornquist, Mr. William Henry          | male                                  | 25.00                                 | 0                                     | 0                                     | 575                                   |  0                                    | NA                                    | S                                     | \n",
       "| 278 |  278                                  | No                                    | 2nd                                   | Parkes, Mr. Francis \"Frank\"           | male                                  | 31.10                                 | 0                                     | 0                                     | 136                                   |  0                                    | NA                                    | S                                     | \n",
       "| 303 |  303                                  | No                                    | 3rd                                   | Johnson, Mr. William Cahoone Jr       | male                                  | 19.00                                 | 0                                     | 0                                     | 575                                   |  0                                    | NA                                    | S                                     | \n",
       "| 414 |  414                                  | No                                    | 2nd                                   | Cunningham, Mr. Alfred Fleming        | male                                  | 33.03                                 | 0                                     | 0                                     | 136                                   |  0                                    | NA                                    | S                                     | \n",
       "| 467 |  467                                  | No                                    | 2nd                                   | Campbell, Mr. William                 | male                                  | 32.82                                 | 0                                     | 0                                     | 136                                   |  0                                    | NA                                    | S                                     | \n",
       "| 482 |  482                                  | No                                    | 2nd                                   | Frost, Mr. Anthony Wood \"Archie\"      | male                                  | 22.68                                 | 0                                     | 0                                     | 137                                   |  0                                    | NA                                    | S                                     | \n",
       "| 598 |  598                                  | No                                    | 3rd                                   | Johnson, Mr. Alfred                   | male                                  | 49.00                                 | 0                                     | 0                                     | 575                                   |  0                                    | NA                                    | S                                     | \n",
       "| 634 |  634                                  | No                                    | 1st                                   | Parr, Mr. William Henry Marsh         | male                                  | 33.11                                 | 0                                     | 0                                     |  14                                   |  0                                    | NA                                    | S                                     | \n",
       "| 675 |  675                                  | No                                    | 2nd                                   | Watson, Mr. Ennis Hastings            | male                                  | 28.37                                 | 0                                     | 0                                     | 139                                   |  0                                    | NA                                    | S                                     | \n",
       "| 733 |  733                                  | No                                    | 2nd                                   | Knight, Mr. Robert J                  | male                                  | 34.18                                 | 0                                     | 0                                     | 138                                   |  0                                    | NA                                    | S                                     | \n",
       "| 807 |  807                                  | No                                    | 1st                                   | Andrews, Mr. Thomas Jr                | male                                  | 39.00                                 | 0                                     | 0                                     |  13                                   |  0                                    | A36                                   | S                                     | \n",
       "| 816 |  816                                  | No                                    | 1st                                   | Fry, Mr. Richard                      | male                                  | 27.74                                 | 0                                     | 0                                     |  16                                   |  0                                    | B102                                  | S                                     | \n",
       "| 823 |  823                                  | No                                    | 1st                                   | Reuchlin, Jonkheer. John George       | male                                  | 38.00                                 | 0                                     | 0                                     |  98                                   |  0                                    | NA                                    | S                                     | \n",
       "| NA |   NA                                  | NA                                    | NA                                    | NA                                    | NA                                    |    NA                                 | NA                                    | NA                                    |  NA                                   | NA                                    | NA                                    | NA                                    | \n",
       "| 1158 | 1158                                  | NA                                    | 1st                                   | Chisholm, Mr. Roderick Robert Crispin | male                                  | 28.71                                 | 0                                     | 0                                     | 685                                   |  0                                    | NA                                    | S                                     | \n",
       "| 1264 | 1264                                  | NA                                    | 1st                                   | Ismay, Mr. Joseph Bruce               | male                                  | 49.00                                 | 0                                     | 0                                     |  16                                   |  0                                    | B52 B54 B56                           | S                                     | \n",
       "\n",
       "\n"
      ],
      "text/plain": [
       "     PassengerId Survived Pclass Name                                  Sex \n",
       "180   180        No       3rd    Leonard, Mr. Lionel                   male\n",
       "264   264        No       1st    Harrison, Mr. William                 male\n",
       "272   272        Yes      3rd    Tornquist, Mr. William Henry          male\n",
       "278   278        No       2nd    Parkes, Mr. Francis \"Frank\"           male\n",
       "303   303        No       3rd    Johnson, Mr. William Cahoone Jr       male\n",
       "414   414        No       2nd    Cunningham, Mr. Alfred Fleming        male\n",
       "467   467        No       2nd    Campbell, Mr. William                 male\n",
       "482   482        No       2nd    Frost, Mr. Anthony Wood \"Archie\"      male\n",
       "598   598        No       3rd    Johnson, Mr. Alfred                   male\n",
       "634   634        No       1st    Parr, Mr. William Henry Marsh         male\n",
       "675   675        No       2nd    Watson, Mr. Ennis Hastings            male\n",
       "733   733        No       2nd    Knight, Mr. Robert J                  male\n",
       "807   807        No       1st    Andrews, Mr. Thomas Jr                male\n",
       "816   816        No       1st    Fry, Mr. Richard                      male\n",
       "823   823        No       1st    Reuchlin, Jonkheer. John George       male\n",
       "NA     NA        NA       NA     NA                                    NA  \n",
       "1158 1158        NA       1st    Chisholm, Mr. Roderick Robert Crispin male\n",
       "1264 1264        NA       1st    Ismay, Mr. Joseph Bruce               male\n",
       "     Age   SibSp Parch Ticket Fare Cabin       Embarked\n",
       "180  36.00 0     0     575     0   NA          S       \n",
       "264  40.00 0     0      17     0   B94         S       \n",
       "272  25.00 0     0     575     0   NA          S       \n",
       "278  31.10 0     0     136     0   NA          S       \n",
       "303  19.00 0     0     575     0   NA          S       \n",
       "414  33.03 0     0     136     0   NA          S       \n",
       "467  32.82 0     0     136     0   NA          S       \n",
       "482  22.68 0     0     137     0   NA          S       \n",
       "598  49.00 0     0     575     0   NA          S       \n",
       "634  33.11 0     0      14     0   NA          S       \n",
       "675  28.37 0     0     139     0   NA          S       \n",
       "733  34.18 0     0     138     0   NA          S       \n",
       "807  39.00 0     0      13     0   A36         S       \n",
       "816  27.74 0     0      16     0   B102        S       \n",
       "823  38.00 0     0      98     0   NA          S       \n",
       "NA      NA NA    NA     NA    NA   NA          NA      \n",
       "1158 28.71 0     0     685     0   NA          S       \n",
       "1264 49.00 0     0      16     0   B52 B54 B56 S       "
      ]
     },
     "metadata": {},
     "output_type": "display_data"
    },
    {
     "data": {
      "text/html": [
       "<table>\n",
       "<thead><tr><th></th><th scope=col>PassengerId</th><th scope=col>Survived</th><th scope=col>Pclass</th><th scope=col>Name</th><th scope=col>Sex</th><th scope=col>Age</th><th scope=col>SibSp</th><th scope=col>Parch</th><th scope=col>Ticket</th><th scope=col>Fare</th><th scope=col>Cabin</th><th scope=col>Embarked</th></tr></thead>\n",
       "<tbody>\n",
       "\t<tr><th scope=row>1044</th><td>1044              </td><td>NA                </td><td>3rd               </td><td>Storey, Mr. Thomas</td><td>male              </td><td>60.5              </td><td>0                 </td><td>0                 </td><td>855               </td><td>NA                </td><td>NA                </td><td>S                 </td></tr>\n",
       "</tbody>\n",
       "</table>\n"
      ],
      "text/latex": [
       "\\begin{tabular}{r|llllllllllll}\n",
       "  & PassengerId & Survived & Pclass & Name & Sex & Age & SibSp & Parch & Ticket & Fare & Cabin & Embarked\\\\\n",
       "\\hline\n",
       "\t1044 & 1044               & NA                 & 3rd                & Storey, Mr. Thomas & male               & 60.5               & 0                  & 0                  & 855                & NA                 & NA                 & S                 \\\\\n",
       "\\end{tabular}\n"
      ],
      "text/markdown": [
       "\n",
       "| <!--/--> | PassengerId | Survived | Pclass | Name | Sex | Age | SibSp | Parch | Ticket | Fare | Cabin | Embarked | \n",
       "|---|\n",
       "| 1044 | 1044               | NA                 | 3rd                | Storey, Mr. Thomas | male               | 60.5               | 0                  | 0                  | 855                | NA                 | NA                 | S                  | \n",
       "\n",
       "\n"
      ],
      "text/plain": [
       "     PassengerId Survived Pclass Name               Sex  Age  SibSp Parch\n",
       "1044 1044        NA       3rd    Storey, Mr. Thomas male 60.5 0     0    \n",
       "     Ticket Fare Cabin Embarked\n",
       "1044 855    NA   NA    S       "
      ]
     },
     "metadata": {},
     "output_type": "display_data"
    }
   ],
   "source": [
    "df_train[df_train$Fare == 0,]\n",
    "df_train[is.na(df_train$Fare),]"
   ]
  },
  {
   "cell_type": "markdown",
   "metadata": {},
   "source": [
    "Reemplazemos estos valores con la mediana."
   ]
  },
  {
   "cell_type": "code",
   "execution_count": 90,
   "metadata": {
    "collapsed": false
   },
   "outputs": [],
   "source": [
    "df_train$Fare[which(df_train$Fare == 0)] <- median(df_train$Fare, na.rm = TRUE)\n",
    "df_train$Fare[which(is.na(df_train$Fare))] <- median(df_train$Fare, na.rm = TRUE)\n",
    "df_train$Fare[which(df_train$Fare > 300)] <- median(df_train$Fare, na.rm = TRUE)"
   ]
  },
  {
   "cell_type": "markdown",
   "metadata": {},
   "source": [
    "Ahora vemos que el mínimo es \\$3.17. Volvemos a graficar el histograma."
   ]
  },
  {
   "cell_type": "code",
   "execution_count": 91,
   "metadata": {
    "collapsed": false
   },
   "outputs": [
    {
     "data": {
      "text/plain": [
       "   Min. 1st Qu.  Median    Mean 3rd Qu.    Max. \n",
       "  3.171   7.925  14.450  31.950  31.000 263.000 "
      ]
     },
     "metadata": {},
     "output_type": "display_data"
    },
    {
     "data": {},
     "metadata": {},
     "output_type": "display_data"
    },
    {
     "data": {
      "image/png": "[encoded data removed]",
      "text/plain": [
       "plot without title"
      ]
     },
     "metadata": {},
     "output_type": "display_data"
    }
   ],
   "source": [
    "summary(df_train$Fare)\n",
    "ggplot(data = df_train, aes(x = Fare)) + geom_histogram(binwidth = 6, col=\"black\", fill=\"blue\", alpha = .2)"
   ]
  },
  {
   "cell_type": "markdown",
   "metadata": {},
   "source": [
    "### Atributo: Cabin\n",
    "Cabina."
   ]
  },
  {
   "cell_type": "code",
   "execution_count": 92,
   "metadata": {
    "collapsed": false
   },
   "outputs": [
    {
     "name": "stdout",
     "output_type": "stream",
     "text": [
      " Factor w/ 186 levels \"A10\",\"A14\",\"A16\",..: NA 82 NA 56 NA NA 130 NA NA NA ...\n"
     ]
    },
    {
     "data": {
      "text/html": [
       "<ol class=list-inline>\n",
       "\t<li>NA</li>\n",
       "\t<li>C85</li>\n",
       "\t<li>NA</li>\n",
       "\t<li>C123</li>\n",
       "\t<li>NA</li>\n",
       "\t<li>NA</li>\n",
       "</ol>\n"
      ],
      "text/latex": [
       "\\begin{enumerate*}\n",
       "\\item NA\n",
       "\\item C85\n",
       "\\item NA\n",
       "\\item C123\n",
       "\\item NA\n",
       "\\item NA\n",
       "\\end{enumerate*}\n"
      ],
      "text/markdown": [
       "1. NA\n",
       "2. C85\n",
       "3. NA\n",
       "4. C123\n",
       "5. NA\n",
       "6. NA\n",
       "\n",
       "\n"
      ],
      "text/plain": [
       "[1] <NA> C85  <NA> C123 <NA> <NA>\n",
       "186 Levels: A10 A14 A16 A19 A20 A23 A24 A26 A31 A32 A34 A36 A5 A6 A7 ... F E57"
      ]
     },
     "metadata": {},
     "output_type": "display_data"
    },
    {
     "data": {
      "text/plain": [
       "\n",
       "FALSE  TRUE \n",
       "  295  1014 "
      ]
     },
     "metadata": {},
     "output_type": "display_data"
    },
    {
     "data": {
      "text/plain": [
       "\n",
       "FALSE  TRUE \n",
       " 0.23  0.77 "
      ]
     },
     "metadata": {},
     "output_type": "display_data"
    }
   ],
   "source": [
    "str(df_train$Cabin)\n",
    "head(df_train$Cabin)\n",
    "\n",
    "table(is.na(df_train$Cabin))\n",
    "round(prop.table(table(is.na(df_train$Cabin)) * 100),2)"
   ]
  },
  {
   "cell_type": "markdown",
   "metadata": {},
   "source": [
    "#### Imputación: Cabin\n",
    "\n",
    "No vamos a imputar estos datos porque falta el 75%."
   ]
  },
  {
   "cell_type": "markdown",
   "metadata": {},
   "source": [
    "### Atributo: Embarked\n",
    "Embarque. (C = Cherbourg; Q = Queenstown; S = Southampton)"
   ]
  },
  {
   "cell_type": "code",
   "execution_count": 93,
   "metadata": {
    "collapsed": false
   },
   "outputs": [
    {
     "name": "stdout",
     "output_type": "stream",
     "text": [
      " Factor w/ 3 levels \"C\",\"Q\",\"S\": 3 1 3 3 3 2 3 3 3 1 ...\n"
     ]
    },
    {
     "data": {
      "text/plain": [
       "\n",
       "  C   Q   S \n",
       "270 123 914 "
      ]
     },
     "metadata": {},
     "output_type": "display_data"
    },
    {
     "data": {
      "text/plain": [
       "\n",
       "    C     Q     S \n",
       "20.66  9.41 69.93 "
      ]
     },
     "metadata": {},
     "output_type": "display_data"
    },
    {
     "data": {
      "text/plain": [
       "\n",
       "FALSE  TRUE \n",
       " 1307     2 "
      ]
     },
     "metadata": {},
     "output_type": "display_data"
    }
   ],
   "source": [
    "str(df_train$Embarked)\n",
    "\n",
    "df_train$Embarked[df_train$Embarked == \"\"] <- NA\n",
    "\n",
    "table(df_train$Embarked)\n",
    "round(prop.table(table(df_train$Embarked)) *100, 2)\n",
    "\n",
    "table(is.na(df_train$Embarked))"
   ]
  },
  {
   "cell_type": "markdown",
   "metadata": {},
   "source": [
    "#### Imputación: Embarked\n",
    "\n",
    "Hay dos pasajeros que no tienen una Embarque asignado. Así que les asignaremos el valor más común que es S."
   ]
  },
  {
   "cell_type": "code",
   "execution_count": 94,
   "metadata": {
    "collapsed": false
   },
   "outputs": [],
   "source": [
    "idx <- which(is.na(df_train$Embarked))\n",
    "df_train$Embarked[idx] <- \"S\"\n",
    "df_train$Embarked <- factor(df_train$Embarked)"
   ]
  },
  {
   "cell_type": "code",
   "execution_count": 95,
   "metadata": {
    "collapsed": false
   },
   "outputs": [
    {
     "data": {},
     "metadata": {},
     "output_type": "display_data"
    },
    {
     "data": {
      "image/png": "[encoded data removed]",
      "text/plain": [
       "plot without title"
      ]
     },
     "metadata": {},
     "output_type": "display_data"
    }
   ],
   "source": [
    "ggplot(data = df_train, aes(x = Embarked)) + \n",
    "    geom_bar(col=\"black\", fill=\"blue\", alpha = .2) + \n",
    "    ggtitle('Atributo: Embarked') + \n",
    "    xlab('') + \n",
    "    ylab('No. de pasajeros')"
   ]
  },
  {
   "cell_type": "markdown",
   "metadata": {},
   "source": [
    "El 70% de los pasajeros partieron del mismo puerto."
   ]
  },
  {
   "cell_type": "markdown",
   "metadata": {},
   "source": [
    "***  \n",
    "### Construcción de nuevos atributos\n",
    "A partir de los atributos que ya tenemos construiremos nuevos atributos que nos pueden sumar poder predictivo a nuestro modelo."
   ]
  },
  {
   "cell_type": "markdown",
   "metadata": {},
   "source": [
    "### Atributo: Title\n",
    "Vamos a extraer el título honorífico de cada pasajero/tripulante y utilizarlo como un nuevo atributo."
   ]
  },
  {
   "cell_type": "code",
   "execution_count": 96,
   "metadata": {
    "collapsed": false
   },
   "outputs": [
    {
     "data": {
      "text/html": [
       "<ol class=list-inline>\n",
       "\t<li>'Mr'</li>\n",
       "\t<li>'Mrs'</li>\n",
       "\t<li>'Miss'</li>\n",
       "\t<li>'Master'</li>\n",
       "\t<li>'Don'</li>\n",
       "\t<li>'Rev'</li>\n",
       "\t<li>'Dr'</li>\n",
       "\t<li>'Mme'</li>\n",
       "\t<li>'Ms'</li>\n",
       "\t<li>'Major'</li>\n",
       "\t<li>'Lady'</li>\n",
       "\t<li>'Sir'</li>\n",
       "\t<li>'Mlle'</li>\n",
       "\t<li>'Col'</li>\n",
       "\t<li>'Capt'</li>\n",
       "\t<li>'the Countess'</li>\n",
       "\t<li>'Jonkheer'</li>\n",
       "\t<li>'Dona'</li>\n",
       "</ol>\n"
      ],
      "text/latex": [
       "\\begin{enumerate*}\n",
       "\\item 'Mr'\n",
       "\\item 'Mrs'\n",
       "\\item 'Miss'\n",
       "\\item 'Master'\n",
       "\\item 'Don'\n",
       "\\item 'Rev'\n",
       "\\item 'Dr'\n",
       "\\item 'Mme'\n",
       "\\item 'Ms'\n",
       "\\item 'Major'\n",
       "\\item 'Lady'\n",
       "\\item 'Sir'\n",
       "\\item 'Mlle'\n",
       "\\item 'Col'\n",
       "\\item 'Capt'\n",
       "\\item 'the Countess'\n",
       "\\item 'Jonkheer'\n",
       "\\item 'Dona'\n",
       "\\end{enumerate*}\n"
      ],
      "text/markdown": [
       "1. 'Mr'\n",
       "2. 'Mrs'\n",
       "3. 'Miss'\n",
       "4. 'Master'\n",
       "5. 'Don'\n",
       "6. 'Rev'\n",
       "7. 'Dr'\n",
       "8. 'Mme'\n",
       "9. 'Ms'\n",
       "10. 'Major'\n",
       "11. 'Lady'\n",
       "12. 'Sir'\n",
       "13. 'Mlle'\n",
       "14. 'Col'\n",
       "15. 'Capt'\n",
       "16. 'the Countess'\n",
       "17. 'Jonkheer'\n",
       "18. 'Dona'\n",
       "\n",
       "\n"
      ],
      "text/plain": [
       " [1] \"Mr\"           \"Mrs\"          \"Miss\"         \"Master\"       \"Don\"         \n",
       " [6] \"Rev\"          \"Dr\"           \"Mme\"          \"Ms\"           \"Major\"       \n",
       "[11] \"Lady\"         \"Sir\"          \"Mlle\"         \"Col\"          \"Capt\"        \n",
       "[16] \"the Countess\" \"Jonkheer\"     \"Dona\"        "
      ]
     },
     "metadata": {},
     "output_type": "display_data"
    },
    {
     "data": {
      "text/html": [
       "18"
      ],
      "text/latex": [
       "18"
      ],
      "text/markdown": [
       "18"
      ],
      "text/plain": [
       "[1] 18"
      ]
     },
     "metadata": {},
     "output_type": "display_data"
    },
    {
     "data": {
      "text/plain": [
       "\n",
       "        Capt          Col          Don         Dona           Dr     Jonkheer \n",
       "           1            4            1            1            8            1 \n",
       "        Lady        Major       Master         Miss         Mlle          Mme \n",
       "           1            2           61          260            2            1 \n",
       "          Mr          Mrs           Ms          Rev          Sir the Countess \n",
       "         757          197            2            8            1            1 "
      ]
     },
     "metadata": {},
     "output_type": "display_data"
    }
   ],
   "source": [
    "df_train$Title <- gsub(\"(.*, )|(\\\\..*)\", \"\", df_train$Name)\n",
    "unique(df_train$Title)\n",
    "length(unique(df_train$Title))\n",
    "table(df_train$Title)\n",
    "\n",
    "df_train$Title <- as.factor(df_train$Title)"
   ]
  },
  {
   "cell_type": "markdown",
   "metadata": {},
   "source": [
    "Tenemos 18 titulos honoríficos diferentes. La mayor parte corresponde a Mr. Mrs. y Miss. Hay varios titulos un tanto inusuales así que podríamos convertirlos a los titulos más comunes. Mme (Madame) y Mlle (Mademoiselle) son bastantes similares así que podríamos tomar como uno solo.\n",
    "Para los hombres tenemos titulos menos usuales como: Captain, Don, Major y Sir.\n",
    "Para las mujeres tenemos, Dona, Lady, Johnkeer and the Countess."
   ]
  },
  {
   "cell_type": "code",
   "execution_count": 97,
   "metadata": {
    "collapsed": false
   },
   "outputs": [
    {
     "data": {
      "text/plain": [
       "\n",
       "   Col     Dr   Lady Master   Miss   Mlle     Mr    Mrs     Ms    Rev    Sir \n",
       "     4      8      4     61    260      3    757    197      2      8      5 "
      ]
     },
     "metadata": {},
     "output_type": "display_data"
    }
   ],
   "source": [
    "df_train$Title[df_train$Title %in% c('Mme', 'Mlle')] <- 'Mlle'\n",
    "df_train$Title[df_train$Title %in% c('Capt', 'Don', 'Major', 'Sir')] <- 'Sir'\n",
    "df_train$Title[df_train$Title %in% c('Dona', 'Lady', 'the Countess', 'Jonkheer')] <- 'Lady'\n",
    "\n",
    "df_train$Title <- factor(df_train$Title)\n",
    "\n",
    "table(df_train$Title)"
   ]
  },
  {
   "cell_type": "code",
   "execution_count": 98,
   "metadata": {
    "collapsed": false
   },
   "outputs": [
    {
     "data": {},
     "metadata": {},
     "output_type": "display_data"
    },
    {
     "data": {
      "image/png": "[encoded data removed]",
      "text/plain": [
       "plot without title"
      ]
     },
     "metadata": {},
     "output_type": "display_data"
    }
   ],
   "source": [
    "ggplot(data = df_train, aes(x = Title)) + \n",
    "    geom_bar(col=\"black\", fill=\"blue\", alpha = .2) + \n",
    "    ggtitle('Atributo: Title') + \n",
    "    xlab('') + \n",
    "    ylab('No. de pasajeros') + \n",
    "    theme(axis.text.x = element_text(angle = 90, hjust = 1, vjust = 0.4))"
   ]
  },
  {
   "cell_type": "markdown",
   "metadata": {},
   "source": [
    "### Atributo: AgeD (Discretización de la edad)\n",
    "A partir de la edad vamos a obtener rangos de cada uno. Esto nos puede dar una mejor visión de la política: Niños y mujeres primero, con respecto a la prioridad en los botes salvavidas.\n",
    "\n",
    "Ahora discreticemos el atributo Age de la siguiente forma:\n",
    "1. Niño: entre 0 y 18 años\n",
    "2. Adulto: entre 18 y 50 años\n",
    "4. Anciano: mayor a 50 años"
   ]
  },
  {
   "cell_type": "code",
   "execution_count": 99,
   "metadata": {
    "collapsed": false
   },
   "outputs": [
    {
     "data": {
      "text/plain": [
       "\n",
       "  Adult   Child Elderly \n",
       "   1006     193     110 "
      ]
     },
     "metadata": {},
     "output_type": "display_data"
    },
    {
     "data": {
      "text/plain": [
       "\n",
       "  Adult   Child Elderly \n",
       "  76.85   14.74    8.40 "
      ]
     },
     "metadata": {},
     "output_type": "display_data"
    }
   ],
   "source": [
    "df_train$AgeD[df_train$Age >= 0] <- \"Child\"\n",
    "df_train$AgeD[df_train$Age > 18] <- \"Adult\"\n",
    "df_train$AgeD[df_train$Age >= 50] <- \"Elderly\"\n",
    "\n",
    "df_train$AgeD <- factor(df_train$AgeD)\n",
    "\n",
    "table(df_train$AgeD)\n",
    "round(prop.table(table(df_train$AgeD)) * 100,2)\n"
   ]
  },
  {
   "cell_type": "code",
   "execution_count": 100,
   "metadata": {
    "collapsed": false
   },
   "outputs": [
    {
     "data": {},
     "metadata": {},
     "output_type": "display_data"
    },
    {
     "data": {
      "image/png": "[encoded data removed]",
      "text/plain": [
       "plot without title"
      ]
     },
     "metadata": {},
     "output_type": "display_data"
    }
   ],
   "source": [
    "ggplot(data = df_train, aes(x = AgeD)) + \n",
    "    geom_bar(col=\"black\", fill=\"blue\", alpha = .2) + \n",
    "    ggtitle('Atributo: Edad') + \n",
    "    xlab('') + \n",
    "    ylab('No. de pasajeros') + \n",
    "    theme(axis.text.x = element_text(angle = 90, hjust = 1, vjust = 0.4))   "
   ]
  },
  {
   "cell_type": "markdown",
   "metadata": {},
   "source": [
    "3/4 de los pasajeros/tripulantes eran adultos."
   ]
  },
  {
   "cell_type": "markdown",
   "metadata": {},
   "source": [
    "### Atributo: Family\n",
    "A partir de los atributos SibSp y Parch podemos estimar el tamaño de la familia del pasajero."
   ]
  },
  {
   "cell_type": "code",
   "execution_count": 101,
   "metadata": {
    "collapsed": false
   },
   "outputs": [
    {
     "data": {
      "text/plain": [
       "\n",
       "  3   4   5   6   7   8   9  10  11 \n",
       "790 235 159  43  22  25  16   8  11 "
      ]
     },
     "metadata": {},
     "output_type": "display_data"
    },
    {
     "data": {
      "text/plain": [
       "\n",
       "    3     4     5     6     7     8     9    10    11 \n",
       "60.35 17.95 12.15  3.28  1.68  1.91  1.22  0.61  0.84 "
      ]
     },
     "metadata": {},
     "output_type": "display_data"
    }
   ],
   "source": [
    "df_train$Family <- as.integer(df_train$SibSp) + as.integer(df_train$Parch) + 1\n",
    "df_train$Family <- factor(df_train$Family)\n",
    "\n",
    "table(df_train$Family)\n",
    "round(prop.table(table(df_train$Family)) * 100, 2)"
   ]
  },
  {
   "cell_type": "markdown",
   "metadata": {},
   "source": [
    "Como vemos tenemos familia a partir de 3 hasta 11. Discretizaremos en rangos estos valores."
   ]
  },
  {
   "cell_type": "code",
   "execution_count": 102,
   "metadata": {
    "collapsed": false
   },
   "outputs": [
    {
     "data": {
      "text/plain": [
       "\n",
       " Large Medium  Small \n",
       "    11    114   1184 "
      ]
     },
     "metadata": {},
     "output_type": "display_data"
    }
   ],
   "source": [
    "df_train$FamilySize <- NULL\n",
    "df_train$Family <- as.integer(df_train$Family)\n",
    "\n",
    "df_train$FamilySize[df_train$Family > 0] <- \"Small\"\n",
    "df_train$FamilySize[df_train$Family >= 4] <- \"Medium\"\n",
    "df_train$FamilySize[df_train$Family > 8] <- \"Large\"\n",
    "\n",
    "df_train$FamilySize <- factor(df_train$FamilySize)\n",
    "\n",
    "table(df_train$FamilySize)"
   ]
  },
  {
   "cell_type": "code",
   "execution_count": 103,
   "metadata": {
    "collapsed": false
   },
   "outputs": [
    {
     "data": {},
     "metadata": {},
     "output_type": "display_data"
    },
    {
     "data": {
      "image/png": "[encoded data removed]",
      "text/plain": [
       "plot without title"
      ]
     },
     "metadata": {},
     "output_type": "display_data"
    }
   ],
   "source": [
    "ggplot(data = df_train, aes(x = FamilySize)) + \n",
    "    geom_bar(col=\"black\", fill=\"blue\", alpha = .2) + \n",
    "    ggtitle('Atributo: Family Size') + \n",
    "    xlab('') + \n",
    "    ylab('No. de pasajeros') + \n",
    "    theme(axis.text.x = element_text(angle = 90, hjust = 1, vjust = 0.4))"
   ]
  },
  {
   "cell_type": "markdown",
   "metadata": {},
   "source": [
    "### Atributo: Deck\n",
    "La cabina de cada pasajero está compuesto por una letra que corresponde a la cubierta seguido del número de cabina. Ahora vamos a extraer la cubierta del atributo cabina porque quizás sea un buen predictor.\n",
    "Hay pasajeros que tienen asignados tres cabinas por ej. C23 C25 C27, pero la cubierta se mantiene consistente así que de todas formas vamos a extraer el primer caracter."
   ]
  },
  {
   "cell_type": "code",
   "execution_count": 104,
   "metadata": {
    "collapsed": false
   },
   "outputs": [
    {
     "data": {
      "text/html": [
       "<ol class=list-inline>\n",
       "\t<li>C85</li>\n",
       "\t<li>C123</li>\n",
       "\t<li>E46</li>\n",
       "\t<li>G6</li>\n",
       "\t<li>C103</li>\n",
       "\t<li>D56</li>\n",
       "\t<li>A6</li>\n",
       "\t<li>C23 C25 C27</li>\n",
       "\t<li>B78</li>\n",
       "\t<li>D33</li>\n",
       "</ol>\n"
      ],
      "text/latex": [
       "\\begin{enumerate*}\n",
       "\\item C85\n",
       "\\item C123\n",
       "\\item E46\n",
       "\\item G6\n",
       "\\item C103\n",
       "\\item D56\n",
       "\\item A6\n",
       "\\item C23 C25 C27\n",
       "\\item B78\n",
       "\\item D33\n",
       "\\end{enumerate*}\n"
      ],
      "text/markdown": [
       "1. C85\n",
       "2. C123\n",
       "3. E46\n",
       "4. G6\n",
       "5. C103\n",
       "6. D56\n",
       "7. A6\n",
       "8. C23 C25 C27\n",
       "9. B78\n",
       "10. D33\n",
       "\n",
       "\n"
      ],
      "text/plain": [
       " [1] C85         C123        E46         G6          C103        D56        \n",
       " [7] A6          C23 C25 C27 B78         D33        \n",
       "186 Levels: A10 A14 A16 A19 A20 A23 A24 A26 A31 A32 A34 A36 A5 A6 A7 ... F E57"
      ]
     },
     "metadata": {},
     "output_type": "display_data"
    }
   ],
   "source": [
    "head(df_train$Cabin[!is.na(df_train$Cabin)], 10)"
   ]
  },
  {
   "cell_type": "code",
   "execution_count": 105,
   "metadata": {
    "collapsed": false
   },
   "outputs": [
    {
     "data": {
      "text/plain": [
       "\n",
       " A  B  C  D  E  F  G  T \n",
       "22 65 94 46 41 21  5  1 "
      ]
     },
     "metadata": {},
     "output_type": "display_data"
    }
   ],
   "source": [
    "df_train$Deck <- substring(df_train$Cabin, 1, 1)\n",
    "df_train$Deck <- factor(df_train$Deck)\n",
    "\n",
    "table(df_train$Deck)"
   ]
  },
  {
   "cell_type": "code",
   "execution_count": 106,
   "metadata": {
    "collapsed": false
   },
   "outputs": [
    {
     "data": {},
     "metadata": {},
     "output_type": "display_data"
    },
    {
     "data": {
      "image/png": "[encoded data removed]",
      "text/plain": [
       "plot without title"
      ]
     },
     "metadata": {},
     "output_type": "display_data"
    }
   ],
   "source": [
    "ggplot(data = subset(df_train, !is.na(Deck)), aes(x = Deck)) + \n",
    "    geom_bar(col=\"black\", fill=\"blue\", alpha = .2) + \n",
    "    ggtitle('Atributo: Deck') + \n",
    "    xlab('') + \n",
    "    ylab('No. de pasajeros') + \n",
    "    theme(axis.text.x = element_text(angle = 90, hjust = 1, vjust = 0.4))"
   ]
  },
  {
   "cell_type": "markdown",
   "metadata": {},
   "source": [
    "### Atributo: WomanOrChild\n",
    "Construiremos un atributo que indica si el pasajero era mujer o niño, es decir, tenía prioridad con respecto a los botes salvavidas."
   ]
  },
  {
   "cell_type": "code",
   "execution_count": 107,
   "metadata": {
    "collapsed": true
   },
   "outputs": [],
   "source": [
    "df_train$WomanOrChild <- ifelse(df_train$Sex == 'female' | df_train$AgeD == \"Child\", \"Yes\", \"No\")\n",
    "\n",
    "df_train$WomanOrChild <- factor(df_train$WomanOrChild)"
   ]
  },
  {
   "cell_type": "code",
   "execution_count": 108,
   "metadata": {
    "collapsed": false
   },
   "outputs": [
    {
     "data": {},
     "metadata": {},
     "output_type": "display_data"
    },
    {
     "data": {
      "image/png": "[encoded data removed]",
      "text/plain": [
       "plot without title"
      ]
     },
     "metadata": {},
     "output_type": "display_data"
    }
   ],
   "source": [
    "ggplot(df_train, aes(x = WomanOrChild)) + \n",
    "    geom_bar(col=\"black\", fill=\"blue\", alpha = .2) + \n",
    "    ggtitle('Atributo: WomanOrChild') + \n",
    "    xlab('') + \n",
    "    ylab('No. de pasajeros') + \n",
    "    theme(axis.text.x = element_text(angle = 90, hjust = 1, vjust = 0.4))"
   ]
  },
  {
   "cell_type": "markdown",
   "metadata": {},
   "source": [
    "*** \n",
    "\n",
    "### Análisis multivariado\n",
    "\n",
    "Ahora veremos como se relacionan las variables entre sí para encontrar correlaciones."
   ]
  },
  {
   "cell_type": "code",
   "execution_count": 109,
   "metadata": {
    "collapsed": false
   },
   "outputs": [
    {
     "name": "stdout",
     "output_type": "stream",
     "text": [
      "'data.frame':\t1309 obs. of  18 variables:\n",
      " $ PassengerId : int  1 2 3 4 5 6 7 8 9 10 ...\n",
      " $ Survived    : Factor w/ 2 levels \"No\",\"Yes\": 1 2 2 2 1 1 1 1 2 2 ...\n",
      " $ Pclass      : Factor w/ 3 levels \"1st\",\"2nd\",\"3rd\": 3 1 3 1 3 3 1 3 3 2 ...\n",
      " $ Name        : Factor w/ 1307 levels \"Abbing, Mr. Anthony\",..: 109 191 358 277 16 559 520 629 417 581 ...\n",
      " $ Sex         : Factor w/ 2 levels \"female\",\"male\": 2 1 1 1 2 2 2 2 1 1 ...\n",
      " $ Age         : num  22 38 26 35 35 ...\n",
      " $ SibSp       : Factor w/ 7 levels \"0\",\"1\",\"2\",\"3\",..: 2 2 1 2 1 1 1 4 1 2 ...\n",
      " $ Parch       : Factor w/ 8 levels \"0\",\"1\",\"2\",\"3\",..: 1 1 1 1 1 1 1 2 3 1 ...\n",
      " $ Ticket      : int  524 597 670 50 473 276 86 396 345 133 ...\n",
      " $ Fare        : num  7.25 71.28 7.92 53.1 8.05 ...\n",
      " $ Cabin       : Factor w/ 186 levels \"A10\",\"A14\",\"A16\",..: NA 82 NA 56 NA NA 130 NA NA NA ...\n",
      " $ Embarked    : Factor w/ 3 levels \"C\",\"Q\",\"S\": 3 1 3 3 3 2 3 3 3 1 ...\n",
      " $ Title       : Factor w/ 11 levels \"Col\",\"Dr\",\"Lady\",..: 7 8 5 8 7 7 7 4 8 8 ...\n",
      " $ AgeD        : Factor w/ 3 levels \"Adult\",\"Child\",..: 1 1 1 1 1 1 3 2 1 2 ...\n",
      " $ Family      : int  2 2 1 2 1 1 1 5 3 2 ...\n",
      " $ FamilySize  : Factor w/ 3 levels \"Large\",\"Medium\",..: 3 3 3 3 3 3 3 2 3 3 ...\n",
      " $ Deck        : Factor w/ 8 levels \"A\",\"B\",\"C\",\"D\",..: NA 3 NA 3 NA NA 5 NA NA NA ...\n",
      " $ WomanOrChild: Factor w/ 2 levels \"No\",\"Yes\": 1 2 2 2 1 1 1 2 2 2 ...\n"
     ]
    }
   ],
   "source": [
    "str(df_train)"
   ]
  },
  {
   "cell_type": "markdown",
   "metadata": {},
   "source": [
    "### Atributos: Pclass vs. AgeD"
   ]
  },
  {
   "cell_type": "code",
   "execution_count": 110,
   "metadata": {
    "collapsed": false
   },
   "outputs": [
    {
     "data": {},
     "metadata": {},
     "output_type": "display_data"
    },
    {
     "data": {
      "image/png": "[encoded data removed]",
      "text/plain": [
       "plot without title"
      ]
     },
     "metadata": {},
     "output_type": "display_data"
    }
   ],
   "source": [
    "ggplot(data = subset(df_train, !is.na(Survived)), aes(Survived, ..count..)) + \n",
    "    geom_bar(col=\"black\", fill=\"blue\", alpha = .2, position = \"dodge\") +\n",
    "    ggtitle(\"Sobrevivientes según clase social y edad\") +\n",
    "    facet_grid(Pclass ~ AgeD)"
   ]
  },
  {
   "cell_type": "markdown",
   "metadata": {},
   "source": [
    "    Podemos ver que los que tuvieron menos suerte son los adultos pertenecientes a la tercera clase.\n",
    "    Los niños que pertenecían a la primera clase fueron más afortunados que los demás."
   ]
  },
  {
   "cell_type": "markdown",
   "metadata": {},
   "source": [
    "### Atributos: Pclass vs. Sex"
   ]
  },
  {
   "cell_type": "code",
   "execution_count": 111,
   "metadata": {
    "collapsed": false
   },
   "outputs": [
    {
     "data": {},
     "metadata": {},
     "output_type": "display_data"
    },
    {
     "data": {
      "image/png": "[encoded data removed]",
      "text/plain": [
       "plot without title"
      ]
     },
     "metadata": {},
     "output_type": "display_data"
    }
   ],
   "source": [
    "ggplot(data = subset(df_train, !is.na(Survived)), aes(Survived, ..count..)) + \n",
    "    geom_bar(col=\"black\", fill=\"blue\", alpha = .2, position = \"dodge\") +\n",
    "    ggtitle(\"Sobrevivientes según clase social y sexo\") +\n",
    "    facet_grid(Pclass ~ Sex)"
   ]
  },
  {
   "cell_type": "markdown",
   "metadata": {},
   "source": [
    "    Es mucho mayor la proporción de mujeres que sobrevivieron en todas las clases, esto es debido a la prioridad que tenían las mujeres para subirse a los botes salvavidas.\n",
    "    Las mujeres de tercera clase tuvieron fueron menos afortunadas.\n",
    "    En la segunda clase sobrevivieron muy pocos hombres."
   ]
  },
  {
   "cell_type": "markdown",
   "metadata": {},
   "source": [
    "### Atributos: AgeD vs. Sex"
   ]
  },
  {
   "cell_type": "code",
   "execution_count": 112,
   "metadata": {
    "collapsed": false
   },
   "outputs": [
    {
     "data": {},
     "metadata": {},
     "output_type": "display_data"
    },
    {
     "data": {
      "image/png": "[encoded data removed]",
      "text/plain": [
       "plot without title"
      ]
     },
     "metadata": {},
     "output_type": "display_data"
    }
   ],
   "source": [
    "ggplot(data = subset(df_train, !is.na(Survived)), aes(Survived, ..count..)) + \n",
    "    geom_bar(col=\"black\", fill=\"blue\", alpha = .2, position = \"dodge\") +\n",
    "    ggtitle(\"Sobrevivientes según edad y sexo\") +\n",
    "    facet_grid(AgeD ~ Sex)"
   ]
  },
  {
   "cell_type": "markdown",
   "metadata": {},
   "source": [
    "    Según la política de prioridad de mujeres y niños la columna \"female\" y la fila \"Child\" por el lado del \"No\" deberían ser más bajas que las del \"Yes\". No así cumpliendose para los niños donde la mayor parte no pudo sobrevivir.\n",
    "    Los ancianos tenían menos chances de sobrevivir siendo hombres."
   ]
  },
  {
   "cell_type": "markdown",
   "metadata": {},
   "source": [
    "### Atributos: Pclass vs FamilySize"
   ]
  },
  {
   "cell_type": "code",
   "execution_count": 113,
   "metadata": {
    "collapsed": false
   },
   "outputs": [
    {
     "data": {},
     "metadata": {},
     "output_type": "display_data"
    },
    {
     "data": {
      "image/png": "[encoded data removed]",
      "text/plain": [
       "plot without title"
      ]
     },
     "metadata": {},
     "output_type": "display_data"
    }
   ],
   "source": [
    "ggplot(data = subset(df_train, !is.na(Survived)), aes(Survived, ..count..)) + \n",
    "    geom_bar(col=\"black\", fill=\"blue\", alpha = .2, position = \"dodge\") +\n",
    "    ggtitle(\"Sobrevivientes según clase y\\ntamaño de familia\") +\n",
    "    facet_grid(Pclass ~ FamilySize)"
   ]
  },
  {
   "cell_type": "markdown",
   "metadata": {},
   "source": [
    "    En la tercera clase las familias más pequeñas tuvieron menos suerte. En cambio, en la segunda clase las familias medianas tuvieron mas chances de sobrevivir."
   ]
  },
  {
   "cell_type": "markdown",
   "metadata": {},
   "source": [
    "### Atributos: Pclass vs Deck"
   ]
  },
  {
   "cell_type": "code",
   "execution_count": 114,
   "metadata": {
    "collapsed": false
   },
   "outputs": [
    {
     "data": {},
     "metadata": {},
     "output_type": "display_data"
    },
    {
     "data": {
      "image/png": "[encoded data removed]",
      "text/plain": [
       "plot without title"
      ]
     },
     "metadata": {},
     "output_type": "display_data"
    }
   ],
   "source": [
    "df_temp <- subset(df_train, !is.na(Deck))\n",
    "ggplot(data = subset(df_temp, !is.na(Survived)), aes(Survived, ..count..)) + \n",
    "    geom_bar(col=\"black\", fill=\"blue\", alpha = .2, position = \"dodge\") +\n",
    "    ggtitle(\"Sobrevivientes según clase y cubierta\") +\n",
    "    facet_grid(Pclass ~ Deck)"
   ]
  },
  {
   "cell_type": "markdown",
   "metadata": {},
   "source": [
    "### Atributos: Pclass vs. Embarked"
   ]
  },
  {
   "cell_type": "code",
   "execution_count": 115,
   "metadata": {
    "collapsed": false
   },
   "outputs": [
    {
     "data": {},
     "metadata": {},
     "output_type": "display_data"
    },
    {
     "data": {
      "image/png": "[encoded data removed]",
      "text/plain": [
       "plot without title"
      ]
     },
     "metadata": {},
     "output_type": "display_data"
    }
   ],
   "source": [
    "ggplot(data = subset(df_train, !is.na(Survived)), aes(Survived, ..count..)) + \n",
    "    geom_bar(col=\"black\", fill=\"blue\", alpha = .2, position = \"dodge\") +\n",
    "    ggtitle(\"Sobrevivientes según clase y cubierta\") +\n",
    "    facet_grid(Pclass ~ Embarked)"
   ]
  },
  {
   "cell_type": "markdown",
   "metadata": {},
   "source": [
    "    En Cherbourg embarcaron más gente de primera clase. En cambio, en Southampton la amplia mayoría pertenecía a tercera clase."
   ]
  },
  {
   "cell_type": "markdown",
   "metadata": {},
   "source": [
    "### Atributos: Pclass vs. Title"
   ]
  },
  {
   "cell_type": "code",
   "execution_count": 116,
   "metadata": {
    "collapsed": false
   },
   "outputs": [
    {
     "data": {},
     "metadata": {},
     "output_type": "display_data"
    },
    {
     "data": {
      "image/png": "[encoded data removed]",
      "text/plain": [
       "plot without title"
      ]
     },
     "metadata": {},
     "output_type": "display_data"
    }
   ],
   "source": [
    "ggplot(data = subset(df_train, !is.na(Survived)), aes(Survived, ..count..)) + \n",
    "    geom_bar(col=\"black\", fill=\"blue\", alpha = .2, position = \"dodge\") +\n",
    "    ggtitle(\"Sobrevivientes según clase\\n y titulo honorífico\") +\n",
    "    facet_grid(Pclass ~ Title)"
   ]
  },
  {
   "cell_type": "markdown",
   "metadata": {},
   "source": [
    "### Atributos: Survived vs. Fare"
   ]
  },
  {
   "cell_type": "code",
   "execution_count": 117,
   "metadata": {
    "collapsed": false
   },
   "outputs": [
    {
     "data": {},
     "metadata": {},
     "output_type": "display_data"
    },
    {
     "data": {
      "image/png": "[encoded data removed]",
      "text/plain": [
       "plot without title"
      ]
     },
     "metadata": {},
     "output_type": "display_data"
    }
   ],
   "source": [
    "ggplot(data = subset(df_train, !is.na(Survived)), aes(x= Survived, y = Fare)) + \n",
    "    geom_boxplot() +\n",
    "    ggtitle(\"Sobrevivientes según tarifa del ticket\")"
   ]
  },
  {
   "cell_type": "markdown",
   "metadata": {},
   "source": [
    "### Atributos: Pclass vs. Fare"
   ]
  },
  {
   "cell_type": "code",
   "execution_count": 118,
   "metadata": {
    "collapsed": false
   },
   "outputs": [
    {
     "data": {},
     "metadata": {},
     "output_type": "display_data"
    },
    {
     "data": {
      "image/png": "[encoded data removed]",
      "text/plain": [
       "plot without title"
      ]
     },
     "metadata": {},
     "output_type": "display_data"
    }
   ],
   "source": [
    "ggplot(data = subset(df_train, !is.na(Survived)), aes(x= Survived, y = Fare)) + \n",
    "    geom_boxplot() +\n",
    "    ggtitle(\"Sobrevivientes según clase\\n y tarifa del ticket\") +\n",
    "    facet_grid(Pclass ~ Embarked)"
   ]
  },
  {
   "cell_type": "markdown",
   "metadata": {},
   "source": [
    "    Los tickets más caros eran los de primera clases obviamente, en especial de los que embarcaron en Cherbourg y Southampton."
   ]
  },
  {
   "cell_type": "markdown",
   "metadata": {},
   "source": [
    "### Atributos: Embarked vs FamilySize"
   ]
  },
  {
   "cell_type": "code",
   "execution_count": 119,
   "metadata": {
    "collapsed": false
   },
   "outputs": [
    {
     "data": {},
     "metadata": {},
     "output_type": "display_data"
    },
    {
     "data": {
      "image/png": "[encoded data removed]",
      "text/plain": [
       "plot without title"
      ]
     },
     "metadata": {},
     "output_type": "display_data"
    }
   ],
   "source": [
    "ggplot(data = df_train, aes(Pclass, ..count..)) + \n",
    "    geom_bar(col=\"black\", fill=\"blue\", alpha = .2, position = \"dodge\") +\n",
    "    ggtitle(\"Tamaño de familias según embarque\") +\n",
    "    facet_grid(Embarked ~ FamilySize)"
   ]
  },
  {
   "cell_type": "markdown",
   "metadata": {},
   "source": [
    "### Atributos: Pclass vs WomanOrChild"
   ]
  },
  {
   "cell_type": "code",
   "execution_count": 120,
   "metadata": {
    "collapsed": false
   },
   "outputs": [
    {
     "data": {},
     "metadata": {},
     "output_type": "display_data"
    },
    {
     "data": {
      "image/png": "[encoded data removed]",
      "text/plain": [
       "plot without title"
      ]
     },
     "metadata": {},
     "output_type": "display_data"
    }
   ],
   "source": [
    "ggplot(data = subset(df_train, !is.na(Survived)), aes(Survived, ..count..)) + \n",
    "    geom_bar(col=\"black\", fill=\"blue\", alpha = .2, position = \"dodge\") +\n",
    "    ggtitle(\"Sobrevivientes según política\\n mujeres y niños primero\") +\n",
    "    facet_grid(Pclass ~ WomanOrChild)"
   ]
  },
  {
   "cell_type": "markdown",
   "metadata": {},
   "source": [
    "    La prioridad de \"mujeres y niños primero\" se cumple para la primera y segunda clase, no así para la tercera clase donde la mayoría de las mujeres o niños no sobrevivieron.\n",
    "    De igual forma la mayoría de los pasajeros que no eran mujeres o niños no sobrevivieron al hundimiento."
   ]
  },
  {
   "cell_type": "markdown",
   "metadata": {},
   "source": [
    "*** \n",
    "## Preparación de datos"
   ]
  },
  {
   "cell_type": "markdown",
   "metadata": {},
   "source": [
    "#### Importancia de atributos"
   ]
  },
  {
   "cell_type": "code",
   "execution_count": 121,
   "metadata": {
    "collapsed": false
   },
   "outputs": [
    {
     "ename": "ERROR",
     "evalue": "Error in is.data.frame(data): objeto 'df.train' no encontrado\n",
     "output_type": "error",
     "traceback": [
      "Error in is.data.frame(data): objeto 'df.train' no encontrado\nTraceback:\n",
      "1. gain.ratio(Survived ~ ., data = df.train)",
      "2. information.gain.body(formula, data, type = \"gainratio\", unit)",
      "3. get.data.frame.from.formula(formula, data)",
      "4. model.frame(formula, data, na.action = NULL)",
      "5. model.frame.default(formula, data, na.action = NULL)",
      "6. is.data.frame(data)"
     ]
    }
   ],
   "source": [
    "#Attribute importance\n",
    "res <- gain.ratio(Survived ~ ., data = df.train)\n",
    "res"
   ]
  },
  {
   "cell_type": "code",
   "execution_count": null,
   "metadata": {
    "collapsed": false
   },
   "outputs": [],
   "source": [
    "str(df_train)"
   ]
  },
  {
   "cell_type": "code",
   "execution_count": null,
   "metadata": {
    "collapsed": false
   },
   "outputs": [],
   "source": [
    "dataset <- df_train[, c('Survived', 'Pclass', 'Sex', 'Fare', 'Embarked', 'Title', \n",
    "                         'AgeD', 'WomanOrChild', 'FamilySize')]\n",
    "str(dataset)"
   ]
  },
  {
   "cell_type": "code",
   "execution_count": null,
   "metadata": {
    "collapsed": false
   },
   "outputs": [],
   "source": [
    "df <- dataset[1:train.size, ]\n",
    "\n",
    "trainIndex <- createDataPartition(df$Survived, p = .8, list = FALSE, times = 1)\n",
    "df.train <- df[ trainIndex,]\n",
    "df.test  <- df[-trainIndex,]\n",
    "\n",
    "y <- df.test$Survived\n",
    "df.test$Survived <- NULL\n",
    "\n",
    "str(df.train)\n",
    "str(df.test)"
   ]
  },
  {
   "cell_type": "code",
   "execution_count": null,
   "metadata": {
    "collapsed": false
   },
   "outputs": [],
   "source": [
    "matrixplot(df.train, interactive = F, sortby = \"Survived\")"
   ]
  },
  {
   "cell_type": "markdown",
   "metadata": {},
   "source": [
    "*** \n",
    "## Modelado"
   ]
  },
  {
   "cell_type": "markdown",
   "metadata": {},
   "source": [
    "### Boosting algorithms\n",
    "Consiste en construir modelos (tipicamente del mismo tipo) en donde cada uno aprende a arreglar los errores de predicción a partir de un modelo anterior en la cadena.\n",
    "\n",
    "En primer lugar utilizaremos los algoritmos con boosting: C5.0 y Stochastic Gradient Boosting (gbm)"
   ]
  },
  {
   "cell_type": "code",
   "execution_count": null,
   "metadata": {
    "collapsed": false
   },
   "outputs": [],
   "source": [
    "#Inicializamos algunos parámetros\n",
    "control <- trainControl(method = \"repeatedcv\", number = 10, repeats = 3)\n",
    "seed <- 7\n",
    "metric <- \"Accuracy\"\n",
    "\n",
    "# C5.0\n",
    "set.seed(seed)\n",
    "fit.c50 <- train(Survived~., data=df.train, method=\"C5.0\", metric=metric, trControl=control)\n",
    "\n",
    "# Stochastic Gradient Boosting\n",
    "set.seed(seed)\n",
    "fit.gbm <- train(Survived~., data=df.train, method=\"gbm\", metric=metric, trControl=control, verbose=FALSE)\n",
    "\n",
    "# Resumen de resultados\n",
    "boosting_results <- resamples(list(c5.0=fit.c50, gbm=fit.gbm))\n",
    "summary(boosting_results)\n",
    "dotplot(boosting_results)"
   ]
  },
  {
   "cell_type": "markdown",
   "metadata": {},
   "source": [
    "#### Resultados en el test set"
   ]
  },
  {
   "cell_type": "code",
   "execution_count": null,
   "metadata": {
    "collapsed": false
   },
   "outputs": [],
   "source": [
    "predictions <- predict(fit.c50, df.test)\n",
    "mean(predictions == y)\n",
    "\n",
    "predictions <- predict(fit.gbm, df.test)\n",
    "mean(predictions == y)"
   ]
  },
  {
   "cell_type": "markdown",
   "metadata": {},
   "source": [
    "### Bagging algorithms\n",
    "Consiste en construir multiples modelos (tipicamente del mismo tipo) a partir de diferentes submuestras del conjunto de entrenamiento.\n",
    "\n",
    "Los algoritmos de bagging que vamos a utilizar son: Bagged CART y el popular Random Forest"
   ]
  },
  {
   "cell_type": "code",
   "execution_count": null,
   "metadata": {
    "collapsed": false
   },
   "outputs": [],
   "source": [
    "## Inicializamos algunos parámetros\n",
    "control <- trainControl(method = \"repeatedcv\", number = 10, repeats = 3)\n",
    "seed <- 7\n",
    "metric <- \"Accuracy\"\n",
    "\n",
    "# Bagged CART\n",
    "set.seed(seed)\n",
    "fit.treebag <- train(Survived~., data=df.train, method=\"treebag\", metric=metric, trControl=control)\n",
    "\n",
    "# Random Forest\n",
    "set.seed(seed)\n",
    "fit.rf <- train(Survived~., data=df.train, method=\"rf\", metric=metric, trControl=control)\n",
    "\n",
    "# Resumen de resultados\n",
    "bagging_results <- resamples(list(treebag=fit.treebag, rf=fit.rf))\n",
    "summary(bagging_results)\n",
    "dotplot(bagging_results)"
   ]
  },
  {
   "cell_type": "markdown",
   "metadata": {},
   "source": [
    "##### Resultados en el test set"
   ]
  },
  {
   "cell_type": "code",
   "execution_count": null,
   "metadata": {
    "collapsed": false
   },
   "outputs": [],
   "source": [
    "predictions <- predict(fit.treebag, df.test)\n",
    "mean(predictions == y)\n",
    "\n",
    "predictions <- predict(fit.rf, df.test)\n",
    "mean(predictions == y)"
   ]
  },
  {
   "cell_type": "markdown",
   "metadata": {},
   "source": [
    "### Stacking algorithms\n",
    "Consiste en construir multiples modelos (tipicamente de **distintos** tipos) y un modelo supervisor que aprende a combinar de la mejor forma las predicciones de los modelos primarios.\n",
    "\n",
    "Creamos 5 submodelos:\n",
    "1. Linear Discriminate Analysis (LDA)\n",
    "2. Classification and Regression Trees (CART)\n",
    "3. Logistic Regression (via Generalized Linear Model or GLM)\n",
    "4. k-Nearest Neighbors (kNN)\n",
    "5. Support Vector Machine with a Radial Basis Kernel Function (SVM)\n",
    "6. Generalized Boosted Regression Model (GBM)"
   ]
  },
  {
   "cell_type": "code",
   "execution_count": null,
   "metadata": {
    "collapsed": false
   },
   "outputs": [],
   "source": [
    "# Creamos los submodelos\n",
    "\n",
    "control <- trainControl(method=\"repeatedcv\", number=10, repeats=3, savePredictions=TRUE, classProbs=TRUE)\n",
    "algorithmList <- c('rpart', 'knn', 'treebag')\n",
    "set.seed(seed)\n",
    "models <- caretList(Survived ~ ., data=df.train, trControl=control, methodList=algorithmList)\n",
    "results <- resamples(models)\n",
    "summary(results)\n",
    "dotplot(results)"
   ]
  },
  {
   "cell_type": "markdown",
   "metadata": {},
   "source": [
    "Cuando combinamos las predicciones de diferentes modelos usando stacking, es deseable que las predicciones hechas por los submodelos tengan baja correlación. Esto nos sugiere que los modelos son hábiles pero en maneras diferentes, y permiten a un nuevo clasificador averiguar como obtener lo mejor de cada modelo para mejorar la puntuación.\n",
    "\n",
    "Si las predicciones de los submodelos están altamente correlacionadas (> 0.75) entonces realizarian las mismas predicciones (o muy similares) la mayoría de las veces reduciendo así los beneficios de combinar las predicciones."
   ]
  },
  {
   "cell_type": "code",
   "execution_count": null,
   "metadata": {
    "collapsed": false
   },
   "outputs": [],
   "source": [
    "# Correlaciones entre modelos\n",
    "modelCor(results)\n",
    "splom(results)"
   ]
  },
  {
   "cell_type": "markdown",
   "metadata": {},
   "source": [
    "### Predicciones en test set"
   ]
  },
  {
   "cell_type": "code",
   "execution_count": null,
   "metadata": {
    "collapsed": false
   },
   "outputs": [],
   "source": [
    "ll <- lapply(models, function(x) {\n",
    "    \n",
    "    predictions <- predict(x, df.test)\n",
    "    cat(x[['method']], \":\", round(mean(y == predictions)*100,2), '%\\n')\n",
    "    })\n",
    "\n",
    "invisible(ll)"
   ]
  },
  {
   "cell_type": "markdown",
   "metadata": {},
   "source": [
    "#### Stacking usando glm"
   ]
  },
  {
   "cell_type": "code",
   "execution_count": null,
   "metadata": {
    "collapsed": false
   },
   "outputs": [],
   "source": [
    "stackControl <- trainControl(method=\"repeatedcv\", number=10, repeats=3, savePredictions=TRUE, classProbs=TRUE)\n",
    "set.seed(seed)\n",
    "stack.glm <- caretStack(models, method=\"glm\", metric=\"Accuracy\", trControl=stackControl)\n",
    "print(stack.glm)"
   ]
  },
  {
   "cell_type": "code",
   "execution_count": null,
   "metadata": {
    "collapsed": false
   },
   "outputs": [],
   "source": [
    "predictions <- predict(stack.glm, df.test)\n",
    "mean(y == predictions)"
   ]
  },
  {
   "cell_type": "markdown",
   "metadata": {},
   "source": [
    "#### Stacking usando gbm"
   ]
  },
  {
   "cell_type": "code",
   "execution_count": null,
   "metadata": {
    "collapsed": false
   },
   "outputs": [],
   "source": [
    "stackControl <- trainControl(method=\"repeatedcv\", number=10, repeats=3, savePredictions=TRUE, classProbs=TRUE)\n",
    "set.seed(seed)\n",
    "stack.gbm <- caretStack(models, method=\"gbm\", metric=\"Accuracy\", trControl=stackControl)\n",
    "print(stack.gbm)"
   ]
  },
  {
   "cell_type": "code",
   "execution_count": null,
   "metadata": {
    "collapsed": false
   },
   "outputs": [],
   "source": [
    "predictions <- predict(stack.gbm, df.test)\n",
    "mean(predictions == y)"
   ]
  },
  {
   "cell_type": "markdown",
   "metadata": {},
   "source": [
    "### Conclusiones\n",
    "Los mejores puntajes en el leaderboar se obtuvieron con gbm simple."
   ]
  },
  {
   "cell_type": "code",
   "execution_count": null,
   "metadata": {
    "collapsed": false
   },
   "outputs": [],
   "source": [
    "fit.gbm"
   ]
  },
  {
   "cell_type": "markdown",
   "metadata": {},
   "source": [
    "*** \n",
    "## Submit"
   ]
  },
  {
   "cell_type": "code",
   "execution_count": null,
   "metadata": {
    "collapsed": false
   },
   "outputs": [],
   "source": [
    "test.csv <- dataset[pass.id,]\n",
    "test.csv$Survived <- NULL\n",
    "\n",
    "predictions <- predict(fit.gbm, test.csv)\n",
    "\n",
    "predictions <- ifelse(predictions == \"Yes\", 1, 0)\n",
    "\n",
    "submit <- data.frame(PassengerId = passId, Survived = predictions)\n",
    "write.csv(submit, file = \"submit.csv\", row.names = FALSE, quote = FALSE)"
   ]
  }
 ],
 "metadata": {
  "kernelspec": {
   "display_name": "R",
   "language": "R",
   "name": "ir"
  },
  "language_info": {
   "codemirror_mode": "r",
   "file_extension": ".r",
   "mimetype": "text/x-r-source",
   "name": "R",
   "pygments_lexer": "r",
   "version": "3.3.2"
  }
 },
 "nbformat": 4,
 "nbformat_minor": 0
}
