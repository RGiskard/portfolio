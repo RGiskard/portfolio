{
 "cells": [
  {
   "cell_type": "code",
   "execution_count": 3,
   "metadata": {
    "collapsed": true
   },
   "outputs": [],
   "source": [
    "options(scipen = 999, repr.plot.width=4, repr.plot.height= 4, warn = -1)"
   ]
  },
  {
   "cell_type": "code",
   "execution_count": 5,
   "metadata": {
    "collapsed": false
   },
   "outputs": [
    {
     "name": "stderr",
     "output_type": "stream",
     "text": [
      "Loading required package: colorspace\n",
      "Loading required package: grid\n",
      "Loading required package: data.table\n",
      "VIM is ready to use. \n",
      " Since version 4.0.0 the GUI is in its own package VIMGUI.\n",
      "\n",
      "          Please use the package to use the new (and old) GUI.\n",
      "\n",
      "Suggestions and bug-reports can be submitted at: https://github.com/alexkowa/VIM/issues\n",
      "\n",
      "Attaching package: 'VIM'\n",
      "\n",
      "The following object is masked from 'package:datasets':\n",
      "\n",
      "    sleep\n",
      "\n",
      "Loading required package: Rcpp\n",
      "mice 2.25 2015-11-09\n",
      "Loading required package: lattice\n",
      "\n",
      "Attaching package: 'caretEnsemble'\n",
      "\n",
      "The following object is masked from 'package:ggplot2':\n",
      "\n",
      "    autoplot\n",
      "\n",
      "Loading required package: survival\n",
      "\n",
      "Attaching package: 'survival'\n",
      "\n",
      "The following object is masked from 'package:caret':\n",
      "\n",
      "    cluster\n",
      "\n",
      "Loading required package: splines\n",
      "Loading required package: parallel\n",
      "Loaded gbm 2.1.1\n"
     ]
    }
   ],
   "source": [
    "list.of.packages <- c('ggplot2', 'VIM', 'mice', 'mlbench', 'caret', 'caretEnsemble', 'gbm', 'ipred')\n",
    "\n",
    "new.packages <- list.of.packages[!(list.of.packages %in% installed.packages()[,\"Package\"])]\n",
    "if(length(new.packages)) install.packages(new.packages, repos = \"https://cran.r-project.org\")\n",
    "\n",
    "library(ggplot2)\n",
    "library(VIM)\n",
    "library(mice)\n",
    "library(mlbench)\n",
    "library(caret)\n",
    "library(caretEnsemble)\n",
    "library(gbm)\n",
    "library(ipred)"
   ]
  },
  {
   "cell_type": "code",
   "execution_count": 17,
   "metadata": {
    "collapsed": true
   },
   "outputs": [],
   "source": [
    "df_train <- read.csv(\"train.csv\", na.strings = c(\"\", \"NA\"))\n",
    "df_test <- read.csv(\"test.csv\", na.strings = c(\"\", \"NA\"))\n",
    "\n",
    "id_pass <- df_test$PassengerId\n",
    "n <- nrow(df_train)\n",
    "\n",
    "df_test$Survived <- NA\n",
    "df_train <- rbind(df_train, df_test)\n",
    "\n",
    "df_train$Survived <- make.names(df_train$Survived)\n",
    "df_train$Survived[df_train$Survived == \"NA.\"] <- NA\n",
    "df_train$Survived <- as.factor(df_train$Survived)\n",
    "\n",
    "df_train$Pclass <- make.names(df_train$Pclass)\n",
    "df_train$Pclass[df_train$Pclass == \"NA.\"] <- NA\n",
    "df_train$Pclass <- as.factor(df_train$Pclass)\n",
    "\n",
    "df_train$Title <- gsub(\".*,\\\\s([a-zA-Z]+)..*\", \"\\\\1\", df_train$Name)\n",
    "idx <- which(df_train$Title == \"the\")\n",
    "df_train$Title[idx] <- 'Countess'\n",
    "df_train$Title <- make.names(df_train$Title)\n",
    "df_train$Title[df_train$Title == \"NA.\"] <- NA\n",
    "df_train$Title <- as.factor(df_train$Title)\n",
    "\n",
    "df_train$Sex <- make.names(df_train$Sex)\n",
    "df_train$Sex[df_train$Sex == \"NA.\"] <- NA\n",
    "df_train$Sex <- as.factor(df_train$Sex)\n",
    "\n",
    "df_train$AgeD <- \"Bebé\"\n",
    "df_train$AgeD[df_train$Age >= 3] <- \"Niño\"\n",
    "df_train$AgeD[df_train$Age >= 18] <- \"Adulto\"\n",
    "df_train$AgeD[df_train$Age >= 50] <- \"Anciano\"\n",
    "ages <- c(\"Bebé\", \"Niño\", \"Adulto\", \"Anciano\")\n",
    "df_train$AgeD <- make.names(df_train$AgeD)\n",
    "df_train$AgeD[df_train$AgeD == \"NA.\"] <- NA\n",
    "df_train$AgeD <- factor(df_train$AgeD, labels = ages, levels = ages)\n",
    "\n",
    "df_train$FamSize <- df_train$SibSp + df_train$Parch + 1\n",
    "df_train$FamSize <- make.names(df_train$FamSize)\n",
    "df_train$FamSize[df_train$FamSize == \"NA.\"] <- NA\n",
    "df_train$FamSize <- as.factor(df_train$FamSize)\n",
    "\n",
    "df_train$SibSp <- make.names(df_train$SibSp)\n",
    "df_train$SibSp[df_train$SibSp == \"NA.\"] <- NA\n",
    "df_train$SibSp <- as.factor(df_train$SibSp)\n",
    "\n",
    "df_train$Parch <- make.names(df_train$Parch)\n",
    "df_train$Parch[df_train$Parch == \"NA.\"] <- NA\n",
    "df_train$Parch <- as.factor(df_train$Parch)\n",
    "\n",
    "df_train$Fare[which(df_train$Fare == 0)] <- NA\n",
    "\n",
    "df_train$Deck <- substring(df_train$Cabin, 1, 1)\n",
    "df_train$Deck <- make.names(df_train$Deck)\n",
    "df_train$Deck[df_train$Deck == \"NA.\"] <- NA\n",
    "df_train$Deck <- as.factor(df_train$Deck)\n",
    "\n",
    "df_train$Embarked <- as.character(df_train$Embarked)\n",
    "df_train$Embarked <- make.names(df_train$Embarked)\n",
    "df_train$Embarked[df_train$Embarked == \"NA.\"] <- NA\n",
    "df_train$Embarked <- as.factor(df_train$Embarked)\n",
    "\n",
    "\n",
    "df_train[, c('PassengerId', 'Ticket', 'Name', 'Age', 'Cabin')] <- NULL"
   ]
  },
  {
   "cell_type": "code",
   "execution_count": 18,
   "metadata": {
    "collapsed": false
   },
   "outputs": [
    {
     "name": "stdout",
     "output_type": "stream",
     "text": [
      "\n",
      " iter imp variable\n",
      "  1   1  Survived  Fare  Embarked  Deck\n",
      "  2   1  Survived  Fare  Embarked  Deck\n",
      "  3   1  Survived  Fare  Embarked  Deck\n",
      "  4   1  Survived  Fare  Embarked  Deck\n",
      "  5   1  Survived  Fare  Embarked  Deck\n",
      "  6   1  Survived  Fare  Embarked  Deck\n",
      "  7   1  Survived  Fare  Embarked  Deck\n",
      "  8   1  Survived  Fare  Embarked  Deck\n",
      "  9   1  Survived  Fare  Embarked  Deck\n",
      "  10   1  Survived  Fare  Embarked  Deck\n",
      "  11   1  Survived  Fare  Embarked  Deck\n",
      "  12   1  Survived  Fare  Embarked  Deck\n",
      "  13   1  Survived  Fare  Embarked  Deck\n",
      "  14   1  Survived  Fare  Embarked  Deck\n",
      "  15   1  Survived  Fare  Embarked  Deck\n",
      "  16   1  Survived  Fare  Embarked  Deck\n",
      "  17   1  Survived  Fare  Embarked  Deck\n",
      "  18   1  Survived  Fare  Embarked  Deck\n",
      "  19   1  Survived  Fare  Embarked  Deck\n",
      "  20   1  Survived  Fare  Embarked  Deck\n",
      "  21   1  Survived  Fare  Embarked  Deck\n",
      "  22   1  Survived  Fare  Embarked  Deck\n",
      "  23   1  Survived  Fare  Embarked  Deck\n",
      "  24   1  Survived  Fare  Embarked  Deck\n",
      "  25   1  Survived  Fare  Embarked  Deck\n",
      "  26   1  Survived  Fare  Embarked  Deck\n",
      "  27   1  Survived  Fare  Embarked  Deck\n",
      "  28   1  Survived  Fare  Embarked  Deck\n",
      "  29   1  Survived  Fare  Embarked  Deck\n",
      "  30   1  Survived  Fare  Embarked  Deck\n",
      "  31   1  Survived  Fare  Embarked  Deck\n",
      "  32   1  Survived  Fare  Embarked  Deck\n",
      "  33   1  Survived  Fare  Embarked  Deck\n",
      "  34   1  Survived  Fare  Embarked  Deck\n",
      "  35   1  Survived  Fare  Embarked  Deck\n",
      "  36   1  Survived  Fare  Embarked  Deck\n",
      "  37   1  Survived  Fare  Embarked  Deck\n",
      "  38   1  Survived  Fare  Embarked  Deck\n",
      "  39   1  Survived  Fare  Embarked  Deck\n",
      "  40   1  Survived  Fare  Embarked  Deck\n",
      "  41   1  Survived  Fare  Embarked  Deck\n",
      "  42   1  Survived  Fare  Embarked  Deck\n",
      "  43   1  Survived  Fare  Embarked  Deck\n",
      "  44   1  Survived  Fare  Embarked  Deck\n",
      "  45   1  Survived  Fare  Embarked  Deck\n",
      "  46   1  Survived  Fare  Embarked  Deck\n",
      "  47   1  Survived  Fare  Embarked  Deck\n",
      "  48   1  Survived  Fare  Embarked  Deck\n",
      "  49   1  Survived  Fare  Embarked  Deck\n",
      "  50   1  Survived  Fare  Embarked  Deck\n"
     ]
    }
   ],
   "source": [
    "df_temp <- mice(df_train, m=1, maxit=50, meth='pmm', seed=500)\n",
    "dataset <- complete(df_temp,1)"
   ]
  },
  {
   "cell_type": "code",
   "execution_count": 20,
   "metadata": {
    "collapsed": false
   },
   "outputs": [],
   "source": [
    "control <- trainControl(method=\"repeatedcv\", number=10, repeats=3)\n",
    "seed <- 7\n",
    "metric <- \"Accuracy\"\n",
    "# C5.0\n",
    "set.seed(seed)\n",
    "fit.c50 <- train(Survived~., data=dataset, method=\"C5.0\", metric=metric, trControl=control)"
   ]
  },
  {
   "cell_type": "code",
   "execution_count": 21,
   "metadata": {
    "collapsed": true
   },
   "outputs": [],
   "source": [
    "df_test <- dataset[(n+1):nrow(dataset),]\n",
    "df_test$Survived <- NULL"
   ]
  },
  {
   "cell_type": "code",
   "execution_count": 45,
   "metadata": {
    "collapsed": false
   },
   "outputs": [],
   "source": [
    "predictions <- predict(fit.c50, df_test)\n",
    "\n",
    "predictions <- as.character(predictions)\n",
    "predictions <- substring(predictions, 2)"
   ]
  },
  {
   "cell_type": "code",
   "execution_count": 48,
   "metadata": {
    "collapsed": false
   },
   "outputs": [],
   "source": [
    "submit <- data.frame(PassengerId = id_pass, Survived = predictions)\n",
    "write.csv(submit, file = \"firstsubmit.csv\", row.names = FALSE, quote = FALSE)"
   ]
  },
  {
   "cell_type": "code",
   "execution_count": 44,
   "metadata": {
    "collapsed": false
   },
   "outputs": [
    {
     "name": "stdout",
     "output_type": "stream",
     "text": [
      " int [1:418] 892 893 894 895 896 897 898 899 900 901 ...\n",
      " int [1:418] 0 0 0 0 1 0 1 0 0 0 ...\n"
     ]
    }
   ],
   "source": [
    "str(id_pass)\n",
    "str(predictions)"
   ]
  }
 ],
 "metadata": {
  "kernelspec": {
   "display_name": "R",
   "language": "R",
   "name": "ir"
  },
  "language_info": {
   "codemirror_mode": "r",
   "file_extension": ".r",
   "mimetype": "text/x-r-source",
   "name": "R",
   "pygments_lexer": "r",
   "version": "3.3.2"
  }
 },
 "nbformat": 4,
 "nbformat_minor": 0
}
